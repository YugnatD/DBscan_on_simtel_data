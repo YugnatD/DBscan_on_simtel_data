{
 "cells": [
  {
   "cell_type": "code",
   "execution_count": 1,
   "id": "933522e5-c203-4cf0-b5ef-458ddb27cdf8",
   "metadata": {},
   "outputs": [],
   "source": [
    "from eventio import SimTelFile\n",
    "import pandas as pd\n",
    "import numpy as np\n",
    "import pickle as pkl\n",
    "import sys\n",
    "import time\n",
    "import matplotlib.pyplot as plt\n",
    "from sklearn.cluster import DBSCAN"
   ]
  },
  {
   "cell_type": "code",
   "execution_count": 2,
   "id": "ffd3d265-ea2d-477c-9eab-7dc35ec9b9ec",
   "metadata": {},
   "outputs": [],
   "source": [
    "def test(datafilein = \"../simtel_data/proton/data/corsika_run1.simtel.gz\"):\n",
    "    #\n",
    "    sf = SimTelFile(datafilein)\n",
    "    tic = time.time()\n",
    "    toc = time.time()\n",
    "    #\n",
    "    it_cout = 0\n",
    "    file_counter=0\n",
    "    first_evne_in_file=True\n",
    "    #\n",
    "    for ev in sf :\n",
    "        event_id = -999\n",
    "        #try :\n",
    "        #    event_id = ev['event_id']\n",
    "        #except:\n",
    "        #    event_id == -999\n",
    "\n",
    "        #if (it_cout%1000==0) :\n",
    "        #    toc = time.time()\n",
    "        #    print('{:10d} {:10d} {:10.2f} s'.format(it_cout, event_id, toc - tic))\n",
    "        #    tic = time.time()\n",
    "\n",
    "        if (it_cout%1000==0) :\n",
    "            toc = time.time()\n",
    "            print('{:10d} {:10.2f} s'.format(it_cout, toc - tic))\n",
    "            tic = time.time()\n",
    "        it_cout = it_cout + 1\n",
    "    \n",
    "    sf.close()"
   ]
  },
  {
   "cell_type": "code",
   "execution_count": 3,
   "id": "c429776f-280c-4c8a-9a96-bfb08d74f65c",
   "metadata": {},
   "outputs": [],
   "source": [
    "def print_ev_info(datafilein = \"../simtel_data/proton/data/corsika_run1.simtel.gz\",evID=1240202):\n",
    "    sf = SimTelFile(datafilein)\n",
    "    for ev in sf:\n",
    "        #\n",
    "        if (int(ev['event_id']) == int(evID)):\n",
    "            print(\"----------------------------------\")\n",
    "            print(\"event_id         \", ev['event_id'])\n",
    "            print(\"energy           \", ev['mc_shower']['energy'])\n",
    "            print(\"xcore            \", ev['mc_event']['xcore'])\n",
    "            print(\"ycore            \", ev['mc_event']['ycore'])\n",
    "            print(\"ev_time          \", ev['telescope_events'][1]['header']['readout_time'])\n",
    "            print(\"nphotons         \", len(ev['photons'][0]))\n",
    "            print(\"n_pe             \", ev['photoelectrons'][0]['n_pe'])\n",
    "            print(\"n_pixels         \", (ev['photoelectrons'][0]['n_pixels']-np.sum(ev['photoelectrons'][0]['photoelectrons']==0)))\n",
    "            print(\"wfshape          \", ev['telescope_events'][1]['adc_samples'][0].shape)\n",
    "            print(\"type             \", type(ev['telescope_events'][1]['adc_samples'][0]))\n",
    "            print(\"typeadc          \", type(ev['telescope_events'][1]['adc_samples'][0][0][0]))\n",
    "            print(\"----------------------------------\")\n",
    "            break\n",
    "    \n",
    "    sf.close()"
   ]
  },
  {
   "cell_type": "code",
   "execution_count": 4,
   "id": "142b93ac-804a-45c9-9bac-957fbfb2ff6c",
   "metadata": {},
   "outputs": [],
   "source": [
    "def get_wf(datafilein = \"../simtel_data/proton/data/corsika_run1.simtel.gz\", evID=1240202):\n",
    "    sf = SimTelFile(datafilein)\n",
    "    wf=np.array([], dtype=np.uint16)\n",
    "    for ev in sf:\n",
    "        if (int(ev['event_id']) == int(evID)):\n",
    "            wf=ev['telescope_events'][1]['adc_samples'][0]\n",
    "            break\n",
    "    \n",
    "    sf.close()\n",
    "\n",
    "    return wf"
   ]
  },
  {
   "cell_type": "code",
   "execution_count": 5,
   "id": "4922f7a3-6673-4a97-8230-816770ec1f98",
   "metadata": {},
   "outputs": [],
   "source": [
    "def get_pixel_mapping(datafilein = \"../simtel_data/proton/data/corsika_run1.simtel.gz\", outmap_csv = 'pixel_mapping.csv'):\n",
    "    sf = SimTelFile(datafilein)\n",
    "    #\n",
    "    n_pixels=float(sf.telescope_descriptions[1]['camera_organization']['n_pixels'])\n",
    "    n_drawers=float(sf.telescope_descriptions[1]['camera_organization']['n_drawers'])\n",
    "    pixel_size=float(sf.telescope_descriptions[1]['camera_settings']['pixel_size'][0])\n",
    "    #\n",
    "    the_map=np.concatenate((sf.telescope_descriptions[1]['camera_settings']['pixel_x'].reshape(int(n_pixels),1),\n",
    "                            sf.telescope_descriptions[1]['camera_settings']['pixel_y'].reshape(int(n_pixels),1),\n",
    "                            sf.telescope_descriptions[1]['camera_organization']['drawer'].reshape(int(n_pixels),1)), axis=1)\n",
    "    np.savetxt(outmap_csv, the_map, delimiter=' ',fmt='%f')\n",
    "    #\n",
    "    print('n_pixels   = ', int(n_pixels))\n",
    "    print('n_drawers  = ', int(n_drawers))\n",
    "    print('pixel_size = ', pixel_size)\n",
    "    #\n",
    "    # 0.024300\n",
    "    # 0.023300\n",
    "    #\n",
    "    sf.close()"
   ]
  },
  {
   "cell_type": "code",
   "execution_count": 6,
   "id": "d9778451-f777-4151-86cc-33c3a9fb350b",
   "metadata": {},
   "outputs": [],
   "source": [
    "def rolling_window_sum(arr, window_size, axis):\n",
    "    cumsum = np.cumsum(arr, axis=axis)\n",
    "    cumsum_shifted = np.roll(cumsum, shift=1, axis=axis)\n",
    "    cumsum_shifted[:, 0] = 0  # Set the first element to 0\n",
    "    return cumsum - cumsum_shifted"
   ]
  },
  {
   "cell_type": "code",
   "execution_count": 258,
   "id": "7fbd9d7a-3cee-4140-9465-8c955eaec6ca",
   "metadata": {},
   "outputs": [],
   "source": [
    "def def_clusters_info( n_clusters=0, n_points=0,\n",
    "                       x_mean=-999.0, y_mean=-999.0, t_mean=-999.0,\n",
    "                       channelID=-999, timeID=-999):\n",
    "    clusters_info={'n_clusters':int(n_clusters),\n",
    "                   'n_points':int(n_points),\n",
    "                   'x_mean':x_mean,\n",
    "                   'y_mean':y_mean,\n",
    "                   't_mean':t_mean,\n",
    "                   'channelID':int(channelID),\n",
    "                   'timeID':int(timeID)}\n",
    "    return clusters_info"
   ]
  },
  {
   "cell_type": "code",
   "execution_count": 7,
   "id": "99283c32-2705-4e7d-a1a6-47f6ff184ce7",
   "metadata": {},
   "outputs": [],
   "source": [
    "df = pd.read_csv('../simtel_data/proton/npe_csv/corsika_run1.npe.csv')"
   ]
  },
  {
   "cell_type": "code",
   "execution_count": 8,
   "id": "b72afed9-fc09-4859-9ba3-e420f744c9af",
   "metadata": {},
   "outputs": [],
   "source": [
    "#test()"
   ]
  },
  {
   "cell_type": "code",
   "execution_count": 9,
   "id": "8ce654b3-9703-4912-8490-3bb6862c30c3",
   "metadata": {},
   "outputs": [
    {
     "data": {
      "text/html": [
       "<div>\n",
       "<style scoped>\n",
       "    .dataframe tbody tr th:only-of-type {\n",
       "        vertical-align: middle;\n",
       "    }\n",
       "\n",
       "    .dataframe tbody tr th {\n",
       "        vertical-align: top;\n",
       "    }\n",
       "\n",
       "    .dataframe thead th {\n",
       "        text-align: right;\n",
       "    }\n",
       "</style>\n",
       "<table border=\"1\" class=\"dataframe\">\n",
       "  <thead>\n",
       "    <tr style=\"text-align: right;\">\n",
       "      <th></th>\n",
       "      <th>Unnamed: 0</th>\n",
       "      <th>event_id</th>\n",
       "      <th>energy</th>\n",
       "      <th>azimuth</th>\n",
       "      <th>altitude</th>\n",
       "      <th>h_first_int</th>\n",
       "      <th>xmax</th>\n",
       "      <th>hmax</th>\n",
       "      <th>emax</th>\n",
       "      <th>cmax</th>\n",
       "      <th>xcore</th>\n",
       "      <th>ycore</th>\n",
       "      <th>ev_time</th>\n",
       "      <th>nphotons</th>\n",
       "      <th>n_pe</th>\n",
       "      <th>n_pixels</th>\n",
       "    </tr>\n",
       "  </thead>\n",
       "  <tbody>\n",
       "    <tr>\n",
       "      <th>349</th>\n",
       "      <td>349</td>\n",
       "      <td>1240202.0</td>\n",
       "      <td>2.169607</td>\n",
       "      <td>3.189876</td>\n",
       "      <td>1.238650</td>\n",
       "      <td>11953.206055</td>\n",
       "      <td>483.548401</td>\n",
       "      <td>6221.253418</td>\n",
       "      <td>478.888885</td>\n",
       "      <td>492.044586</td>\n",
       "      <td>-58.272461</td>\n",
       "      <td>41.165516</td>\n",
       "      <td>-56.923855</td>\n",
       "      <td>80660.0</td>\n",
       "      <td>17608.0</td>\n",
       "      <td>2987.0</td>\n",
       "    </tr>\n",
       "    <tr>\n",
       "      <th>609</th>\n",
       "      <td>609</td>\n",
       "      <td>2222000.0</td>\n",
       "      <td>51.355724</td>\n",
       "      <td>3.182544</td>\n",
       "      <td>1.278464</td>\n",
       "      <td>20368.396484</td>\n",
       "      <td>373.887146</td>\n",
       "      <td>8099.448242</td>\n",
       "      <td>373.930634</td>\n",
       "      <td>380.122284</td>\n",
       "      <td>-460.855194</td>\n",
       "      <td>85.026459</td>\n",
       "      <td>359.107391</td>\n",
       "      <td>88768.0</td>\n",
       "      <td>18852.0</td>\n",
       "      <td>2043.0</td>\n",
       "    </tr>\n",
       "    <tr>\n",
       "      <th>820</th>\n",
       "      <td>820</td>\n",
       "      <td>2970607.0</td>\n",
       "      <td>9.594297</td>\n",
       "      <td>3.222433</td>\n",
       "      <td>1.200817</td>\n",
       "      <td>28665.802734</td>\n",
       "      <td>344.572266</td>\n",
       "      <td>8673.236328</td>\n",
       "      <td>345.015381</td>\n",
       "      <td>357.908966</td>\n",
       "      <td>-33.586414</td>\n",
       "      <td>6.741376</td>\n",
       "      <td>-89.753036</td>\n",
       "      <td>213287.0</td>\n",
       "      <td>22797.0</td>\n",
       "      <td>1111.0</td>\n",
       "    </tr>\n",
       "    <tr>\n",
       "      <th>1478</th>\n",
       "      <td>1478</td>\n",
       "      <td>5344906.0</td>\n",
       "      <td>11.021449</td>\n",
       "      <td>3.046977</td>\n",
       "      <td>1.310579</td>\n",
       "      <td>11123.121094</td>\n",
       "      <td>513.189636</td>\n",
       "      <td>5771.373535</td>\n",
       "      <td>511.274506</td>\n",
       "      <td>501.660492</td>\n",
       "      <td>-316.017792</td>\n",
       "      <td>61.312222</td>\n",
       "      <td>175.889023</td>\n",
       "      <td>54250.0</td>\n",
       "      <td>12009.0</td>\n",
       "      <td>3005.0</td>\n",
       "    </tr>\n",
       "    <tr>\n",
       "      <th>1782</th>\n",
       "      <td>1782</td>\n",
       "      <td>6456802.0</td>\n",
       "      <td>22.764458</td>\n",
       "      <td>3.084789</td>\n",
       "      <td>1.118771</td>\n",
       "      <td>11118.471680</td>\n",
       "      <td>554.633423</td>\n",
       "      <td>5175.546875</td>\n",
       "      <td>554.144165</td>\n",
       "      <td>553.727478</td>\n",
       "      <td>261.700104</td>\n",
       "      <td>-8.565869</td>\n",
       "      <td>-494.484619</td>\n",
       "      <td>74516.0</td>\n",
       "      <td>12134.0</td>\n",
       "      <td>3658.0</td>\n",
       "    </tr>\n",
       "    <tr>\n",
       "      <th>2082</th>\n",
       "      <td>2082</td>\n",
       "      <td>7596703.0</td>\n",
       "      <td>26.231285</td>\n",
       "      <td>3.309019</td>\n",
       "      <td>1.209412</td>\n",
       "      <td>22551.113281</td>\n",
       "      <td>391.287872</td>\n",
       "      <td>7775.134766</td>\n",
       "      <td>388.631592</td>\n",
       "      <td>400.852448</td>\n",
       "      <td>-10.568356</td>\n",
       "      <td>-367.924713</td>\n",
       "      <td>-160.472031</td>\n",
       "      <td>81969.0</td>\n",
       "      <td>27389.0</td>\n",
       "      <td>3882.0</td>\n",
       "    </tr>\n",
       "    <tr>\n",
       "      <th>2159</th>\n",
       "      <td>2159</td>\n",
       "      <td>7868805.0</td>\n",
       "      <td>0.110867</td>\n",
       "      <td>3.140634</td>\n",
       "      <td>1.268541</td>\n",
       "      <td>4216.888184</td>\n",
       "      <td>850.000000</td>\n",
       "      <td>1740.061401</td>\n",
       "      <td>850.000000</td>\n",
       "      <td>798.796021</td>\n",
       "      <td>-74.746567</td>\n",
       "      <td>-69.971222</td>\n",
       "      <td>22.936769</td>\n",
       "      <td>43051.0</td>\n",
       "      <td>13783.0</td>\n",
       "      <td>3553.0</td>\n",
       "    </tr>\n",
       "    <tr>\n",
       "      <th>2328</th>\n",
       "      <td>2328</td>\n",
       "      <td>8386402.0</td>\n",
       "      <td>6.069890</td>\n",
       "      <td>3.095434</td>\n",
       "      <td>1.236036</td>\n",
       "      <td>15830.558594</td>\n",
       "      <td>382.915131</td>\n",
       "      <td>7929.762695</td>\n",
       "      <td>383.210327</td>\n",
       "      <td>395.764282</td>\n",
       "      <td>-68.325966</td>\n",
       "      <td>-166.258560</td>\n",
       "      <td>-49.206482</td>\n",
       "      <td>133853.0</td>\n",
       "      <td>37075.0</td>\n",
       "      <td>958.0</td>\n",
       "    </tr>\n",
       "  </tbody>\n",
       "</table>\n",
       "</div>"
      ],
      "text/plain": [
       "      Unnamed: 0   event_id     energy   azimuth  altitude   h_first_int  \\\n",
       "349          349  1240202.0   2.169607  3.189876  1.238650  11953.206055   \n",
       "609          609  2222000.0  51.355724  3.182544  1.278464  20368.396484   \n",
       "820          820  2970607.0   9.594297  3.222433  1.200817  28665.802734   \n",
       "1478        1478  5344906.0  11.021449  3.046977  1.310579  11123.121094   \n",
       "1782        1782  6456802.0  22.764458  3.084789  1.118771  11118.471680   \n",
       "2082        2082  7596703.0  26.231285  3.309019  1.209412  22551.113281   \n",
       "2159        2159  7868805.0   0.110867  3.140634  1.268541   4216.888184   \n",
       "2328        2328  8386402.0   6.069890  3.095434  1.236036  15830.558594   \n",
       "\n",
       "            xmax         hmax        emax        cmax       xcore       ycore  \\\n",
       "349   483.548401  6221.253418  478.888885  492.044586  -58.272461   41.165516   \n",
       "609   373.887146  8099.448242  373.930634  380.122284 -460.855194   85.026459   \n",
       "820   344.572266  8673.236328  345.015381  357.908966  -33.586414    6.741376   \n",
       "1478  513.189636  5771.373535  511.274506  501.660492 -316.017792   61.312222   \n",
       "1782  554.633423  5175.546875  554.144165  553.727478  261.700104   -8.565869   \n",
       "2082  391.287872  7775.134766  388.631592  400.852448  -10.568356 -367.924713   \n",
       "2159  850.000000  1740.061401  850.000000  798.796021  -74.746567  -69.971222   \n",
       "2328  382.915131  7929.762695  383.210327  395.764282  -68.325966 -166.258560   \n",
       "\n",
       "         ev_time  nphotons     n_pe  n_pixels  \n",
       "349   -56.923855   80660.0  17608.0    2987.0  \n",
       "609   359.107391   88768.0  18852.0    2043.0  \n",
       "820   -89.753036  213287.0  22797.0    1111.0  \n",
       "1478  175.889023   54250.0  12009.0    3005.0  \n",
       "1782 -494.484619   74516.0  12134.0    3658.0  \n",
       "2082 -160.472031   81969.0  27389.0    3882.0  \n",
       "2159   22.936769   43051.0  13783.0    3553.0  \n",
       "2328  -49.206482  133853.0  37075.0     958.0  "
      ]
     },
     "execution_count": 9,
     "metadata": {},
     "output_type": "execute_result"
    }
   ],
   "source": [
    "df[df['n_pe']>10000]"
   ]
  },
  {
   "cell_type": "code",
   "execution_count": 10,
   "id": "31598945-c995-4534-a4bc-5eab199aa59e",
   "metadata": {},
   "outputs": [
    {
     "name": "stdout",
     "output_type": "stream",
     "text": [
      "----------------------------------\n",
      "event_id          1240202\n",
      "energy            2.169607162475586\n",
      "xcore             -58.2724609375\n",
      "ycore             41.1655158996582\n",
      "ev_time           -56.92385482788086\n",
      "nphotons          80660\n",
      "n_pe              17608\n",
      "n_pixels          2987\n",
      "wfshape           (7987, 75)\n",
      "type              <class 'numpy.ndarray'>\n",
      "typeadc           <class 'numpy.uint16'>\n",
      "----------------------------------\n"
     ]
    }
   ],
   "source": [
    "#print_ev_info(evID=94302)\n",
    "print_ev_info(evID=1240202)"
   ]
  },
  {
   "cell_type": "code",
   "execution_count": 11,
   "id": "bdfdc244-29f0-4559-b1c2-97cab674ad2b",
   "metadata": {},
   "outputs": [
    {
     "name": "stdout",
     "output_type": "stream",
     "text": [
      "wfshape           (7987, 75)\n",
      "type              <class 'numpy.ndarray'>\n",
      "typeadc           <class 'numpy.uint16'>\n"
     ]
    }
   ],
   "source": [
    "wf=get_wf(evID=1240202)\n",
    "print(\"wfshape          \", wf.shape)\n",
    "print(\"type             \", type(wf))\n",
    "print(\"typeadc          \", type(wf[0][0]))"
   ]
  },
  {
   "cell_type": "code",
   "execution_count": 12,
   "id": "11d01466-6a7f-417d-a877-b795255f7271",
   "metadata": {},
   "outputs": [],
   "source": [
    "max_wf=np.amax(wf,axis=1)"
   ]
  },
  {
   "cell_type": "code",
   "execution_count": 13,
   "id": "ace2f3c9-f02e-4cd9-90b3-815854cb9a71",
   "metadata": {},
   "outputs": [
    {
     "data": {
      "image/png": "[encoded data removed]",
      "text/plain": [
       "<Figure size 640x480 with 1 Axes>"
      ]
     },
     "metadata": {},
     "output_type": "display_data"
    }
   ],
   "source": [
    "plt.hist(max_wf, bins=np.linspace(300, 1000, num=200), edgecolor='black')\n",
    "# Add labels and title\n",
    "#plt.xlabel('npe')\n",
    "#plt.ylabel('')\n",
    "#plt.title('npe')\n",
    "plt.yscale('log')  # Set y-axis to logarithmic scale\n",
    "#plt.grid(True)\n",
    "# Show the plot\n",
    "plt.show()"
   ]
  },
  {
   "cell_type": "code",
   "execution_count": 14,
   "id": "bbb126f2-48fa-40ce-8234-e857d46e0709",
   "metadata": {},
   "outputs": [
    {
     "data": {
      "text/plain": [
       "7313"
      ]
     },
     "execution_count": 14,
     "metadata": {},
     "output_type": "execute_result"
    }
   ],
   "source": [
    "np.argmax(max_wf)"
   ]
  },
  {
   "cell_type": "code",
   "execution_count": 15,
   "id": "557505ac-2792-4d94-bdbd-b241c1b1ab22",
   "metadata": {},
   "outputs": [
    {
     "data": {
      "text/plain": [
       "[<matplotlib.lines.Line2D at 0x73c73c0a5fa0>]"
      ]
     },
     "execution_count": 15,
     "metadata": {},
     "output_type": "execute_result"
    },
    {
     "data": {
      "image/png": "[encoded data removed]",
      "text/plain": [
       "<Figure size 640x480 with 1 Axes>"
      ]
     },
     "metadata": {},
     "output_type": "display_data"
    }
   ],
   "source": [
    "plt.plot(wf[np.argmax(max_wf)])\n",
    "plt.plot(wf[4426])\n",
    "plt.plot(wf[7312])\n",
    "plt.plot(wf[7311])\n",
    "plt.plot(wf[1])"
   ]
  },
  {
   "cell_type": "code",
   "execution_count": 16,
   "id": "eaa4b7c4-cab8-4700-8b86-b1a844eb6486",
   "metadata": {},
   "outputs": [],
   "source": [
    "#get_pixel_mapping()"
   ]
  },
  {
   "cell_type": "code",
   "execution_count": 17,
   "id": "2248cc34-f90c-47e0-b945-5bc9afd006da",
   "metadata": {},
   "outputs": [
    {
     "data": {
      "text/plain": [
       "array([[296, 297, 298, 312, 329, 325, 307, 300, 294, 294, 290, 300, 296,\n",
       "        298, 305, 297, 298, 295, 304, 307, 295, 306, 307, 305, 300, 290,\n",
       "        294, 297, 303, 307, 310, 316, 317, 297, 292, 299, 300, 316, 328,\n",
       "        328, 306, 301, 295, 288, 292, 297, 286, 295, 298, 299, 293, 289,\n",
       "        300, 296, 304, 298, 293, 299, 302, 298, 315, 322, 323, 307, 305,\n",
       "        299, 301, 294, 292, 296, 305, 308, 300, 297, 304],\n",
       "       [315, 304, 304, 302, 296, 301, 291, 293, 290, 291, 297, 301, 295,\n",
       "        295, 305, 306, 317, 306, 323, 307, 326, 320, 315, 302, 293, 290,\n",
       "        292, 288, 290, 289, 289, 295, 307, 306, 302, 309, 301, 288, 301,\n",
       "        306, 295, 303, 292, 305, 299, 296, 291, 293, 300, 293, 299, 294,\n",
       "        289, 294, 287, 295, 300, 293, 298, 298, 292, 296, 298, 291, 296,\n",
       "        296, 306, 293, 290, 300, 300, 298, 303, 308, 299],\n",
       "       [291, 297, 286, 283, 291, 283, 294, 297, 299, 289, 299, 308, 313,\n",
       "        311, 303, 298, 287, 294, 297, 288, 296, 303, 299, 299, 301, 289,\n",
       "        294, 289, 299, 304, 304, 309, 301, 301, 299, 299, 296, 291, 286,\n",
       "        293, 298, 294, 304, 303, 307, 297, 301, 314, 302, 306, 308, 314,\n",
       "        307, 300, 298, 306, 299, 296, 294, 293, 300, 304, 301, 298, 301,\n",
       "        295, 294, 296, 304, 291, 298, 296, 292, 300, 299]], dtype=uint16)"
      ]
     },
     "execution_count": 17,
     "metadata": {},
     "output_type": "execute_result"
    }
   ],
   "source": [
    "wf[[0,2,4]]"
   ]
  },
  {
   "cell_type": "code",
   "execution_count": 18,
   "id": "160bc3be-5ce8-4026-8dc4-fcb552878726",
   "metadata": {},
   "outputs": [],
   "source": [
    "flower_pixID = np.genfromtxt('./pixel_mapping_neighbors.csv',dtype=int)"
   ]
  },
  {
   "cell_type": "code",
   "execution_count": 19,
   "id": "73009e4b-54d1-4a51-8569-8f0f10be38db",
   "metadata": {},
   "outputs": [],
   "source": [
    "flower_pixID=flower_pixID+1"
   ]
  },
  {
   "cell_type": "code",
   "execution_count": 20,
   "id": "355f7b2b-f122-431f-8eec-2e5931308cef",
   "metadata": {},
   "outputs": [
    {
     "name": "stdout",
     "output_type": "stream",
     "text": [
      "(7987, 6)\n"
     ]
    }
   ],
   "source": [
    "print(flower_pixID.shape)"
   ]
  },
  {
   "cell_type": "code",
   "execution_count": 21,
   "id": "70fe3555-2225-4ab8-8c81-6cd84a0fa50e",
   "metadata": {},
   "outputs": [],
   "source": [
    "flower_seedID=np.arange(1, flower_pixID.shape[0]+1, 1).reshape(flower_pixID.shape[0],1)"
   ]
  },
  {
   "cell_type": "code",
   "execution_count": 22,
   "id": "ecfe5832-8522-484c-98db-938371d0ad27",
   "metadata": {},
   "outputs": [],
   "source": [
    "flower_pixID=np.concatenate((flower_seedID, flower_pixID), axis=1)"
   ]
  },
  {
   "cell_type": "code",
   "execution_count": 23,
   "id": "7604a98b-40a0-4848-8e9a-607a053b43dc",
   "metadata": {},
   "outputs": [
    {
     "name": "stdout",
     "output_type": "stream",
     "text": [
      "[[   1    2    3 ...    5    6    7]\n",
      " [   2    1    3 ...   13   46   47]\n",
      " [   3    1    2 ...   12   13   21]\n",
      " ...\n",
      " [7985 7955 7961 ... 7981 7984 7986]\n",
      " [7986 7954 7955 ... 7981 7985 7987]\n",
      " [7987 7969 7970 ... 7982 7986    0]]\n"
     ]
    }
   ],
   "source": [
    "print(flower_pixID)"
   ]
  },
  {
   "cell_type": "code",
   "execution_count": 24,
   "id": "e3481179-f82f-4d85-8430-786f728ea686",
   "metadata": {},
   "outputs": [
    {
     "data": {
      "text/plain": [
       "array([7987, 7969, 7970, 7981, 7982, 7986,    0])"
      ]
     },
     "execution_count": 24,
     "metadata": {},
     "output_type": "execute_result"
    }
   ],
   "source": [
    "flower_pixID[-1]"
   ]
  },
  {
   "cell_type": "code",
   "execution_count": 25,
   "id": "0a5a145c-b88f-415d-a109-647211dac81c",
   "metadata": {},
   "outputs": [
    {
     "data": {
      "text/plain": [
       "0"
      ]
     },
     "execution_count": 25,
     "metadata": {},
     "output_type": "execute_result"
    }
   ],
   "source": [
    "np.sum(flower_pixID[flower_pixID==0])"
   ]
  },
  {
   "cell_type": "code",
   "execution_count": 26,
   "id": "f31a7d30-d5b4-4051-8230-3493ed03229c",
   "metadata": {},
   "outputs": [
    {
     "data": {
      "text/plain": [
       "702"
      ]
     },
     "execution_count": 26,
     "metadata": {},
     "output_type": "execute_result"
    }
   ],
   "source": [
    "len(flower_pixID[flower_pixID==0])"
   ]
  },
  {
   "cell_type": "code",
   "execution_count": 27,
   "id": "a1d89ece-1266-4c07-9bc9-2ad15492231e",
   "metadata": {},
   "outputs": [
    {
     "data": {
      "text/plain": [
       "67444"
      ]
     },
     "execution_count": 27,
     "metadata": {},
     "output_type": "execute_result"
    }
   ],
   "source": [
    "np.sum(wf[[0,2,4]])"
   ]
  },
  {
   "cell_type": "code",
   "execution_count": 28,
   "id": "f09ea32d-9531-4037-b6f6-a08e0043dc27",
   "metadata": {},
   "outputs": [
    {
     "data": {
      "text/plain": [
       "180183496"
      ]
     },
     "execution_count": 28,
     "metadata": {},
     "output_type": "execute_result"
    }
   ],
   "source": [
    "np.sum(wf)"
   ]
  },
  {
   "cell_type": "code",
   "execution_count": 29,
   "id": "68303c83-235e-447d-9157-e2fa701a063c",
   "metadata": {},
   "outputs": [
    {
     "data": {
      "text/plain": [
       "(7987, 75)"
      ]
     },
     "execution_count": 29,
     "metadata": {},
     "output_type": "execute_result"
    }
   ],
   "source": [
    "wf.shape"
   ]
  },
  {
   "cell_type": "code",
   "execution_count": 30,
   "id": "7c178e0f-0b21-4722-bd15-e4063d1ae75d",
   "metadata": {},
   "outputs": [],
   "source": [
    "wfp=wf.copy()"
   ]
  },
  {
   "cell_type": "code",
   "execution_count": 31,
   "id": "8adc31c5-7c99-4e67-9d0b-b474cfeeb3cd",
   "metadata": {},
   "outputs": [],
   "source": [
    "wfp=np.pad(wfp, pad_width=1)"
   ]
  },
  {
   "cell_type": "code",
   "execution_count": 32,
   "id": "77c4d2ed-32e7-4945-874c-8d9df84c17a0",
   "metadata": {},
   "outputs": [],
   "source": [
    "wfpsl = wfp.copy()"
   ]
  },
  {
   "cell_type": "code",
   "execution_count": 33,
   "id": "06534ffe-f0cc-4b39-9dfb-839e95d3b400",
   "metadata": {},
   "outputs": [],
   "source": [
    "wfpsr = wfp.copy()"
   ]
  },
  {
   "cell_type": "code",
   "execution_count": 34,
   "id": "be57bb45-54b1-4fa9-9466-5ddcfa13a6f1",
   "metadata": {},
   "outputs": [],
   "source": [
    "wfpsl=np.roll(wfpsl, shift=-1,axis=1)"
   ]
  },
  {
   "cell_type": "code",
   "execution_count": 35,
   "id": "8dd81ef7-c717-4059-8cc2-e8b1d2243b80",
   "metadata": {},
   "outputs": [],
   "source": [
    "wfpsr=np.roll(wfpsr, shift=1,axis=1)"
   ]
  },
  {
   "cell_type": "code",
   "execution_count": 36,
   "id": "3b61eb37-f4f6-44c7-ba4f-d11ac79d7db0",
   "metadata": {},
   "outputs": [
    {
     "data": {
      "text/plain": [
       "array([[  0,   0,   0, ...,   0,   0,   0],\n",
       "       [296, 297, 298, ..., 304,   0,   0],\n",
       "       [302, 311, 312, ..., 304,   0,   0],\n",
       "       ...,\n",
       "       [293, 297, 289, ..., 303,   0,   0],\n",
       "       [290, 288, 294, ..., 283,   0,   0],\n",
       "       [  0,   0,   0, ...,   0,   0,   0]], dtype=uint16)"
      ]
     },
     "execution_count": 36,
     "metadata": {},
     "output_type": "execute_result"
    }
   ],
   "source": [
    "wfpsl"
   ]
  },
  {
   "cell_type": "code",
   "execution_count": 37,
   "id": "c095b2bc-d01a-4b1f-9adc-c6bf9d7c216f",
   "metadata": {},
   "outputs": [
    {
     "data": {
      "text/plain": [
       "array([[  0,   0,   0, ...,   0,   0,   0],\n",
       "       [  0,   0, 296, ..., 300, 297, 304],\n",
       "       [  0,   0, 302, ..., 301, 306, 304],\n",
       "       ...,\n",
       "       [  0,   0, 293, ..., 305, 305, 303],\n",
       "       [  0,   0, 290, ..., 293, 292, 283],\n",
       "       [  0,   0,   0, ...,   0,   0,   0]], dtype=uint16)"
      ]
     },
     "execution_count": 37,
     "metadata": {},
     "output_type": "execute_result"
    }
   ],
   "source": [
    "wfpsr"
   ]
  },
  {
   "cell_type": "code",
   "execution_count": 38,
   "id": "4365a770-9a44-4584-bdf8-12ad2e42b369",
   "metadata": {},
   "outputs": [
    {
     "data": {
      "text/plain": [
       "(7989, 77)"
      ]
     },
     "execution_count": 38,
     "metadata": {},
     "output_type": "execute_result"
    }
   ],
   "source": [
    "wfpsl.shape"
   ]
  },
  {
   "cell_type": "code",
   "execution_count": 39,
   "id": "ec82dc6d-44df-41ba-b122-74d5811a72fc",
   "metadata": {},
   "outputs": [],
   "source": [
    "wfp=wfpsl + wfpsr + wfp"
   ]
  },
  {
   "cell_type": "code",
   "execution_count": 40,
   "id": "45db9e57-5bbc-48b0-9abe-80f444694236",
   "metadata": {},
   "outputs": [
    {
     "data": {
      "text/plain": [
       "array([[  0,   0,   0, ...,   0,   0,   0],\n",
       "       [296, 593, 891, ..., 901, 601, 304],\n",
       "       [302, 613, 925, ..., 911, 610, 304],\n",
       "       ...,\n",
       "       [293, 590, 879, ..., 913, 608, 303],\n",
       "       [290, 578, 872, ..., 868, 575, 283],\n",
       "       [  0,   0,   0, ...,   0,   0,   0]], dtype=uint16)"
      ]
     },
     "execution_count": 40,
     "metadata": {},
     "output_type": "execute_result"
    }
   ],
   "source": [
    "wfp"
   ]
  },
  {
   "cell_type": "code",
   "execution_count": 41,
   "id": "0ff3f803-087e-44cc-9650-b2e46f04e795",
   "metadata": {},
   "outputs": [
    {
     "data": {
      "text/plain": [
       "77"
      ]
     },
     "execution_count": 41,
     "metadata": {},
     "output_type": "execute_result"
    }
   ],
   "source": [
    "len(wfp[0])"
   ]
  },
  {
   "cell_type": "code",
   "execution_count": 42,
   "id": "c7219ea1-859c-4b7f-bdac-90b08658023b",
   "metadata": {},
   "outputs": [
    {
     "data": {
      "text/plain": [
       "array([0, 0, 0, 0, 0, 0, 0, 0, 0, 0, 0, 0, 0, 0, 0, 0, 0, 0, 0, 0, 0, 0,\n",
       "       0, 0, 0, 0, 0, 0, 0, 0, 0, 0, 0, 0, 0, 0, 0, 0, 0, 0, 0, 0, 0, 0,\n",
       "       0, 0, 0, 0, 0, 0, 0, 0, 0, 0, 0, 0, 0, 0, 0, 0, 0, 0, 0, 0, 0, 0,\n",
       "       0, 0, 0, 0, 0, 0, 0, 0, 0, 0, 0], dtype=uint16)"
      ]
     },
     "execution_count": 42,
     "metadata": {},
     "output_type": "execute_result"
    }
   ],
   "source": [
    "wfp[0]"
   ]
  },
  {
   "cell_type": "code",
   "execution_count": 43,
   "id": "ac627592-4bf5-40b7-a302-c7d5aaefd16b",
   "metadata": {},
   "outputs": [],
   "source": [
    "digitalsum=np.array([np.sum(wfp[flower_pixID[i]],axis=0) for i in np.arange(0,len(flower_pixID))])"
   ]
  },
  {
   "cell_type": "code",
   "execution_count": 44,
   "id": "d1a9164e-881b-4ebe-aa50-004fe4b12b77",
   "metadata": {},
   "outputs": [
    {
     "data": {
      "text/plain": [
       "array([[2149, 4286, 6403, ..., 6356, 4242, 2111],\n",
       "       [2117, 4223, 6308, ..., 6335, 4214, 2092],\n",
       "       [2138, 4262, 6367, ..., 6405, 4262, 2117],\n",
       "       ...,\n",
       "       [2075, 4165, 6239, ..., 6352, 4217, 2107],\n",
       "       [2067, 4143, 6196, ..., 6298, 4184, 2081],\n",
       "       [1774, 3541, 5303, ..., 5343, 3551, 1776]], dtype=uint64)"
      ]
     },
     "execution_count": 44,
     "metadata": {},
     "output_type": "execute_result"
    }
   ],
   "source": [
    "digitalsum"
   ]
  },
  {
   "cell_type": "code",
   "execution_count": 45,
   "id": "c8bf50ec-375c-44b6-969a-cebcb848ef40",
   "metadata": {},
   "outputs": [
    {
     "data": {
      "text/plain": [
       "array([0, 0, 0, 0, 0, 0, 0, 0, 0, 0, 0, 0, 0, 0, 0, 0, 0, 0, 0, 0, 0, 0,\n",
       "       0, 0, 0, 0, 0, 0, 0, 0, 0, 0, 0, 0, 0, 0, 0, 0, 0, 0, 0, 0, 0, 0,\n",
       "       0, 0, 0, 0, 0, 0, 0, 0, 0, 0, 0, 0, 0, 0, 0, 0, 0, 0, 0, 0, 0, 0,\n",
       "       0, 0, 0, 0, 0, 0, 0, 0, 0, 0, 0], dtype=uint16)"
      ]
     },
     "execution_count": 45,
     "metadata": {},
     "output_type": "execute_result"
    }
   ],
   "source": [
    "wfp[0]"
   ]
  },
  {
   "cell_type": "code",
   "execution_count": 46,
   "id": "1498cc5a-f5ab-485b-9835-373130c297f8",
   "metadata": {},
   "outputs": [
    {
     "data": {
      "text/plain": [
       "7989"
      ]
     },
     "execution_count": 46,
     "metadata": {},
     "output_type": "execute_result"
    }
   ],
   "source": [
    "len(wfp)"
   ]
  },
  {
   "cell_type": "code",
   "execution_count": 47,
   "id": "41308106-550b-4c46-9cb0-d007a4650e02",
   "metadata": {},
   "outputs": [
    {
     "data": {
      "image/png": "[encoded data removed]",
      "text/plain": [
       "<Figure size 640x480 with 1 Axes>"
      ]
     },
     "metadata": {},
     "output_type": "display_data"
    }
   ],
   "source": [
    "plt.hist(digitalsum.flatten(), bins=np.arange(6000,7000,10), density=True, alpha=0.5, color='blue', edgecolor='black')\n",
    "# Add labels and title\n",
    "plt.xlabel('Value')\n",
    "plt.ylabel('Frequency')\n",
    "plt.ylabel('Frequency')\n",
    "plt.yscale('log')  # Set y-axis to logarithmic scale\n",
    "\n",
    "plt.title('Histogram with Filled Color')\n",
    "\n",
    "# Show plot\n",
    "plt.show()"
   ]
  },
  {
   "cell_type": "code",
   "execution_count": 48,
   "id": "f77b31e0-e580-4421-880d-4746555b2ef0",
   "metadata": {},
   "outputs": [
    {
     "data": {
      "text/plain": [
       "array([[2149, 4286, 6403, ..., 6356, 4242, 2111],\n",
       "       [2117, 4223, 6308, ..., 6335, 4214, 2092],\n",
       "       [2138, 4262, 6367, ..., 6405, 4262, 2117],\n",
       "       ...,\n",
       "       [2075, 4165, 6239, ..., 6352, 4217, 2107],\n",
       "       [2067, 4143, 6196, ..., 6298, 4184, 2081],\n",
       "       [1774, 3541, 5303, ..., 5343, 3551, 1776]], dtype=uint64)"
      ]
     },
     "execution_count": 48,
     "metadata": {},
     "output_type": "execute_result"
    }
   ],
   "source": [
    "digitalsum"
   ]
  },
  {
   "cell_type": "code",
   "execution_count": 49,
   "id": "3dc53810-36c0-45d8-a338-0d6902e3efd3",
   "metadata": {},
   "outputs": [],
   "source": [
    "nbins=np.linspace(6000, 7000, num=100)"
   ]
  },
  {
   "cell_type": "code",
   "execution_count": 50,
   "id": "9bb22dc2-6bf0-41ac-971e-709c12951173",
   "metadata": {},
   "outputs": [
    {
     "data": {
      "image/png": "[encoded data removed]",
      "text/plain": [
       "<Figure size 640x480 with 1 Axes>"
      ]
     },
     "metadata": {},
     "output_type": "display_data"
    }
   ],
   "source": [
    "plt.hist(digitalsum[digitalsum>6505].flatten(), bins=nbins, edgecolor='black')\n",
    "# Add labels and title\n",
    "#plt.xlabel('npe')\n",
    "#plt.ylabel('')\n",
    "#plt.title('npe')\n",
    "plt.yscale('log')  # Set y-axis to logarithmic scale\n",
    "#plt.grid(True)\n",
    "# Show the plot\n",
    "plt.show()"
   ]
  },
  {
   "cell_type": "code",
   "execution_count": 51,
   "id": "eb4f0b6b-fa87-4bee-82ce-d07d519b9f85",
   "metadata": {},
   "outputs": [],
   "source": [
    "th=np.array([np.sum(digitalsum>th) for th in nbins])"
   ]
  },
  {
   "cell_type": "code",
   "execution_count": 52,
   "id": "b84cc44c-89cb-4092-9cea-f82363ff2596",
   "metadata": {},
   "outputs": [
    {
     "data": {
      "image/png": "[encoded data removed]",
      "text/plain": [
       "<Figure size 640x480 with 1 Axes>"
      ]
     },
     "metadata": {},
     "output_type": "display_data"
    }
   ],
   "source": [
    "\n",
    "# Create scatter plot\n",
    "plt.scatter(nbins, th)\n",
    "\n",
    "# Add labels and title\n",
    "plt.xlabel('X')\n",
    "plt.ylabel('Y')\n",
    "plt.title('Scatter Plot')\n",
    "plt.yscale('log')  # Set y-axis to logarithmic scale\n",
    "plt.grid(True)\n",
    "\n",
    "# Show plot\n",
    "plt.show()"
   ]
  },
  {
   "cell_type": "code",
   "execution_count": 53,
   "id": "063f2273-e75b-487b-8124-e7552b07641d",
   "metadata": {},
   "outputs": [
    {
     "data": {
      "text/plain": [
       "array([], dtype=float64)"
      ]
     },
     "execution_count": 53,
     "metadata": {},
     "output_type": "execute_result"
    }
   ],
   "source": [
    "nbins[th<1000]"
   ]
  },
  {
   "cell_type": "code",
   "execution_count": 54,
   "id": "10475edb-f9d7-4a08-89b5-0668df026adb",
   "metadata": {},
   "outputs": [
    {
     "data": {
      "text/plain": [
       "(7987, 75)"
      ]
     },
     "execution_count": 54,
     "metadata": {},
     "output_type": "execute_result"
    }
   ],
   "source": [
    "wf.shape"
   ]
  },
  {
   "cell_type": "code",
   "execution_count": 55,
   "id": "5e88b618-9507-4ca6-9eba-d204de4ee587",
   "metadata": {},
   "outputs": [
    {
     "data": {
      "text/plain": [
       "(7987, 77)"
      ]
     },
     "execution_count": 55,
     "metadata": {},
     "output_type": "execute_result"
    }
   ],
   "source": [
    "digitalsum.shape"
   ]
  },
  {
   "cell_type": "code",
   "execution_count": 56,
   "id": "0cd9d73b-8534-4332-9716-92139a235161",
   "metadata": {},
   "outputs": [
    {
     "data": {
      "text/plain": [
       "7370"
      ]
     },
     "execution_count": 56,
     "metadata": {},
     "output_type": "execute_result"
    }
   ],
   "source": [
    "len(digitalsum[digitalsum>6505])"
   ]
  },
  {
   "cell_type": "code",
   "execution_count": 57,
   "id": "9c077d8b-959d-4cb8-bcb9-b64f9c6b7ed7",
   "metadata": {},
   "outputs": [
    {
     "data": {
      "text/plain": [
       "(7987, 75)"
      ]
     },
     "execution_count": 57,
     "metadata": {},
     "output_type": "execute_result"
    }
   ],
   "source": [
    "digitalsum[:,1:-1].shape"
   ]
  },
  {
   "cell_type": "code",
   "execution_count": 58,
   "id": "34143ff2-da0e-45da-9bb7-9cc59acbdf81",
   "metadata": {},
   "outputs": [],
   "source": [
    "digitalsum_rt=digitalsum[:,1:-1]"
   ]
  },
  {
   "cell_type": "code",
   "execution_count": 59,
   "id": "8f09f89f-0967-45ae-af7f-77d5a1354e31",
   "metadata": {},
   "outputs": [
    {
     "data": {
      "text/plain": [
       "(7987, 75)"
      ]
     },
     "execution_count": 59,
     "metadata": {},
     "output_type": "execute_result"
    }
   ],
   "source": [
    "digitalsum_rt.shape"
   ]
  },
  {
   "cell_type": "code",
   "execution_count": 60,
   "id": "821398e5-ff48-48ff-82c1-33c79592370d",
   "metadata": {},
   "outputs": [
    {
     "data": {
      "text/plain": [
       "array([[4286, 6403, 6374, ..., 6348, 6356, 4242],\n",
       "       [4223, 6308, 6314, ..., 6330, 6335, 4214],\n",
       "       [4262, 6367, 6356, ..., 6403, 6405, 4262],\n",
       "       ...,\n",
       "       [4165, 6239, 6233, ..., 6347, 6352, 4217],\n",
       "       [4143, 6196, 6194, ..., 6314, 6298, 4184],\n",
       "       [3541, 5303, 5297, ..., 5349, 5343, 3551]], dtype=uint64)"
      ]
     },
     "execution_count": 60,
     "metadata": {},
     "output_type": "execute_result"
    }
   ],
   "source": [
    "digitalsum_rt"
   ]
  },
  {
   "cell_type": "code",
   "execution_count": 61,
   "id": "3f02f52c-0f85-4f2e-9445-bcad2ef0a68c",
   "metadata": {},
   "outputs": [],
   "source": [
    "pixelmapping = np.genfromtxt('./pixel_mapping.csv')"
   ]
  },
  {
   "cell_type": "code",
   "execution_count": 62,
   "id": "211d6a3b-289d-42b1-8d25-76ffd3d47916",
   "metadata": {},
   "outputs": [
    {
     "data": {
      "text/plain": [
       "(7987, 3)"
      ]
     },
     "execution_count": 62,
     "metadata": {},
     "output_type": "execute_result"
    }
   ],
   "source": [
    "pixelmapping.shape"
   ]
  },
  {
   "cell_type": "code",
   "execution_count": 63,
   "id": "6b4b4a1c-6236-406b-8c4f-72663a1bff65",
   "metadata": {},
   "outputs": [
    {
     "data": {
      "text/plain": [
       "(array([ 252.,  733.,  879., 1083., 1001., 1092., 1083.,  879.,  733.,\n",
       "         252.]),\n",
       " array([-1.22058 , -0.976464, -0.732348, -0.488232, -0.244116,  0.      ,\n",
       "         0.244116,  0.488232,  0.732348,  0.976464,  1.22058 ]),\n",
       " <BarContainer object of 10 artists>)"
      ]
     },
     "execution_count": 63,
     "metadata": {},
     "output_type": "execute_result"
    },
    {
     "data": {
      "image/png": "[encoded data removed]",
      "text/plain": [
       "<Figure size 640x480 with 1 Axes>"
      ]
     },
     "metadata": {},
     "output_type": "display_data"
    }
   ],
   "source": [
    "plt.hist(pixelmapping[:,1])"
   ]
  },
  {
   "cell_type": "code",
   "execution_count": 64,
   "id": "3bdcc549-c86b-41bc-8d86-5841e7c3babe",
   "metadata": {},
   "outputs": [],
   "source": [
    "pix_x=pixelmapping[:,0].reshape(pixelmapping.shape[0],1)\n",
    "pix_y=pixelmapping[:,1].reshape(pixelmapping.shape[0],1)"
   ]
  },
  {
   "cell_type": "code",
   "execution_count": 65,
   "id": "9a30850f-8c61-46be-9b2f-0707a2479bca",
   "metadata": {},
   "outputs": [],
   "source": [
    "pix_t=np.array([i for i in np.arange(0,digitalsum_rt.shape[1])]).reshape(1,digitalsum_rt.shape[1])"
   ]
  },
  {
   "cell_type": "code",
   "execution_count": 66,
   "id": "d4f49c8c-f50c-406f-9954-bfc4ff556d20",
   "metadata": {},
   "outputs": [
    {
     "data": {
      "text/plain": [
       "(1, 75)"
      ]
     },
     "execution_count": 66,
     "metadata": {},
     "output_type": "execute_result"
    }
   ],
   "source": [
    "pix_t.shape"
   ]
  },
  {
   "cell_type": "code",
   "execution_count": 67,
   "id": "0eb43ced-1b2f-4b21-9e14-1a40dd1a70b6",
   "metadata": {},
   "outputs": [],
   "source": [
    "pix_t=pix_t*0.05"
   ]
  },
  {
   "cell_type": "code",
   "execution_count": 68,
   "id": "60227990-f52b-458e-9d00-2486c6aa8a62",
   "metadata": {},
   "outputs": [
    {
     "data": {
      "text/plain": [
       "array([[0.  , 0.05, 0.1 , 0.15, 0.2 , 0.25, 0.3 , 0.35, 0.4 , 0.45, 0.5 ,\n",
       "        0.55, 0.6 , 0.65, 0.7 , 0.75, 0.8 , 0.85, 0.9 , 0.95, 1.  , 1.05,\n",
       "        1.1 , 1.15, 1.2 , 1.25, 1.3 , 1.35, 1.4 , 1.45, 1.5 , 1.55, 1.6 ,\n",
       "        1.65, 1.7 , 1.75, 1.8 , 1.85, 1.9 , 1.95, 2.  , 2.05, 2.1 , 2.15,\n",
       "        2.2 , 2.25, 2.3 , 2.35, 2.4 , 2.45, 2.5 , 2.55, 2.6 , 2.65, 2.7 ,\n",
       "        2.75, 2.8 , 2.85, 2.9 , 2.95, 3.  , 3.05, 3.1 , 3.15, 3.2 , 3.25,\n",
       "        3.3 , 3.35, 3.4 , 3.45, 3.5 , 3.55, 3.6 , 3.65, 3.7 ]])"
      ]
     },
     "execution_count": 68,
     "metadata": {},
     "output_type": "execute_result"
    }
   ],
   "source": [
    "pix_t"
   ]
  },
  {
   "cell_type": "code",
   "execution_count": 69,
   "id": "6c2f3998-43e8-40c9-96c0-13bbd72d9bd2",
   "metadata": {},
   "outputs": [],
   "source": [
    "pix_x=np.concatenate(([pix_x for i in np.arange(0,digitalsum_rt.shape[1])]), axis=1)\n",
    "pix_y=np.concatenate(([pix_y for i in np.arange(0,digitalsum_rt.shape[1])]), axis=1)"
   ]
  },
  {
   "cell_type": "code",
   "execution_count": 70,
   "id": "f38df3e1-2243-4393-9d84-124485607e6f",
   "metadata": {},
   "outputs": [
    {
     "data": {
      "text/plain": [
       "(7987, 3)"
      ]
     },
     "execution_count": 70,
     "metadata": {},
     "output_type": "execute_result"
    }
   ],
   "source": [
    "pixelmapping.shape"
   ]
  },
  {
   "cell_type": "code",
   "execution_count": 71,
   "id": "b6820aca-a17d-4fb7-8a48-5187ce8ce733",
   "metadata": {},
   "outputs": [
    {
     "data": {
      "text/plain": [
       "array([[0.     , 0.     , 0.     , ..., 0.     , 0.     , 0.     ],\n",
       "       [0.0243 , 0.0243 , 0.0243 , ..., 0.0243 , 0.0243 , 0.0243 ],\n",
       "       [0.01215, 0.01215, 0.01215, ..., 0.01215, 0.01215, 0.01215],\n",
       "       ...,\n",
       "       [1.0206 , 1.0206 , 1.0206 , ..., 1.0206 , 1.0206 , 1.0206 ],\n",
       "       [1.03275, 1.03275, 1.03275, ..., 1.03275, 1.03275, 1.03275],\n",
       "       [1.05705, 1.05705, 1.05705, ..., 1.05705, 1.05705, 1.05705]])"
      ]
     },
     "execution_count": 71,
     "metadata": {},
     "output_type": "execute_result"
    }
   ],
   "source": [
    "pix_x"
   ]
  },
  {
   "cell_type": "code",
   "execution_count": 72,
   "id": "9d898e38-81a7-44e1-a2a4-667826e64d06",
   "metadata": {},
   "outputs": [],
   "source": [
    "pix_t=np.concatenate(([pix_t for i in np.arange(0,digitalsum_rt.shape[0])]), axis=0)"
   ]
  },
  {
   "cell_type": "code",
   "execution_count": 73,
   "id": "6243a9fd-01db-4c0c-aab4-d91700f55c68",
   "metadata": {},
   "outputs": [
    {
     "data": {
      "text/plain": [
       "array([[0.  , 0.05, 0.1 , ..., 3.6 , 3.65, 3.7 ],\n",
       "       [0.  , 0.05, 0.1 , ..., 3.6 , 3.65, 3.7 ],\n",
       "       [0.  , 0.05, 0.1 , ..., 3.6 , 3.65, 3.7 ],\n",
       "       ...,\n",
       "       [0.  , 0.05, 0.1 , ..., 3.6 , 3.65, 3.7 ],\n",
       "       [0.  , 0.05, 0.1 , ..., 3.6 , 3.65, 3.7 ],\n",
       "       [0.  , 0.05, 0.1 , ..., 3.6 , 3.65, 3.7 ]])"
      ]
     },
     "execution_count": 73,
     "metadata": {},
     "output_type": "execute_result"
    }
   ],
   "source": [
    "pix_t"
   ]
  },
  {
   "cell_type": "code",
   "execution_count": 74,
   "id": "40665048-160a-44b9-b0cc-4a5c7de0b0b8",
   "metadata": {},
   "outputs": [
    {
     "data": {
      "text/plain": [
       "(7987, 75)"
      ]
     },
     "execution_count": 74,
     "metadata": {},
     "output_type": "execute_result"
    }
   ],
   "source": [
    "pix_t.shape"
   ]
  },
  {
   "cell_type": "code",
   "execution_count": 75,
   "id": "ace868dc-6e6b-4c56-8f3e-3562b8d38043",
   "metadata": {},
   "outputs": [
    {
     "data": {
      "text/plain": [
       "(7987, 75)"
      ]
     },
     "execution_count": 75,
     "metadata": {},
     "output_type": "execute_result"
    }
   ],
   "source": [
    "pix_y.shape"
   ]
  },
  {
   "cell_type": "code",
   "execution_count": 76,
   "id": "d78c8c7f-8757-4d6a-a23e-ca05b4d54038",
   "metadata": {},
   "outputs": [],
   "source": [
    "cut_y=pix_y[digitalsum_rt>6505]\n",
    "cut_x=pix_x[digitalsum_rt>6505]\n",
    "cut_t=pix_t[digitalsum_rt>6505]"
   ]
  },
  {
   "cell_type": "code",
   "execution_count": 77,
   "id": "598e6971-62b1-4561-b27f-77316c9f9320",
   "metadata": {},
   "outputs": [],
   "source": [
    "cut_y = np.expand_dims(cut_y,axis=1)"
   ]
  },
  {
   "cell_type": "code",
   "execution_count": 78,
   "id": "ae7e106f-2c54-43b9-9979-131f54d7ac4b",
   "metadata": {},
   "outputs": [
    {
     "data": {
      "text/plain": [
       "(7370, 1)"
      ]
     },
     "execution_count": 78,
     "metadata": {},
     "output_type": "execute_result"
    }
   ],
   "source": [
    "cut_y.shape"
   ]
  },
  {
   "cell_type": "code",
   "execution_count": 79,
   "id": "479ce014-baa3-4bc6-83fc-ceb66c6d3a64",
   "metadata": {},
   "outputs": [
    {
     "data": {
      "text/plain": [
       "(7370,)"
      ]
     },
     "execution_count": 79,
     "metadata": {},
     "output_type": "execute_result"
    }
   ],
   "source": [
    "cut_t.shape"
   ]
  },
  {
   "cell_type": "code",
   "execution_count": 80,
   "id": "192225c2-5e76-448d-ab8c-5c5d7b8f6503",
   "metadata": {},
   "outputs": [
    {
     "data": {
      "text/plain": [
       "array([[ 0.04209],\n",
       "       [-0.04209],\n",
       "       [-0.04209],\n",
       "       ...,\n",
       "       [ 0.14731],\n",
       "       [ 0.14731],\n",
       "       [ 0.14731]])"
      ]
     },
     "execution_count": 80,
     "metadata": {},
     "output_type": "execute_result"
    }
   ],
   "source": [
    "cut_y"
   ]
  },
  {
   "cell_type": "code",
   "execution_count": 81,
   "id": "5fa3471e-111a-440e-8fc3-744a0203e291",
   "metadata": {},
   "outputs": [],
   "source": [
    "cut_x = np.expand_dims(cut_x,axis=1)"
   ]
  },
  {
   "cell_type": "code",
   "execution_count": 82,
   "id": "f78c8d8a-ec4a-4b48-9e00-9b74128a61e0",
   "metadata": {},
   "outputs": [],
   "source": [
    "cut_t = np.expand_dims(cut_t,axis=1)"
   ]
  },
  {
   "cell_type": "code",
   "execution_count": 83,
   "id": "8296919b-07b7-4939-8b1d-69eaa99d3645",
   "metadata": {},
   "outputs": [
    {
     "data": {
      "text/plain": [
       "array([[0.     ],\n",
       "       [0.0243 ],\n",
       "       [0.0243 ],\n",
       "       ...,\n",
       "       [1.03275],\n",
       "       [1.03275],\n",
       "       [1.03275]])"
      ]
     },
     "execution_count": 83,
     "metadata": {},
     "output_type": "execute_result"
    }
   ],
   "source": [
    "cut_x"
   ]
  },
  {
   "cell_type": "code",
   "execution_count": 84,
   "id": "5b059b48-bfdb-49a2-ba15-71c5379036d9",
   "metadata": {},
   "outputs": [],
   "source": [
    "X=np.concatenate((cut_x,cut_y,cut_t), axis=1)"
   ]
  },
  {
   "cell_type": "code",
   "execution_count": 85,
   "id": "3c15e637-592c-4f89-bedf-31f92d9bc3f3",
   "metadata": {},
   "outputs": [
    {
     "data": {
      "text/plain": [
       "(7370, 3)"
      ]
     },
     "execution_count": 85,
     "metadata": {},
     "output_type": "execute_result"
    }
   ],
   "source": [
    "X.shape"
   ]
  },
  {
   "cell_type": "code",
   "execution_count": 211,
   "id": "73b753e0-aa59-412e-b6bb-26e949a52579",
   "metadata": {},
   "outputs": [],
   "source": [
    "dbscan = DBSCAN(eps=0.1, min_samples=20)\n",
    "clusters = dbscan.fit_predict(X)"
   ]
  },
  {
   "cell_type": "code",
   "execution_count": 212,
   "id": "d008d89c-76a5-43ac-bc6c-6d7e6e96be29",
   "metadata": {},
   "outputs": [
    {
     "data": {
      "text/plain": [
       "6322"
      ]
     },
     "execution_count": 212,
     "metadata": {},
     "output_type": "execute_result"
    }
   ],
   "source": [
    "len(clusters[clusters>=0])"
   ]
  },
  {
   "cell_type": "code",
   "execution_count": 213,
   "id": "dabf89fa-f053-4bf7-85ba-62813fa7c9f0",
   "metadata": {},
   "outputs": [],
   "source": [
    "cl_ID=np.unique(clusters)"
   ]
  },
  {
   "cell_type": "code",
   "execution_count": 214,
   "id": "2e803098-234a-4ab9-a8af-d592cbd7085f",
   "metadata": {},
   "outputs": [],
   "source": [
    "cl_ID=cl_ID[1:]"
   ]
  },
  {
   "cell_type": "code",
   "execution_count": 215,
   "id": "6db4b8b8-adc0-4e19-ae13-13175db74903",
   "metadata": {},
   "outputs": [
    {
     "data": {
      "text/plain": [
       "array([0, 1, 2, 3])"
      ]
     },
     "execution_count": 215,
     "metadata": {},
     "output_type": "execute_result"
    }
   ],
   "source": [
    "cl_ID"
   ]
  },
  {
   "cell_type": "code",
   "execution_count": 216,
   "id": "20acb044-6278-4f89-9715-1ecaab26c705",
   "metadata": {},
   "outputs": [
    {
     "name": "stdout",
     "output_type": "stream",
     "text": [
      "4\n",
      "6249\n"
     ]
    }
   ],
   "source": [
    "if len(cl_ID) > 0 :\n",
    "    try:\n",
    "        clustern = np.max([len(clusters[clusters==clID]) for clID in np.unique(clusters)[1:]])\n",
    "    except:\n",
    "        clustern = 0\n",
    "else:\n",
    "    clustern = 0\n",
    "\n",
    "print(len(cl_ID))\n",
    "print(clustern)"
   ]
  },
  {
   "cell_type": "code",
   "execution_count": 217,
   "id": "fbc2da48-3c10-4f90-ad5b-495ec061b132",
   "metadata": {},
   "outputs": [
    {
     "data": {
      "text/plain": [
       "24"
      ]
     },
     "execution_count": 217,
     "metadata": {},
     "output_type": "execute_result"
    }
   ],
   "source": [
    "len(clusters[clusters==0])"
   ]
  },
  {
   "cell_type": "code",
   "execution_count": 218,
   "id": "3e7c5a93-e8a2-4b3b-9acf-50f613df83af",
   "metadata": {},
   "outputs": [
    {
     "data": {
      "text/plain": [
       "26"
      ]
     },
     "execution_count": 218,
     "metadata": {},
     "output_type": "execute_result"
    }
   ],
   "source": [
    "len(clusters[clusters==1])"
   ]
  },
  {
   "cell_type": "code",
   "execution_count": 219,
   "id": "4bbaef29-c49e-4589-b5e0-d8761fcac947",
   "metadata": {},
   "outputs": [
    {
     "data": {
      "text/plain": [
       "23"
      ]
     },
     "execution_count": 219,
     "metadata": {},
     "output_type": "execute_result"
    }
   ],
   "source": [
    "len(clusters[clusters==2])"
   ]
  },
  {
   "cell_type": "code",
   "execution_count": 220,
   "id": "1e9d77ac-d8b6-4c7f-83be-68e2599a7748",
   "metadata": {},
   "outputs": [
    {
     "data": {
      "text/plain": [
       "6249"
      ]
     },
     "execution_count": 220,
     "metadata": {},
     "output_type": "execute_result"
    }
   ],
   "source": [
    "len(clusters[clusters==3])"
   ]
  },
  {
   "cell_type": "code",
   "execution_count": 221,
   "id": "ea001b76-d32c-44e8-b7fb-2f13f7ff36c3",
   "metadata": {},
   "outputs": [
    {
     "data": {
      "text/plain": [
       "(7987, 75)"
      ]
     },
     "execution_count": 221,
     "metadata": {},
     "output_type": "execute_result"
    }
   ],
   "source": [
    "wf.shape"
   ]
  },
  {
   "cell_type": "code",
   "execution_count": 222,
   "id": "7963b6aa-8f07-4c19-85cf-0957b626adc4",
   "metadata": {},
   "outputs": [
    {
     "data": {
      "text/plain": [
       "array([[0., 0., 0., ..., 0., 0., 0.],\n",
       "       [0., 0., 0., ..., 0., 0., 0.],\n",
       "       [0., 0., 0., ..., 0., 0., 0.],\n",
       "       ...,\n",
       "       [0., 0., 0., ..., 0., 0., 0.],\n",
       "       [0., 0., 0., ..., 0., 0., 0.],\n",
       "       [0., 0., 0., ..., 0., 0., 0.]])"
      ]
     },
     "execution_count": 222,
     "metadata": {},
     "output_type": "execute_result"
    }
   ],
   "source": [
    "np.zeros(wf.shape)"
   ]
  },
  {
   "cell_type": "code",
   "execution_count": 223,
   "id": "9eb3a7a4-6aa4-470c-85bf-f92bd1794c0b",
   "metadata": {},
   "outputs": [],
   "source": [
    "clss=np.array([],dtype=int)"
   ]
  },
  {
   "cell_type": "code",
   "execution_count": 224,
   "id": "70666fc7-d1ba-4842-8101-549fb070e5f7",
   "metadata": {},
   "outputs": [
    {
     "data": {
      "text/plain": [
       "array([], dtype=int64)"
      ]
     },
     "execution_count": 224,
     "metadata": {},
     "output_type": "execute_result"
    }
   ],
   "source": [
    "clss"
   ]
  },
  {
   "cell_type": "code",
   "execution_count": 226,
   "id": "c58daecb-1d7d-48a1-b451-c07b055d1e92",
   "metadata": {},
   "outputs": [
    {
     "data": {
      "text/plain": [
       "numpy.int64"
      ]
     },
     "execution_count": 226,
     "metadata": {},
     "output_type": "execute_result"
    }
   ],
   "source": [
    "type(clusters[0])"
   ]
  },
  {
   "cell_type": "code",
   "execution_count": 227,
   "id": "f348021c-0549-4b94-8e4c-1fda18d66fad",
   "metadata": {},
   "outputs": [
    {
     "data": {
      "text/plain": [
       "numpy.ndarray"
      ]
     },
     "execution_count": 227,
     "metadata": {},
     "output_type": "execute_result"
    }
   ],
   "source": [
    "type(clusters)"
   ]
  },
  {
   "cell_type": "code",
   "execution_count": 228,
   "id": "dff36712-1e55-4710-96f5-c87476a3109e",
   "metadata": {},
   "outputs": [
    {
     "data": {
      "text/plain": [
       "array([-1,  2,  2, ...,  3,  3,  3])"
      ]
     },
     "execution_count": 228,
     "metadata": {},
     "output_type": "execute_result"
    }
   ],
   "source": [
    "clusters"
   ]
  },
  {
   "cell_type": "code",
   "execution_count": 229,
   "id": "a575fcca-cff6-45b4-96e3-de4b72c66079",
   "metadata": {},
   "outputs": [
    {
     "data": {
      "text/plain": [
       "array([], dtype=int64)"
      ]
     },
     "execution_count": 229,
     "metadata": {},
     "output_type": "execute_result"
    }
   ],
   "source": [
    "np.empty(shape=(0,), dtype=int)"
   ]
  },
  {
   "cell_type": "code",
   "execution_count": 236,
   "id": "8bff0452-5958-4ff5-b26e-f906c5c4b061",
   "metadata": {},
   "outputs": [
    {
     "data": {
      "text/plain": [
       "[24, 26, 23, 6249]"
      ]
     },
     "execution_count": 236,
     "metadata": {},
     "output_type": "execute_result"
    }
   ],
   "source": [
    "[len(clusters[clusters==clID]) for clID in np.unique(clusters)[1:]]"
   ]
  },
  {
   "cell_type": "code",
   "execution_count": 237,
   "id": "2eaea686-6a1b-4fc2-9293-7e07afa80832",
   "metadata": {},
   "outputs": [
    {
     "data": {
      "text/plain": [
       "3"
      ]
     },
     "execution_count": 237,
     "metadata": {},
     "output_type": "execute_result"
    }
   ],
   "source": [
    "np.argmax([len(clusters[clusters==clID]) for clID in np.unique(clusters)[1:]])"
   ]
  },
  {
   "cell_type": "code",
   "execution_count": 234,
   "id": "00687129-a85a-4eb8-a199-bf5c85c1a7c6",
   "metadata": {},
   "outputs": [
    {
     "data": {
      "text/plain": [
       "(7370,)"
      ]
     },
     "execution_count": 234,
     "metadata": {},
     "output_type": "execute_result"
    }
   ],
   "source": [
    "clusters.shape"
   ]
  },
  {
   "cell_type": "code",
   "execution_count": 235,
   "id": "fb7a124d-cd47-4f3f-b7e1-322f8820a474",
   "metadata": {},
   "outputs": [
    {
     "data": {
      "text/plain": [
       "array([0, 1, 2, 3])"
      ]
     },
     "execution_count": 235,
     "metadata": {},
     "output_type": "execute_result"
    }
   ],
   "source": [
    "np.unique(clusters)[1:]"
   ]
  },
  {
   "cell_type": "code",
   "execution_count": 240,
   "id": "e6cb845a-5c64-4613-9b9f-a73c623e2350",
   "metadata": {},
   "outputs": [
    {
     "data": {
      "text/plain": [
       "array([-1,  0,  1,  2,  3])"
      ]
     },
     "execution_count": 240,
     "metadata": {},
     "output_type": "execute_result"
    }
   ],
   "source": [
    "np.unique(clusters)"
   ]
  },
  {
   "cell_type": "code",
   "execution_count": 241,
   "id": "3c20eecd-1276-4453-8164-9af37722ce38",
   "metadata": {},
   "outputs": [
    {
     "data": {
      "text/plain": [
       "array([-1,  0,  1,  2,  3])"
      ]
     },
     "execution_count": 241,
     "metadata": {},
     "output_type": "execute_result"
    }
   ],
   "source": [
    "np.unique(clusters)"
   ]
  },
  {
   "cell_type": "code",
   "execution_count": 243,
   "id": "8e28f1ca-b4c2-4470-a87b-9bfbf85661da",
   "metadata": {},
   "outputs": [],
   "source": [
    "pointID=np.unique(clusters)"
   ]
  },
  {
   "cell_type": "code",
   "execution_count": 245,
   "id": "1ea8a78e-ff7a-47d7-818a-b41d9a5526b6",
   "metadata": {},
   "outputs": [],
   "source": [
    "pointID=pointID[pointID>-1]"
   ]
  },
  {
   "cell_type": "code",
   "execution_count": 246,
   "id": "d91f786a-5825-4abc-9557-bf744d1f8ad0",
   "metadata": {},
   "outputs": [
    {
     "data": {
      "text/plain": [
       "array([0, 1, 2, 3])"
      ]
     },
     "execution_count": 246,
     "metadata": {},
     "output_type": "execute_result"
    }
   ],
   "source": [
    "pointID"
   ]
  },
  {
   "cell_type": "code",
   "execution_count": 247,
   "id": "8b8bd2d1-afef-4265-9d43-28ccdf6b6338",
   "metadata": {},
   "outputs": [
    {
     "data": {
      "text/plain": [
       "3"
      ]
     },
     "execution_count": 247,
     "metadata": {},
     "output_type": "execute_result"
    }
   ],
   "source": [
    "np.argmax([len(clusters[clusters==clID]) for clID in pointID])"
   ]
  },
  {
   "cell_type": "code",
   "execution_count": 251,
   "id": "8d250205-6312-4acd-81a4-340451cc6c88",
   "metadata": {},
   "outputs": [
    {
     "data": {
      "text/plain": [
       "6249"
      ]
     },
     "execution_count": 251,
     "metadata": {},
     "output_type": "execute_result"
    }
   ],
   "source": [
    "len(clusters[clusters==pointID[3]])"
   ]
  },
  {
   "cell_type": "code",
   "execution_count": 252,
   "id": "e80f3c28-e322-4bf7-bbdf-09ba5dbfcc7d",
   "metadata": {},
   "outputs": [],
   "source": [
    "ll={'rrr':444}"
   ]
  },
  {
   "cell_type": "code",
   "execution_count": 254,
   "id": "50c60708-a7f8-4b9e-9f8e-17499e5d8ad3",
   "metadata": {},
   "outputs": [
    {
     "data": {
      "text/plain": [
       "dict_keys(['rrr'])"
      ]
     },
     "execution_count": 254,
     "metadata": {},
     "output_type": "execute_result"
    }
   ],
   "source": [
    "ll.keys()"
   ]
  },
  {
   "cell_type": "code",
   "execution_count": 256,
   "id": "45753d37-6ca3-442f-896d-08d9976ef82f",
   "metadata": {},
   "outputs": [
    {
     "data": {
      "text/plain": [
       "{'rrr': 444}"
      ]
     },
     "execution_count": 256,
     "metadata": {},
     "output_type": "execute_result"
    }
   ],
   "source": [
    "ll"
   ]
  },
  {
   "cell_type": "code",
   "execution_count": 264,
   "id": "e2bfb801-0617-4a91-930c-d95ae5e246ef",
   "metadata": {},
   "outputs": [
    {
     "data": {
      "text/plain": [
       "{'n_clusters': 0,\n",
       " 'n_points': 0,\n",
       " 'x_mean': -999.0,\n",
       " 'y_mean': -999.0,\n",
       " 't_mean': -999.0,\n",
       " 'channelID': -999,\n",
       " 'timeID': -999}"
      ]
     },
     "execution_count": 264,
     "metadata": {},
     "output_type": "execute_result"
    }
   ],
   "source": [
    "def_clusters_info()"
   ]
  },
  {
   "cell_type": "code",
   "execution_count": 295,
   "id": "9cd5bb49-8e65-4101-a603-292a915d9eee",
   "metadata": {},
   "outputs": [
    {
     "data": {
      "text/plain": [
       "(3584, 3)"
      ]
     },
     "execution_count": 295,
     "metadata": {},
     "output_type": "execute_result"
    }
   ],
   "source": [
    "pixelmapping[pixelmapping[:,1]> 0.1].shape"
   ]
  },
  {
   "cell_type": "code",
   "execution_count": null,
   "id": "0d7ae742-b134-4fc5-9e18-c9be2bc0b5c7",
   "metadata": {},
   "outputs": [],
   "source": []
  }
 ],
 "metadata": {
  "kernelspec": {
   "display_name": "Python 3 (ipykernel)",
   "language": "python",
   "name": "python3"
  },
  "language_info": {
   "codemirror_mode": {
    "name": "ipython",
    "version": 3
   },
   "file_extension": ".py",
   "mimetype": "text/x-python",
   "name": "python",
   "nbconvert_exporter": "python",
   "pygments_lexer": "ipython3",
   "version": "3.12.3"
  }
 },
 "nbformat": 4,
 "nbformat_minor": 5
}
