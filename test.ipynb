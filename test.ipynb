{
 "cells": [
  {
   "cell_type": "code",
   "execution_count": 1,
   "id": "933522e5-c203-4cf0-b5ef-458ddb27cdf8",
   "metadata": {},
   "outputs": [],
   "source": [
    "from eventio import SimTelFile\n",
    "import pandas as pd\n",
    "import numpy as np\n",
    "import pickle as pkl\n",
    "import sys\n",
    "import time\n",
    "import matplotlib.pyplot as plt\n",
    "from sklearn.cluster import DBSCAN"
   ]
  },
  {
   "cell_type": "code",
   "execution_count": 2,
   "id": "ffd3d265-ea2d-477c-9eab-7dc35ec9b9ec",
   "metadata": {},
   "outputs": [],
   "source": [
    "def test(datafilein = \"../simtel_data/proton/data/corsika_run1.simtel.gz\"):\n",
    "    #\n",
    "    sf = SimTelFile(datafilein)\n",
    "    tic = time.time()\n",
    "    toc = time.time()\n",
    "    #\n",
    "    it_cout = 0\n",
    "    file_counter=0\n",
    "    first_evne_in_file=True\n",
    "    #\n",
    "    for ev in sf :\n",
    "        event_id = -999\n",
    "        #try :\n",
    "        #    event_id = ev['event_id']\n",
    "        #except:\n",
    "        #    event_id == -999\n",
    "\n",
    "        #if (it_cout%1000==0) :\n",
    "        #    toc = time.time()\n",
    "        #    print('{:10d} {:10d} {:10.2f} s'.format(it_cout, event_id, toc - tic))\n",
    "        #    tic = time.time()\n",
    "\n",
    "        if (it_cout%1000==0) :\n",
    "            toc = time.time()\n",
    "            print('{:10d} {:10.2f} s'.format(it_cout, toc - tic))\n",
    "            tic = time.time()\n",
    "        it_cout = it_cout + 1\n",
    "    \n",
    "    sf.close()"
   ]
  },
  {
   "cell_type": "code",
   "execution_count": 3,
   "id": "c429776f-280c-4c8a-9a96-bfb08d74f65c",
   "metadata": {},
   "outputs": [],
   "source": [
    "def print_ev_info(datafilein = \"../simtel_data/proton/data/corsika_run1.simtel.gz\",evID=1240202):\n",
    "    sf = SimTelFile(datafilein)\n",
    "    for ev in sf:\n",
    "        #\n",
    "        if (int(ev['event_id']) == int(evID)):\n",
    "            print(\"----------------------------------\")\n",
    "            print(\"event_id         \", ev['event_id'])\n",
    "            print(\"energy           \", ev['mc_shower']['energy'])\n",
    "            print(\"xcore            \", ev['mc_event']['xcore'])\n",
    "            print(\"ycore            \", ev['mc_event']['ycore'])\n",
    "            print(\"ev_time          \", ev['telescope_events'][1]['header']['readout_time'])\n",
    "            print(\"nphotons         \", len(ev['photons'][0]))\n",
    "            print(\"n_pe             \", ev['photoelectrons'][0]['n_pe'])\n",
    "            print(\"n_pixels         \", (ev['photoelectrons'][0]['n_pixels']-np.sum(ev['photoelectrons'][0]['photoelectrons']==0)))\n",
    "            print(\"wfshape          \", ev['telescope_events'][1]['adc_samples'][0].shape)\n",
    "            print(\"type             \", type(ev['telescope_events'][1]['adc_samples'][0]))\n",
    "            print(\"typeadc          \", type(ev['telescope_events'][1]['adc_samples'][0][0][0]))\n",
    "            print(\"----------------------------------\")\n",
    "            break\n",
    "    \n",
    "    sf.close()"
   ]
  },
  {
   "cell_type": "code",
   "execution_count": 4,
   "id": "142b93ac-804a-45c9-9bac-957fbfb2ff6c",
   "metadata": {},
   "outputs": [],
   "source": [
    "def get_wf(datafilein = \"../simtel_data/proton/data/corsika_run1.simtel.gz\", evID=1240202):\n",
    "    sf = SimTelFile(datafilein)\n",
    "    wf=np.array([], dtype=np.uint16)\n",
    "    for ev in sf:\n",
    "        if (int(ev['event_id']) == int(evID)):\n",
    "            wf=ev['telescope_events'][1]['adc_samples'][0]\n",
    "            break\n",
    "    \n",
    "    sf.close()\n",
    "\n",
    "    return wf"
   ]
  },
  {
   "cell_type": "code",
   "execution_count": 5,
   "id": "4922f7a3-6673-4a97-8230-816770ec1f98",
   "metadata": {},
   "outputs": [],
   "source": [
    "def get_pixel_mapping(datafilein = \"../simtel_data/proton/data/corsika_run1.simtel.gz\", outmap_csv = 'pixel_mapping.csv'):\n",
    "    sf = SimTelFile(datafilein)\n",
    "    #\n",
    "    n_pixels=float(sf.telescope_descriptions[1]['camera_organization']['n_pixels'])\n",
    "    n_drawers=float(sf.telescope_descriptions[1]['camera_organization']['n_drawers'])\n",
    "    pixel_size=float(sf.telescope_descriptions[1]['camera_settings']['pixel_size'][0])\n",
    "    #\n",
    "    the_map=np.concatenate((sf.telescope_descriptions[1]['camera_settings']['pixel_x'].reshape(int(n_pixels),1),\n",
    "                            sf.telescope_descriptions[1]['camera_settings']['pixel_y'].reshape(int(n_pixels),1),\n",
    "                            sf.telescope_descriptions[1]['camera_organization']['drawer'].reshape(int(n_pixels),1)), axis=1)\n",
    "    np.savetxt(outmap_csv, the_map, delimiter=' ',fmt='%f')\n",
    "    #\n",
    "    print('n_pixels   = ', int(n_pixels))\n",
    "    print('n_drawers  = ', int(n_drawers))\n",
    "    print('pixel_size = ', pixel_size)\n",
    "    #\n",
    "    # 0.024300\n",
    "    # 0.023300\n",
    "    #\n",
    "    sf.close()"
   ]
  },
  {
   "cell_type": "code",
   "execution_count": 6,
   "id": "d9778451-f777-4151-86cc-33c3a9fb350b",
   "metadata": {},
   "outputs": [],
   "source": [
    "def rolling_window_sum(arr, window_size, axis):\n",
    "    cumsum = np.cumsum(arr, axis=axis)\n",
    "    cumsum_shifted = np.roll(cumsum, shift=1, axis=axis)\n",
    "    cumsum_shifted[:, 0] = 0  # Set the first element to 0\n",
    "    return cumsum - cumsum_shifted"
   ]
  },
  {
   "cell_type": "code",
   "execution_count": 7,
   "id": "7fbd9d7a-3cee-4140-9465-8c955eaec6ca",
   "metadata": {},
   "outputs": [],
   "source": [
    "def def_clusters_info( n_clusters=0, n_points=0,\n",
    "                       x_mean=-999.0, y_mean=-999.0, t_mean=-999.0,\n",
    "                       channelID=-999, timeID=-999):\n",
    "    clusters_info={'n_clusters':int(n_clusters),\n",
    "                   'n_points':int(n_points),\n",
    "                   'x_mean':x_mean,\n",
    "                   'y_mean':y_mean,\n",
    "                   't_mean':t_mean,\n",
    "                   'channelID':int(channelID),\n",
    "                   'timeID':int(timeID)}\n",
    "    return clusters_info"
   ]
  },
  {
   "cell_type": "code",
   "execution_count": 8,
   "id": "99283c32-2705-4e7d-a1a6-47f6ff184ce7",
   "metadata": {},
   "outputs": [],
   "source": [
    "df = pd.read_csv('../simtel_data/proton/npe_csv/corsika_run1.npe.csv')"
   ]
  },
  {
   "cell_type": "code",
   "execution_count": 9,
   "id": "b72afed9-fc09-4859-9ba3-e420f744c9af",
   "metadata": {},
   "outputs": [],
   "source": [
    "#test()"
   ]
  },
  {
   "cell_type": "code",
   "execution_count": 10,
   "id": "8ce654b3-9703-4912-8490-3bb6862c30c3",
   "metadata": {},
   "outputs": [
    {
     "data": {
      "text/html": [
       "<div>\n",
       "<style scoped>\n",
       "    .dataframe tbody tr th:only-of-type {\n",
       "        vertical-align: middle;\n",
       "    }\n",
       "\n",
       "    .dataframe tbody tr th {\n",
       "        vertical-align: top;\n",
       "    }\n",
       "\n",
       "    .dataframe thead th {\n",
       "        text-align: right;\n",
       "    }\n",
       "</style>\n",
       "<table border=\"1\" class=\"dataframe\">\n",
       "  <thead>\n",
       "    <tr style=\"text-align: right;\">\n",
       "      <th></th>\n",
       "      <th>Unnamed: 0</th>\n",
       "      <th>event_id</th>\n",
       "      <th>energy</th>\n",
       "      <th>azimuth</th>\n",
       "      <th>altitude</th>\n",
       "      <th>h_first_int</th>\n",
       "      <th>xmax</th>\n",
       "      <th>hmax</th>\n",
       "      <th>emax</th>\n",
       "      <th>cmax</th>\n",
       "      <th>xcore</th>\n",
       "      <th>ycore</th>\n",
       "      <th>ev_time</th>\n",
       "      <th>nphotons</th>\n",
       "      <th>n_pe</th>\n",
       "      <th>n_pixels</th>\n",
       "    </tr>\n",
       "  </thead>\n",
       "  <tbody>\n",
       "    <tr>\n",
       "      <th>2</th>\n",
       "      <td>2</td>\n",
       "      <td>5504.0</td>\n",
       "      <td>1.123066</td>\n",
       "      <td>3.220341</td>\n",
       "      <td>1.271500</td>\n",
       "      <td>12663.388672</td>\n",
       "      <td>457.200012</td>\n",
       "      <td>6639.671875</td>\n",
       "      <td>461.428558</td>\n",
       "      <td>460.637756</td>\n",
       "      <td>-200.572037</td>\n",
       "      <td>52.835350</td>\n",
       "      <td>98.220779</td>\n",
       "      <td>18489.0</td>\n",
       "      <td>565.0</td>\n",
       "      <td>275.0</td>\n",
       "    </tr>\n",
       "    <tr>\n",
       "      <th>3</th>\n",
       "      <td>3</td>\n",
       "      <td>6409.0</td>\n",
       "      <td>0.122709</td>\n",
       "      <td>2.996659</td>\n",
       "      <td>1.231897</td>\n",
       "      <td>17323.265625</td>\n",
       "      <td>294.000000</td>\n",
       "      <td>9758.931641</td>\n",
       "      <td>294.000000</td>\n",
       "      <td>328.353088</td>\n",
       "      <td>-70.818909</td>\n",
       "      <td>291.579742</td>\n",
       "      <td>-99.639191</td>\n",
       "      <td>282.0</td>\n",
       "      <td>99.0</td>\n",
       "      <td>78.0</td>\n",
       "    </tr>\n",
       "    <tr>\n",
       "      <th>4</th>\n",
       "      <td>4</td>\n",
       "      <td>7604.0</td>\n",
       "      <td>0.230914</td>\n",
       "      <td>3.106559</td>\n",
       "      <td>1.238464</td>\n",
       "      <td>13307.477539</td>\n",
       "      <td>516.086975</td>\n",
       "      <td>5728.506348</td>\n",
       "      <td>516.956543</td>\n",
       "      <td>458.041138</td>\n",
       "      <td>7.118546</td>\n",
       "      <td>214.104721</td>\n",
       "      <td>-106.050636</td>\n",
       "      <td>1008.0</td>\n",
       "      <td>56.0</td>\n",
       "      <td>43.0</td>\n",
       "    </tr>\n",
       "    <tr>\n",
       "      <th>6</th>\n",
       "      <td>6</td>\n",
       "      <td>8005.0</td>\n",
       "      <td>0.177895</td>\n",
       "      <td>2.964123</td>\n",
       "      <td>1.191779</td>\n",
       "      <td>34326.316406</td>\n",
       "      <td>440.526306</td>\n",
       "      <td>6914.260742</td>\n",
       "      <td>441.000000</td>\n",
       "      <td>458.594757</td>\n",
       "      <td>280.757141</td>\n",
       "      <td>300.257355</td>\n",
       "      <td>-535.798645</td>\n",
       "      <td>642.0</td>\n",
       "      <td>258.0</td>\n",
       "      <td>112.0</td>\n",
       "    </tr>\n",
       "    <tr>\n",
       "      <th>9</th>\n",
       "      <td>9</td>\n",
       "      <td>32706.0</td>\n",
       "      <td>0.958457</td>\n",
       "      <td>3.216358</td>\n",
       "      <td>1.133155</td>\n",
       "      <td>33235.796875</td>\n",
       "      <td>291.428558</td>\n",
       "      <td>9817.926758</td>\n",
       "      <td>296.666656</td>\n",
       "      <td>300.552216</td>\n",
       "      <td>747.484558</td>\n",
       "      <td>-172.879349</td>\n",
       "      <td>-1094.908569</td>\n",
       "      <td>312.0</td>\n",
       "      <td>69.0</td>\n",
       "      <td>37.0</td>\n",
       "    </tr>\n",
       "    <tr>\n",
       "      <th>...</th>\n",
       "      <td>...</td>\n",
       "      <td>...</td>\n",
       "      <td>...</td>\n",
       "      <td>...</td>\n",
       "      <td>...</td>\n",
       "      <td>...</td>\n",
       "      <td>...</td>\n",
       "      <td>...</td>\n",
       "      <td>...</td>\n",
       "      <td>...</td>\n",
       "      <td>...</td>\n",
       "      <td>...</td>\n",
       "      <td>...</td>\n",
       "      <td>...</td>\n",
       "      <td>...</td>\n",
       "      <td>...</td>\n",
       "    </tr>\n",
       "    <tr>\n",
       "      <th>2798</th>\n",
       "      <td>2798</td>\n",
       "      <td>9969107.0</td>\n",
       "      <td>0.642979</td>\n",
       "      <td>2.926653</td>\n",
       "      <td>1.219998</td>\n",
       "      <td>13679.455078</td>\n",
       "      <td>404.666656</td>\n",
       "      <td>7533.285156</td>\n",
       "      <td>404.545441</td>\n",
       "      <td>365.321869</td>\n",
       "      <td>-180.834732</td>\n",
       "      <td>557.983826</td>\n",
       "      <td>-22.941948</td>\n",
       "      <td>380.0</td>\n",
       "      <td>95.0</td>\n",
       "      <td>74.0</td>\n",
       "    </tr>\n",
       "    <tr>\n",
       "      <th>2800</th>\n",
       "      <td>2800</td>\n",
       "      <td>9975401.0</td>\n",
       "      <td>0.708993</td>\n",
       "      <td>3.344345</td>\n",
       "      <td>1.154644</td>\n",
       "      <td>14763.840820</td>\n",
       "      <td>262.131134</td>\n",
       "      <td>10521.056641</td>\n",
       "      <td>263.214294</td>\n",
       "      <td>280.543701</td>\n",
       "      <td>576.990051</td>\n",
       "      <td>-643.632751</td>\n",
       "      <td>-890.937439</td>\n",
       "      <td>205.0</td>\n",
       "      <td>65.0</td>\n",
       "      <td>52.0</td>\n",
       "    </tr>\n",
       "    <tr>\n",
       "      <th>2802</th>\n",
       "      <td>2802</td>\n",
       "      <td>9975408.0</td>\n",
       "      <td>0.708993</td>\n",
       "      <td>3.344345</td>\n",
       "      <td>1.154644</td>\n",
       "      <td>14763.840820</td>\n",
       "      <td>262.131134</td>\n",
       "      <td>10521.056641</td>\n",
       "      <td>263.214294</td>\n",
       "      <td>280.543701</td>\n",
       "      <td>513.955627</td>\n",
       "      <td>-642.985596</td>\n",
       "      <td>-830.090576</td>\n",
       "      <td>289.0</td>\n",
       "      <td>103.0</td>\n",
       "      <td>69.0</td>\n",
       "    </tr>\n",
       "    <tr>\n",
       "      <th>2805</th>\n",
       "      <td>2805</td>\n",
       "      <td>9993705.0</td>\n",
       "      <td>1.014231</td>\n",
       "      <td>3.137933</td>\n",
       "      <td>1.209304</td>\n",
       "      <td>22244.279297</td>\n",
       "      <td>270.000000</td>\n",
       "      <td>10326.268555</td>\n",
       "      <td>270.000000</td>\n",
       "      <td>276.364532</td>\n",
       "      <td>-362.256805</td>\n",
       "      <td>-333.659271</td>\n",
       "      <td>315.450348</td>\n",
       "      <td>1360.0</td>\n",
       "      <td>94.0</td>\n",
       "      <td>60.0</td>\n",
       "    </tr>\n",
       "    <tr>\n",
       "      <th>2806</th>\n",
       "      <td>2806</td>\n",
       "      <td>9993706.0</td>\n",
       "      <td>1.014231</td>\n",
       "      <td>3.137933</td>\n",
       "      <td>1.209304</td>\n",
       "      <td>22244.279297</td>\n",
       "      <td>270.000000</td>\n",
       "      <td>10326.268555</td>\n",
       "      <td>270.000000</td>\n",
       "      <td>276.364532</td>\n",
       "      <td>-496.278564</td>\n",
       "      <td>-100.960297</td>\n",
       "      <td>471.746948</td>\n",
       "      <td>1347.0</td>\n",
       "      <td>172.0</td>\n",
       "      <td>90.0</td>\n",
       "    </tr>\n",
       "  </tbody>\n",
       "</table>\n",
       "<p>1240 rows × 16 columns</p>\n",
       "</div>"
      ],
      "text/plain": [
       "      Unnamed: 0   event_id    energy   azimuth  altitude   h_first_int  \\\n",
       "2              2     5504.0  1.123066  3.220341  1.271500  12663.388672   \n",
       "3              3     6409.0  0.122709  2.996659  1.231897  17323.265625   \n",
       "4              4     7604.0  0.230914  3.106559  1.238464  13307.477539   \n",
       "6              6     8005.0  0.177895  2.964123  1.191779  34326.316406   \n",
       "9              9    32706.0  0.958457  3.216358  1.133155  33235.796875   \n",
       "...          ...        ...       ...       ...       ...           ...   \n",
       "2798        2798  9969107.0  0.642979  2.926653  1.219998  13679.455078   \n",
       "2800        2800  9975401.0  0.708993  3.344345  1.154644  14763.840820   \n",
       "2802        2802  9975408.0  0.708993  3.344345  1.154644  14763.840820   \n",
       "2805        2805  9993705.0  1.014231  3.137933  1.209304  22244.279297   \n",
       "2806        2806  9993706.0  1.014231  3.137933  1.209304  22244.279297   \n",
       "\n",
       "            xmax          hmax        emax        cmax       xcore  \\\n",
       "2     457.200012   6639.671875  461.428558  460.637756 -200.572037   \n",
       "3     294.000000   9758.931641  294.000000  328.353088  -70.818909   \n",
       "4     516.086975   5728.506348  516.956543  458.041138    7.118546   \n",
       "6     440.526306   6914.260742  441.000000  458.594757  280.757141   \n",
       "9     291.428558   9817.926758  296.666656  300.552216  747.484558   \n",
       "...          ...           ...         ...         ...         ...   \n",
       "2798  404.666656   7533.285156  404.545441  365.321869 -180.834732   \n",
       "2800  262.131134  10521.056641  263.214294  280.543701  576.990051   \n",
       "2802  262.131134  10521.056641  263.214294  280.543701  513.955627   \n",
       "2805  270.000000  10326.268555  270.000000  276.364532 -362.256805   \n",
       "2806  270.000000  10326.268555  270.000000  276.364532 -496.278564   \n",
       "\n",
       "           ycore      ev_time  nphotons   n_pe  n_pixels  \n",
       "2      52.835350    98.220779   18489.0  565.0     275.0  \n",
       "3     291.579742   -99.639191     282.0   99.0      78.0  \n",
       "4     214.104721  -106.050636    1008.0   56.0      43.0  \n",
       "6     300.257355  -535.798645     642.0  258.0     112.0  \n",
       "9    -172.879349 -1094.908569     312.0   69.0      37.0  \n",
       "...          ...          ...       ...    ...       ...  \n",
       "2798  557.983826   -22.941948     380.0   95.0      74.0  \n",
       "2800 -643.632751  -890.937439     205.0   65.0      52.0  \n",
       "2802 -642.985596  -830.090576     289.0  103.0      69.0  \n",
       "2805 -333.659271   315.450348    1360.0   94.0      60.0  \n",
       "2806 -100.960297   471.746948    1347.0  172.0      90.0  \n",
       "\n",
       "[1240 rows x 16 columns]"
      ]
     },
     "execution_count": 10,
     "metadata": {},
     "output_type": "execute_result"
    }
   ],
   "source": [
    "df[df['n_pe']>50]"
   ]
  },
  {
   "cell_type": "code",
   "execution_count": 11,
   "id": "31598945-c995-4534-a4bc-5eab199aa59e",
   "metadata": {},
   "outputs": [
    {
     "name": "stdout",
     "output_type": "stream",
     "text": [
      "----------------------------------\n",
      "event_id          5504\n",
      "energy            1.1230659484863281\n",
      "xcore             -200.57203674316406\n",
      "ycore             52.835350036621094\n",
      "ev_time           98.22077941894531\n",
      "nphotons          18489\n",
      "n_pe              565\n",
      "n_pixels          275\n",
      "wfshape           (7987, 75)\n",
      "type              <class 'numpy.ndarray'>\n",
      "typeadc           <class 'numpy.uint16'>\n",
      "----------------------------------\n"
     ]
    }
   ],
   "source": [
    "evID=5504\n",
    "#evID=1240202\n",
    "#evID=94302\n",
    "#print_ev_info(evID=)\n",
    "print_ev_info(evID=evID)"
   ]
  },
  {
   "cell_type": "code",
   "execution_count": 12,
   "id": "bdfdc244-29f0-4559-b1c2-97cab674ad2b",
   "metadata": {},
   "outputs": [
    {
     "name": "stdout",
     "output_type": "stream",
     "text": [
      "wfshape           (7987, 75)\n",
      "type              <class 'numpy.ndarray'>\n",
      "typeadc           <class 'numpy.uint16'>\n"
     ]
    }
   ],
   "source": [
    "wf=get_wf(evID=evID)\n",
    "print(\"wfshape          \", wf.shape)\n",
    "print(\"type             \", type(wf))\n",
    "print(\"typeadc          \", type(wf[0][0]))"
   ]
  },
  {
   "cell_type": "code",
   "execution_count": 13,
   "id": "11d01466-6a7f-417d-a877-b795255f7271",
   "metadata": {},
   "outputs": [],
   "source": [
    "max_wf=np.amax(wf,axis=1)"
   ]
  },
  {
   "cell_type": "code",
   "execution_count": 14,
   "id": "ace2f3c9-f02e-4cd9-90b3-815854cb9a71",
   "metadata": {},
   "outputs": [
    {
     "data": {
      "image/png": "[encoded data removed]",
      "text/plain": [
       "<Figure size 640x480 with 1 Axes>"
      ]
     },
     "metadata": {},
     "output_type": "display_data"
    }
   ],
   "source": [
    "plt.hist(max_wf, bins=np.linspace(300, 1000, num=200), edgecolor='black')\n",
    "# Add labels and title\n",
    "#plt.xlabel('npe')\n",
    "#plt.ylabel('')\n",
    "#plt.title('npe')\n",
    "plt.yscale('log')  # Set y-axis to logarithmic scale\n",
    "#plt.grid(True)\n",
    "# Show the plot\n",
    "plt.show()"
   ]
  },
  {
   "cell_type": "code",
   "execution_count": 15,
   "id": "bbb126f2-48fa-40ce-8234-e857d46e0709",
   "metadata": {},
   "outputs": [
    {
     "data": {
      "text/plain": [
       "7513"
      ]
     },
     "execution_count": 15,
     "metadata": {},
     "output_type": "execute_result"
    }
   ],
   "source": [
    "np.argmax(max_wf)"
   ]
  },
  {
   "cell_type": "code",
   "execution_count": 16,
   "id": "557505ac-2792-4d94-bdbd-b241c1b1ab22",
   "metadata": {},
   "outputs": [
    {
     "data": {
      "text/plain": [
       "[<matplotlib.lines.Line2D at 0x782a57055a90>]"
      ]
     },
     "execution_count": 16,
     "metadata": {},
     "output_type": "execute_result"
    },
    {
     "data": {
      "image/png": "[encoded data removed]",
      "text/plain": [
       "<Figure size 640x480 with 1 Axes>"
      ]
     },
     "metadata": {},
     "output_type": "display_data"
    }
   ],
   "source": [
    "plt.plot(wf[np.argmax(max_wf)])\n",
    "plt.plot(wf[4426])\n",
    "plt.plot(wf[7312])\n",
    "plt.plot(wf[7311])\n",
    "plt.plot(wf[1])"
   ]
  },
  {
   "cell_type": "code",
   "execution_count": 17,
   "id": "eaa4b7c4-cab8-4700-8b86-b1a844eb6486",
   "metadata": {},
   "outputs": [],
   "source": [
    "#get_pixel_mapping()"
   ]
  },
  {
   "cell_type": "code",
   "execution_count": 18,
   "id": "2248cc34-f90c-47e0-b945-5bc9afd006da",
   "metadata": {},
   "outputs": [
    {
     "data": {
      "text/plain": [
       "array([[295, 288, 303, 294, 303, 308, 303, 288, 293, 308, 304, 303, 298,\n",
       "        294, 293, 292, 292, 288, 292, 290, 292, 285, 293, 295, 304, 304,\n",
       "        297, 290, 296, 302, 306, 311, 302, 293, 289, 291, 295, 292, 293,\n",
       "        302, 290, 303, 312, 300, 298, 294, 299, 295, 303, 293, 293, 307,\n",
       "        307, 311, 319, 321, 313, 306, 300, 303, 286, 290, 301, 297, 296,\n",
       "        294, 283, 289, 294, 305, 312, 311, 305, 297, 306],\n",
       "       [306, 297, 310, 302, 305, 308, 318, 314, 318, 310, 325, 313, 303,\n",
       "        309, 307, 304, 301, 289, 291, 294, 296, 288, 303, 303, 295, 304,\n",
       "        307, 303, 304, 299, 294, 305, 297, 302, 290, 295, 301, 307, 303,\n",
       "        289, 298, 294, 288, 289, 295, 292, 303, 298, 302, 302, 292, 283,\n",
       "        287, 305, 315, 314, 309, 293, 295, 289, 290, 287, 288, 285, 299,\n",
       "        303, 309, 300, 305, 303, 305, 307, 306, 312, 301],\n",
       "       [295, 294, 300, 306, 305, 312, 298, 311, 305, 307, 314, 297, 300,\n",
       "        312, 317, 313, 315, 306, 299, 296, 298, 307, 315, 304, 299, 293,\n",
       "        304, 298, 297, 297, 291, 303, 300, 306, 296, 297, 303, 308, 289,\n",
       "        301, 298, 304, 300, 294, 299, 294, 309, 315, 316, 317, 303, 299,\n",
       "        287, 292, 295, 286, 301, 298, 298, 299, 295, 292, 295, 291, 295,\n",
       "        311, 325, 327, 314, 307, 306, 292, 293, 291, 298]], dtype=uint16)"
      ]
     },
     "execution_count": 18,
     "metadata": {},
     "output_type": "execute_result"
    }
   ],
   "source": [
    "wf[[0,2,4]]"
   ]
  },
  {
   "cell_type": "code",
   "execution_count": 19,
   "id": "160bc3be-5ce8-4026-8dc4-fcb552878726",
   "metadata": {},
   "outputs": [],
   "source": [
    "flower_pixID = np.genfromtxt('./pixel_mapping_neighbors.csv',dtype=int)"
   ]
  },
  {
   "cell_type": "code",
   "execution_count": 20,
   "id": "73009e4b-54d1-4a51-8569-8f0f10be38db",
   "metadata": {},
   "outputs": [],
   "source": [
    "flower_pixID=flower_pixID+1"
   ]
  },
  {
   "cell_type": "code",
   "execution_count": 21,
   "id": "355f7b2b-f122-431f-8eec-2e5931308cef",
   "metadata": {},
   "outputs": [
    {
     "name": "stdout",
     "output_type": "stream",
     "text": [
      "(7987, 6)\n"
     ]
    }
   ],
   "source": [
    "print(flower_pixID.shape)"
   ]
  },
  {
   "cell_type": "code",
   "execution_count": 22,
   "id": "70fe3555-2225-4ab8-8c81-6cd84a0fa50e",
   "metadata": {},
   "outputs": [],
   "source": [
    "flower_seedID=np.arange(1, flower_pixID.shape[0]+1, 1).reshape(flower_pixID.shape[0],1)"
   ]
  },
  {
   "cell_type": "code",
   "execution_count": 23,
   "id": "ecfe5832-8522-484c-98db-938371d0ad27",
   "metadata": {},
   "outputs": [],
   "source": [
    "flower_pixID=np.concatenate((flower_seedID, flower_pixID), axis=1)"
   ]
  },
  {
   "cell_type": "code",
   "execution_count": 24,
   "id": "7604a98b-40a0-4848-8e9a-607a053b43dc",
   "metadata": {},
   "outputs": [
    {
     "name": "stdout",
     "output_type": "stream",
     "text": [
      "[[   1    2    3 ...    5    6    7]\n",
      " [   2    1    3 ...   13   46   47]\n",
      " [   3    1    2 ...   12   13   21]\n",
      " ...\n",
      " [7985 7955 7961 ... 7981 7984 7986]\n",
      " [7986 7954 7955 ... 7981 7985 7987]\n",
      " [7987 7969 7970 ... 7982 7986    0]]\n"
     ]
    }
   ],
   "source": [
    "print(flower_pixID)"
   ]
  },
  {
   "cell_type": "code",
   "execution_count": 25,
   "id": "e3481179-f82f-4d85-8430-786f728ea686",
   "metadata": {},
   "outputs": [
    {
     "data": {
      "text/plain": [
       "array([7987, 7969, 7970, 7981, 7982, 7986,    0])"
      ]
     },
     "execution_count": 25,
     "metadata": {},
     "output_type": "execute_result"
    }
   ],
   "source": [
    "flower_pixID[-1]"
   ]
  },
  {
   "cell_type": "code",
   "execution_count": 26,
   "id": "0a5a145c-b88f-415d-a109-647211dac81c",
   "metadata": {},
   "outputs": [
    {
     "data": {
      "text/plain": [
       "0"
      ]
     },
     "execution_count": 26,
     "metadata": {},
     "output_type": "execute_result"
    }
   ],
   "source": [
    "np.sum(flower_pixID[flower_pixID==0])"
   ]
  },
  {
   "cell_type": "code",
   "execution_count": 27,
   "id": "f31a7d30-d5b4-4051-8230-3493ed03229c",
   "metadata": {},
   "outputs": [
    {
     "data": {
      "text/plain": [
       "702"
      ]
     },
     "execution_count": 27,
     "metadata": {},
     "output_type": "execute_result"
    }
   ],
   "source": [
    "len(flower_pixID[flower_pixID==0])"
   ]
  },
  {
   "cell_type": "code",
   "execution_count": 28,
   "id": "a1d89ece-1266-4c07-9bc9-2ad15492231e",
   "metadata": {},
   "outputs": [
    {
     "data": {
      "text/plain": [
       "67590"
      ]
     },
     "execution_count": 28,
     "metadata": {},
     "output_type": "execute_result"
    }
   ],
   "source": [
    "np.sum(wf[[0,2,4]])"
   ]
  },
  {
   "cell_type": "code",
   "execution_count": 29,
   "id": "f09ea32d-9531-4037-b6f6-a08e0043dc27",
   "metadata": {},
   "outputs": [
    {
     "data": {
      "text/plain": [
       "179742382"
      ]
     },
     "execution_count": 29,
     "metadata": {},
     "output_type": "execute_result"
    }
   ],
   "source": [
    "np.sum(wf)"
   ]
  },
  {
   "cell_type": "code",
   "execution_count": 30,
   "id": "68303c83-235e-447d-9157-e2fa701a063c",
   "metadata": {},
   "outputs": [
    {
     "data": {
      "text/plain": [
       "(7987, 75)"
      ]
     },
     "execution_count": 30,
     "metadata": {},
     "output_type": "execute_result"
    }
   ],
   "source": [
    "wf.shape"
   ]
  },
  {
   "cell_type": "code",
   "execution_count": 31,
   "id": "7c178e0f-0b21-4722-bd15-e4063d1ae75d",
   "metadata": {},
   "outputs": [],
   "source": [
    "wfp=wf.copy()"
   ]
  },
  {
   "cell_type": "code",
   "execution_count": 32,
   "id": "8adc31c5-7c99-4e67-9d0b-b474cfeeb3cd",
   "metadata": {},
   "outputs": [],
   "source": [
    "wfp=np.pad(wfp, pad_width=1)"
   ]
  },
  {
   "cell_type": "code",
   "execution_count": 33,
   "id": "77c4d2ed-32e7-4945-874c-8d9df84c17a0",
   "metadata": {},
   "outputs": [],
   "source": [
    "wfpsl = wfp.copy()"
   ]
  },
  {
   "cell_type": "code",
   "execution_count": 34,
   "id": "06534ffe-f0cc-4b39-9dfb-839e95d3b400",
   "metadata": {},
   "outputs": [],
   "source": [
    "wfpsr = wfp.copy()"
   ]
  },
  {
   "cell_type": "code",
   "execution_count": 35,
   "id": "be57bb45-54b1-4fa9-9466-5ddcfa13a6f1",
   "metadata": {},
   "outputs": [],
   "source": [
    "wfpsl=np.roll(wfpsl, shift=-1,axis=1)"
   ]
  },
  {
   "cell_type": "code",
   "execution_count": 36,
   "id": "8dd81ef7-c717-4059-8cc2-e8b1d2243b80",
   "metadata": {},
   "outputs": [],
   "source": [
    "wfpsr=np.roll(wfpsr, shift=1,axis=1)"
   ]
  },
  {
   "cell_type": "code",
   "execution_count": 37,
   "id": "3b61eb37-f4f6-44c7-ba4f-d11ac79d7db0",
   "metadata": {},
   "outputs": [
    {
     "data": {
      "text/plain": [
       "array([[  0,   0,   0, ...,   0,   0,   0],\n",
       "       [295, 288, 303, ..., 306,   0,   0],\n",
       "       [291, 292, 301, ..., 293,   0,   0],\n",
       "       ...,\n",
       "       [295, 290, 289, ..., 299,   0,   0],\n",
       "       [310, 305, 304, ..., 321,   0,   0],\n",
       "       [  0,   0,   0, ...,   0,   0,   0]], dtype=uint16)"
      ]
     },
     "execution_count": 37,
     "metadata": {},
     "output_type": "execute_result"
    }
   ],
   "source": [
    "wfpsl"
   ]
  },
  {
   "cell_type": "code",
   "execution_count": 38,
   "id": "c095b2bc-d01a-4b1f-9adc-c6bf9d7c216f",
   "metadata": {},
   "outputs": [
    {
     "data": {
      "text/plain": [
       "array([[  0,   0,   0, ...,   0,   0,   0],\n",
       "       [  0,   0, 295, ..., 305, 297, 306],\n",
       "       [  0,   0, 291, ..., 296, 291, 293],\n",
       "       ...,\n",
       "       [  0,   0, 295, ..., 294, 288, 299],\n",
       "       [  0,   0, 310, ..., 313, 306, 321],\n",
       "       [  0,   0,   0, ...,   0,   0,   0]], dtype=uint16)"
      ]
     },
     "execution_count": 38,
     "metadata": {},
     "output_type": "execute_result"
    }
   ],
   "source": [
    "wfpsr"
   ]
  },
  {
   "cell_type": "code",
   "execution_count": 39,
   "id": "4365a770-9a44-4584-bdf8-12ad2e42b369",
   "metadata": {},
   "outputs": [
    {
     "data": {
      "text/plain": [
       "(7989, 77)"
      ]
     },
     "execution_count": 39,
     "metadata": {},
     "output_type": "execute_result"
    }
   ],
   "source": [
    "wfpsl.shape"
   ]
  },
  {
   "cell_type": "code",
   "execution_count": 40,
   "id": "ec82dc6d-44df-41ba-b122-74d5811a72fc",
   "metadata": {},
   "outputs": [],
   "source": [
    "wfp=wfpsl + wfpsr + wfp"
   ]
  },
  {
   "cell_type": "code",
   "execution_count": 41,
   "id": "45db9e57-5bbc-48b0-9abe-80f444694236",
   "metadata": {},
   "outputs": [
    {
     "data": {
      "text/plain": [
       "array([[  0,   0,   0, ...,   0,   0,   0],\n",
       "       [295, 583, 886, ..., 908, 603, 306],\n",
       "       [291, 583, 884, ..., 880, 584, 293],\n",
       "       ...,\n",
       "       [295, 585, 874, ..., 881, 587, 299],\n",
       "       [310, 615, 919, ..., 940, 627, 321],\n",
       "       [  0,   0,   0, ...,   0,   0,   0]], dtype=uint16)"
      ]
     },
     "execution_count": 41,
     "metadata": {},
     "output_type": "execute_result"
    }
   ],
   "source": [
    "wfp"
   ]
  },
  {
   "cell_type": "code",
   "execution_count": 42,
   "id": "0ff3f803-087e-44cc-9650-b2e46f04e795",
   "metadata": {},
   "outputs": [
    {
     "data": {
      "text/plain": [
       "77"
      ]
     },
     "execution_count": 42,
     "metadata": {},
     "output_type": "execute_result"
    }
   ],
   "source": [
    "len(wfp[0])"
   ]
  },
  {
   "cell_type": "code",
   "execution_count": 43,
   "id": "c7219ea1-859c-4b7f-bdac-90b08658023b",
   "metadata": {},
   "outputs": [
    {
     "data": {
      "text/plain": [
       "array([0, 0, 0, 0, 0, 0, 0, 0, 0, 0, 0, 0, 0, 0, 0, 0, 0, 0, 0, 0, 0, 0,\n",
       "       0, 0, 0, 0, 0, 0, 0, 0, 0, 0, 0, 0, 0, 0, 0, 0, 0, 0, 0, 0, 0, 0,\n",
       "       0, 0, 0, 0, 0, 0, 0, 0, 0, 0, 0, 0, 0, 0, 0, 0, 0, 0, 0, 0, 0, 0,\n",
       "       0, 0, 0, 0, 0, 0, 0, 0, 0, 0, 0], dtype=uint16)"
      ]
     },
     "execution_count": 43,
     "metadata": {},
     "output_type": "execute_result"
    }
   ],
   "source": [
    "wfp[0]"
   ]
  },
  {
   "cell_type": "code",
   "execution_count": 44,
   "id": "ac627592-4bf5-40b7-a302-c7d5aaefd16b",
   "metadata": {},
   "outputs": [],
   "source": [
    "digitalsum=np.array([np.sum(wfp[flower_pixID[i]],axis=0) for i in np.arange(0,len(flower_pixID))])"
   ]
  },
  {
   "cell_type": "code",
   "execution_count": 45,
   "id": "d1a9164e-881b-4ebe-aa50-004fe4b12b77",
   "metadata": {},
   "outputs": [
    {
     "data": {
      "text/plain": [
       "array([[2081, 4138, 6247, ..., 6269, 4168, 2085],\n",
       "       [2081, 4166, 6285, ..., 6325, 4204, 2107],\n",
       "       [2079, 4138, 6233, ..., 6276, 4183, 2098],\n",
       "       ...,\n",
       "       [2082, 4135, 6228, ..., 6190, 4125, 2076],\n",
       "       [2115, 4215, 6319, ..., 6365, 4257, 2154],\n",
       "       [1811, 3594, 5362, ..., 5576, 3729, 1886]], dtype=uint64)"
      ]
     },
     "execution_count": 45,
     "metadata": {},
     "output_type": "execute_result"
    }
   ],
   "source": [
    "digitalsum"
   ]
  },
  {
   "cell_type": "code",
   "execution_count": 46,
   "id": "c8bf50ec-375c-44b6-969a-cebcb848ef40",
   "metadata": {},
   "outputs": [
    {
     "data": {
      "text/plain": [
       "array([0, 0, 0, 0, 0, 0, 0, 0, 0, 0, 0, 0, 0, 0, 0, 0, 0, 0, 0, 0, 0, 0,\n",
       "       0, 0, 0, 0, 0, 0, 0, 0, 0, 0, 0, 0, 0, 0, 0, 0, 0, 0, 0, 0, 0, 0,\n",
       "       0, 0, 0, 0, 0, 0, 0, 0, 0, 0, 0, 0, 0, 0, 0, 0, 0, 0, 0, 0, 0, 0,\n",
       "       0, 0, 0, 0, 0, 0, 0, 0, 0, 0, 0], dtype=uint16)"
      ]
     },
     "execution_count": 46,
     "metadata": {},
     "output_type": "execute_result"
    }
   ],
   "source": [
    "wfp[0]"
   ]
  },
  {
   "cell_type": "code",
   "execution_count": 47,
   "id": "1498cc5a-f5ab-485b-9835-373130c297f8",
   "metadata": {},
   "outputs": [
    {
     "data": {
      "text/plain": [
       "7989"
      ]
     },
     "execution_count": 47,
     "metadata": {},
     "output_type": "execute_result"
    }
   ],
   "source": [
    "len(wfp)"
   ]
  },
  {
   "cell_type": "code",
   "execution_count": 48,
   "id": "41308106-550b-4c46-9cb0-d007a4650e02",
   "metadata": {},
   "outputs": [
    {
     "data": {
      "image/png": "[encoded data removed]",
      "text/plain": [
       "<Figure size 640x480 with 1 Axes>"
      ]
     },
     "metadata": {},
     "output_type": "display_data"
    }
   ],
   "source": [
    "plt.hist(digitalsum.flatten(), bins=np.arange(6000,7000,10), density=True, alpha=0.5, color='blue', edgecolor='black')\n",
    "# Add labels and title\n",
    "plt.xlabel('Value')\n",
    "plt.ylabel('Frequency')\n",
    "plt.ylabel('Frequency')\n",
    "plt.yscale('log')  # Set y-axis to logarithmic scale\n",
    "\n",
    "plt.title('Histogram with Filled Color')\n",
    "\n",
    "# Show plot\n",
    "plt.show()"
   ]
  },
  {
   "cell_type": "code",
   "execution_count": 49,
   "id": "f77b31e0-e580-4421-880d-4746555b2ef0",
   "metadata": {},
   "outputs": [
    {
     "data": {
      "text/plain": [
       "array([[2081, 4138, 6247, ..., 6269, 4168, 2085],\n",
       "       [2081, 4166, 6285, ..., 6325, 4204, 2107],\n",
       "       [2079, 4138, 6233, ..., 6276, 4183, 2098],\n",
       "       ...,\n",
       "       [2082, 4135, 6228, ..., 6190, 4125, 2076],\n",
       "       [2115, 4215, 6319, ..., 6365, 4257, 2154],\n",
       "       [1811, 3594, 5362, ..., 5576, 3729, 1886]], dtype=uint64)"
      ]
     },
     "execution_count": 49,
     "metadata": {},
     "output_type": "execute_result"
    }
   ],
   "source": [
    "digitalsum"
   ]
  },
  {
   "cell_type": "code",
   "execution_count": 50,
   "id": "3dc53810-36c0-45d8-a338-0d6902e3efd3",
   "metadata": {},
   "outputs": [],
   "source": [
    "nbins=np.linspace(6000, 7000, num=100)"
   ]
  },
  {
   "cell_type": "code",
   "execution_count": 51,
   "id": "9bb22dc2-6bf0-41ac-971e-709c12951173",
   "metadata": {},
   "outputs": [
    {
     "data": {
      "image/png": "[encoded data removed]",
      "text/plain": [
       "<Figure size 640x480 with 1 Axes>"
      ]
     },
     "metadata": {},
     "output_type": "display_data"
    }
   ],
   "source": [
    "plt.hist(digitalsum[digitalsum>6505].flatten(), bins=nbins, edgecolor='black')\n",
    "# Add labels and title\n",
    "#plt.xlabel('npe')\n",
    "#plt.ylabel('')\n",
    "#plt.title('npe')\n",
    "plt.yscale('log')  # Set y-axis to logarithmic scale\n",
    "#plt.grid(True)\n",
    "# Show the plot\n",
    "plt.show()"
   ]
  },
  {
   "cell_type": "code",
   "execution_count": 52,
   "id": "eb4f0b6b-fa87-4bee-82ce-d07d519b9f85",
   "metadata": {},
   "outputs": [],
   "source": [
    "th=np.array([np.sum(digitalsum>th) for th in nbins])"
   ]
  },
  {
   "cell_type": "code",
   "execution_count": 53,
   "id": "b84cc44c-89cb-4092-9cea-f82363ff2596",
   "metadata": {},
   "outputs": [
    {
     "data": {
      "image/png": "[encoded data removed]",
      "text/plain": [
       "<Figure size 640x480 with 1 Axes>"
      ]
     },
     "metadata": {},
     "output_type": "display_data"
    }
   ],
   "source": [
    "\n",
    "# Create scatter plot\n",
    "plt.scatter(nbins, th)\n",
    "\n",
    "# Add labels and title\n",
    "plt.xlabel('X')\n",
    "plt.ylabel('Y')\n",
    "plt.title('Scatter Plot')\n",
    "plt.yscale('log')  # Set y-axis to logarithmic scale\n",
    "plt.grid(True)\n",
    "\n",
    "# Show plot\n",
    "plt.show()"
   ]
  },
  {
   "cell_type": "code",
   "execution_count": 54,
   "id": "063f2273-e75b-487b-8124-e7552b07641d",
   "metadata": {},
   "outputs": [
    {
     "data": {
      "text/plain": [
       "array([6515.15151515, 6525.25252525, 6535.35353535, 6545.45454545,\n",
       "       6555.55555556, 6565.65656566, 6575.75757576, 6585.85858586,\n",
       "       6595.95959596, 6606.06060606, 6616.16161616, 6626.26262626,\n",
       "       6636.36363636, 6646.46464646, 6656.56565657, 6666.66666667,\n",
       "       6676.76767677, 6686.86868687, 6696.96969697, 6707.07070707,\n",
       "       6717.17171717, 6727.27272727, 6737.37373737, 6747.47474747,\n",
       "       6757.57575758, 6767.67676768, 6777.77777778, 6787.87878788,\n",
       "       6797.97979798, 6808.08080808, 6818.18181818, 6828.28282828,\n",
       "       6838.38383838, 6848.48484848, 6858.58585859, 6868.68686869,\n",
       "       6878.78787879, 6888.88888889, 6898.98989899, 6909.09090909,\n",
       "       6919.19191919, 6929.29292929, 6939.39393939, 6949.49494949,\n",
       "       6959.5959596 , 6969.6969697 , 6979.7979798 , 6989.8989899 ,\n",
       "       7000.        ])"
      ]
     },
     "execution_count": 54,
     "metadata": {},
     "output_type": "execute_result"
    }
   ],
   "source": [
    "nbins[th<1000]"
   ]
  },
  {
   "cell_type": "code",
   "execution_count": 55,
   "id": "10475edb-f9d7-4a08-89b5-0668df026adb",
   "metadata": {},
   "outputs": [
    {
     "data": {
      "text/plain": [
       "(7987, 75)"
      ]
     },
     "execution_count": 55,
     "metadata": {},
     "output_type": "execute_result"
    }
   ],
   "source": [
    "wf.shape"
   ]
  },
  {
   "cell_type": "code",
   "execution_count": 56,
   "id": "5e88b618-9507-4ca6-9eba-d204de4ee587",
   "metadata": {},
   "outputs": [
    {
     "data": {
      "text/plain": [
       "(7987, 77)"
      ]
     },
     "execution_count": 56,
     "metadata": {},
     "output_type": "execute_result"
    }
   ],
   "source": [
    "digitalsum.shape"
   ]
  },
  {
   "cell_type": "code",
   "execution_count": 57,
   "id": "0cd9d73b-8534-4332-9716-92139a235161",
   "metadata": {},
   "outputs": [
    {
     "data": {
      "text/plain": [
       "1112"
      ]
     },
     "execution_count": 57,
     "metadata": {},
     "output_type": "execute_result"
    }
   ],
   "source": [
    "len(digitalsum[digitalsum>6505])"
   ]
  },
  {
   "cell_type": "code",
   "execution_count": 58,
   "id": "9c077d8b-959d-4cb8-bcb9-b64f9c6b7ed7",
   "metadata": {},
   "outputs": [
    {
     "data": {
      "text/plain": [
       "(7987, 75)"
      ]
     },
     "execution_count": 58,
     "metadata": {},
     "output_type": "execute_result"
    }
   ],
   "source": [
    "digitalsum[:,1:-1].shape"
   ]
  },
  {
   "cell_type": "code",
   "execution_count": 59,
   "id": "34143ff2-da0e-45da-9bb7-9cc59acbdf81",
   "metadata": {},
   "outputs": [],
   "source": [
    "digitalsum_rt=digitalsum[:,1:-1]"
   ]
  },
  {
   "cell_type": "code",
   "execution_count": 60,
   "id": "8f09f89f-0967-45ae-af7f-77d5a1354e31",
   "metadata": {},
   "outputs": [
    {
     "data": {
      "text/plain": [
       "(7987, 75)"
      ]
     },
     "execution_count": 60,
     "metadata": {},
     "output_type": "execute_result"
    }
   ],
   "source": [
    "digitalsum_rt.shape"
   ]
  },
  {
   "cell_type": "code",
   "execution_count": 61,
   "id": "821398e5-ff48-48ff-82c1-33c79592370d",
   "metadata": {},
   "outputs": [
    {
     "data": {
      "text/plain": [
       "array([[4138, 6247, 6266, ..., 6289, 6269, 4168],\n",
       "       [4166, 6285, 6326, ..., 6322, 6325, 4204],\n",
       "       [4138, 6233, 6226, ..., 6290, 6276, 4183],\n",
       "       ...,\n",
       "       [4135, 6228, 6228, ..., 6163, 6190, 4125],\n",
       "       [4215, 6319, 6316, ..., 6311, 6365, 4257],\n",
       "       [3594, 5362, 5336, ..., 5505, 5576, 3729]], dtype=uint64)"
      ]
     },
     "execution_count": 61,
     "metadata": {},
     "output_type": "execute_result"
    }
   ],
   "source": [
    "digitalsum_rt"
   ]
  },
  {
   "cell_type": "code",
   "execution_count": 62,
   "id": "3f02f52c-0f85-4f2e-9445-bcad2ef0a68c",
   "metadata": {},
   "outputs": [],
   "source": [
    "pixelmapping = np.genfromtxt('./pixel_mapping.csv')"
   ]
  },
  {
   "cell_type": "code",
   "execution_count": 63,
   "id": "211d6a3b-289d-42b1-8d25-76ffd3d47916",
   "metadata": {},
   "outputs": [
    {
     "data": {
      "text/plain": [
       "(7987, 3)"
      ]
     },
     "execution_count": 63,
     "metadata": {},
     "output_type": "execute_result"
    }
   ],
   "source": [
    "pixelmapping.shape"
   ]
  },
  {
   "cell_type": "code",
   "execution_count": 64,
   "id": "6b4b4a1c-6236-406b-8c4f-72663a1bff65",
   "metadata": {},
   "outputs": [
    {
     "data": {
      "text/plain": [
       "(array([ 252.,  733.,  879., 1083., 1001., 1092., 1083.,  879.,  733.,\n",
       "         252.]),\n",
       " array([-1.22058 , -0.976464, -0.732348, -0.488232, -0.244116,  0.      ,\n",
       "         0.244116,  0.488232,  0.732348,  0.976464,  1.22058 ]),\n",
       " <BarContainer object of 10 artists>)"
      ]
     },
     "execution_count": 64,
     "metadata": {},
     "output_type": "execute_result"
    },
    {
     "data": {
      "image/png": "[encoded data removed]",
      "text/plain": [
       "<Figure size 640x480 with 1 Axes>"
      ]
     },
     "metadata": {},
     "output_type": "display_data"
    }
   ],
   "source": [
    "plt.hist(pixelmapping[:,1])"
   ]
  },
  {
   "cell_type": "code",
   "execution_count": 65,
   "id": "3bdcc549-c86b-41bc-8d86-5841e7c3babe",
   "metadata": {},
   "outputs": [],
   "source": [
    "pix_x=pixelmapping[:,0].reshape(pixelmapping.shape[0],1)\n",
    "pix_y=pixelmapping[:,1].reshape(pixelmapping.shape[0],1)"
   ]
  },
  {
   "cell_type": "code",
   "execution_count": 66,
   "id": "9a30850f-8c61-46be-9b2f-0707a2479bca",
   "metadata": {},
   "outputs": [],
   "source": [
    "pix_t=np.array([i for i in np.arange(0,digitalsum_rt.shape[1])]).reshape(1,digitalsum_rt.shape[1])"
   ]
  },
  {
   "cell_type": "code",
   "execution_count": 67,
   "id": "18a6f5e1-0e7e-453d-b402-9124f7089b83",
   "metadata": {},
   "outputs": [],
   "source": [
    "pix_ID=np.array([i for i in np.arange(0,digitalsum_rt.shape[0])]).reshape(digitalsum_rt.shape[0],1)"
   ]
  },
  {
   "cell_type": "code",
   "execution_count": 68,
   "id": "d4f49c8c-f50c-406f-9954-bfc4ff556d20",
   "metadata": {},
   "outputs": [
    {
     "data": {
      "text/plain": [
       "(1, 75)"
      ]
     },
     "execution_count": 68,
     "metadata": {},
     "output_type": "execute_result"
    }
   ],
   "source": [
    "pix_t.shape"
   ]
  },
  {
   "cell_type": "code",
   "execution_count": 69,
   "id": "42ee380f-41df-49e2-b10a-8a95034d3b9f",
   "metadata": {},
   "outputs": [
    {
     "data": {
      "text/plain": [
       "array([[   0],\n",
       "       [   1],\n",
       "       [   2],\n",
       "       ...,\n",
       "       [7984],\n",
       "       [7985],\n",
       "       [7986]])"
      ]
     },
     "execution_count": 69,
     "metadata": {},
     "output_type": "execute_result"
    }
   ],
   "source": [
    "pix_ID"
   ]
  },
  {
   "cell_type": "code",
   "execution_count": 70,
   "id": "0eb43ced-1b2f-4b21-9e14-1a40dd1a70b6",
   "metadata": {},
   "outputs": [],
   "source": [
    "pix_t=pix_t*0.05"
   ]
  },
  {
   "cell_type": "code",
   "execution_count": 71,
   "id": "60227990-f52b-458e-9d00-2486c6aa8a62",
   "metadata": {},
   "outputs": [
    {
     "data": {
      "text/plain": [
       "array([[0.  , 0.05, 0.1 , 0.15, 0.2 , 0.25, 0.3 , 0.35, 0.4 , 0.45, 0.5 ,\n",
       "        0.55, 0.6 , 0.65, 0.7 , 0.75, 0.8 , 0.85, 0.9 , 0.95, 1.  , 1.05,\n",
       "        1.1 , 1.15, 1.2 , 1.25, 1.3 , 1.35, 1.4 , 1.45, 1.5 , 1.55, 1.6 ,\n",
       "        1.65, 1.7 , 1.75, 1.8 , 1.85, 1.9 , 1.95, 2.  , 2.05, 2.1 , 2.15,\n",
       "        2.2 , 2.25, 2.3 , 2.35, 2.4 , 2.45, 2.5 , 2.55, 2.6 , 2.65, 2.7 ,\n",
       "        2.75, 2.8 , 2.85, 2.9 , 2.95, 3.  , 3.05, 3.1 , 3.15, 3.2 , 3.25,\n",
       "        3.3 , 3.35, 3.4 , 3.45, 3.5 , 3.55, 3.6 , 3.65, 3.7 ]])"
      ]
     },
     "execution_count": 71,
     "metadata": {},
     "output_type": "execute_result"
    }
   ],
   "source": [
    "pix_t"
   ]
  },
  {
   "cell_type": "code",
   "execution_count": 72,
   "id": "6c2f3998-43e8-40c9-96c0-13bbd72d9bd2",
   "metadata": {},
   "outputs": [],
   "source": [
    "pix_x=np.concatenate(([pix_x for i in np.arange(0,digitalsum_rt.shape[1])]), axis=1)\n",
    "pix_y=np.concatenate(([pix_y for i in np.arange(0,digitalsum_rt.shape[1])]), axis=1)"
   ]
  },
  {
   "cell_type": "code",
   "execution_count": 73,
   "id": "f38df3e1-2243-4393-9d84-124485607e6f",
   "metadata": {},
   "outputs": [
    {
     "data": {
      "text/plain": [
       "(7987, 3)"
      ]
     },
     "execution_count": 73,
     "metadata": {},
     "output_type": "execute_result"
    }
   ],
   "source": [
    "pixelmapping.shape"
   ]
  },
  {
   "cell_type": "code",
   "execution_count": 74,
   "id": "b6820aca-a17d-4fb7-8a48-5187ce8ce733",
   "metadata": {},
   "outputs": [
    {
     "data": {
      "text/plain": [
       "array([[0.     , 0.     , 0.     , ..., 0.     , 0.     , 0.     ],\n",
       "       [0.0243 , 0.0243 , 0.0243 , ..., 0.0243 , 0.0243 , 0.0243 ],\n",
       "       [0.01215, 0.01215, 0.01215, ..., 0.01215, 0.01215, 0.01215],\n",
       "       ...,\n",
       "       [1.0206 , 1.0206 , 1.0206 , ..., 1.0206 , 1.0206 , 1.0206 ],\n",
       "       [1.03275, 1.03275, 1.03275, ..., 1.03275, 1.03275, 1.03275],\n",
       "       [1.05705, 1.05705, 1.05705, ..., 1.05705, 1.05705, 1.05705]])"
      ]
     },
     "execution_count": 74,
     "metadata": {},
     "output_type": "execute_result"
    }
   ],
   "source": [
    "pix_x"
   ]
  },
  {
   "cell_type": "code",
   "execution_count": 75,
   "id": "9d898e38-81a7-44e1-a2a4-667826e64d06",
   "metadata": {},
   "outputs": [],
   "source": [
    "pix_t=np.concatenate(([pix_t for i in np.arange(0,digitalsum_rt.shape[0])]), axis=0)"
   ]
  },
  {
   "cell_type": "code",
   "execution_count": 76,
   "id": "6243a9fd-01db-4c0c-aab4-d91700f55c68",
   "metadata": {},
   "outputs": [
    {
     "data": {
      "text/plain": [
       "array([[0.  , 0.05, 0.1 , ..., 3.6 , 3.65, 3.7 ],\n",
       "       [0.  , 0.05, 0.1 , ..., 3.6 , 3.65, 3.7 ],\n",
       "       [0.  , 0.05, 0.1 , ..., 3.6 , 3.65, 3.7 ],\n",
       "       ...,\n",
       "       [0.  , 0.05, 0.1 , ..., 3.6 , 3.65, 3.7 ],\n",
       "       [0.  , 0.05, 0.1 , ..., 3.6 , 3.65, 3.7 ],\n",
       "       [0.  , 0.05, 0.1 , ..., 3.6 , 3.65, 3.7 ]])"
      ]
     },
     "execution_count": 76,
     "metadata": {},
     "output_type": "execute_result"
    }
   ],
   "source": [
    "pix_t"
   ]
  },
  {
   "cell_type": "code",
   "execution_count": 77,
   "id": "40665048-160a-44b9-b0cc-4a5c7de0b0b8",
   "metadata": {},
   "outputs": [
    {
     "data": {
      "text/plain": [
       "(7987, 75)"
      ]
     },
     "execution_count": 77,
     "metadata": {},
     "output_type": "execute_result"
    }
   ],
   "source": [
    "pix_t.shape"
   ]
  },
  {
   "cell_type": "code",
   "execution_count": 78,
   "id": "ace868dc-6e6b-4c56-8f3e-3562b8d38043",
   "metadata": {},
   "outputs": [
    {
     "data": {
      "text/plain": [
       "(7987, 75)"
      ]
     },
     "execution_count": 78,
     "metadata": {},
     "output_type": "execute_result"
    }
   ],
   "source": [
    "pix_y.shape"
   ]
  },
  {
   "cell_type": "code",
   "execution_count": 79,
   "id": "607fb661-9864-4d4e-9bef-2c811778c6c8",
   "metadata": {},
   "outputs": [],
   "source": [
    "pix_ID=np.concatenate(([pix_ID for i in np.arange(0,digitalsum_rt.shape[1])]), axis=1)"
   ]
  },
  {
   "cell_type": "code",
   "execution_count": 80,
   "id": "9ce3ed65-c0e7-4afa-aa02-a99f1018963d",
   "metadata": {},
   "outputs": [
    {
     "data": {
      "text/plain": [
       "(7987, 75)"
      ]
     },
     "execution_count": 80,
     "metadata": {},
     "output_type": "execute_result"
    }
   ],
   "source": [
    "pix_ID.shape"
   ]
  },
  {
   "cell_type": "code",
   "execution_count": 81,
   "id": "29352c36-174e-4405-bdee-04731deefe32",
   "metadata": {},
   "outputs": [
    {
     "data": {
      "text/plain": [
       "array([[   0,    0,    0, ...,    0,    0,    0],\n",
       "       [   1,    1,    1, ...,    1,    1,    1],\n",
       "       [   2,    2,    2, ...,    2,    2,    2],\n",
       "       ...,\n",
       "       [7984, 7984, 7984, ..., 7984, 7984, 7984],\n",
       "       [7985, 7985, 7985, ..., 7985, 7985, 7985],\n",
       "       [7986, 7986, 7986, ..., 7986, 7986, 7986]])"
      ]
     },
     "execution_count": 81,
     "metadata": {},
     "output_type": "execute_result"
    }
   ],
   "source": [
    "pix_ID"
   ]
  },
  {
   "cell_type": "code",
   "execution_count": 82,
   "id": "d78c8c7f-8757-4d6a-a23e-ca05b4d54038",
   "metadata": {},
   "outputs": [],
   "source": [
    "cut_y=pix_y[digitalsum_rt>6505]\n",
    "cut_x=pix_x[digitalsum_rt>6505]\n",
    "cut_t=pix_t[digitalsum_rt>6505]"
   ]
  },
  {
   "cell_type": "code",
   "execution_count": 83,
   "id": "dad00c77-f845-45ff-819b-604658d80a92",
   "metadata": {},
   "outputs": [],
   "source": [
    "cut_ID=pix_ID[digitalsum_rt>6505]"
   ]
  },
  {
   "cell_type": "code",
   "execution_count": 84,
   "id": "055857e7-6274-427b-b4ef-83fd9ebc7623",
   "metadata": {},
   "outputs": [
    {
     "data": {
      "text/plain": [
       "array([  17,   33,   35, ..., 7952, 7952, 7971])"
      ]
     },
     "execution_count": 84,
     "metadata": {},
     "output_type": "execute_result"
    }
   ],
   "source": [
    "cut_ID"
   ]
  },
  {
   "cell_type": "code",
   "execution_count": 85,
   "id": "3958cc7e-4a81-4308-9ff3-cf68c0dc68d9",
   "metadata": {},
   "outputs": [
    {
     "data": {
      "text/plain": [
       "(1112,)"
      ]
     },
     "execution_count": 85,
     "metadata": {},
     "output_type": "execute_result"
    }
   ],
   "source": [
    "cut_ID.shape"
   ]
  },
  {
   "cell_type": "code",
   "execution_count": 86,
   "id": "1e58fcd6-608e-44d5-b144-c87699b56dda",
   "metadata": {},
   "outputs": [],
   "source": [
    "cut_ID=np.expand_dims(cut_ID,axis=1)"
   ]
  },
  {
   "cell_type": "code",
   "execution_count": 87,
   "id": "1049838f-2d7b-418f-8fd6-6f815581dc89",
   "metadata": {},
   "outputs": [
    {
     "data": {
      "text/plain": [
       "array([[  17],\n",
       "       [  33],\n",
       "       [  35],\n",
       "       ...,\n",
       "       [7952],\n",
       "       [7952],\n",
       "       [7971]])"
      ]
     },
     "execution_count": 87,
     "metadata": {},
     "output_type": "execute_result"
    }
   ],
   "source": [
    "cut_ID"
   ]
  },
  {
   "cell_type": "code",
   "execution_count": 88,
   "id": "598e6971-62b1-4561-b27f-77316c9f9320",
   "metadata": {},
   "outputs": [],
   "source": [
    "cut_y = np.expand_dims(cut_y,axis=1)"
   ]
  },
  {
   "cell_type": "code",
   "execution_count": 89,
   "id": "ae7e106f-2c54-43b9-9979-131f54d7ac4b",
   "metadata": {},
   "outputs": [
    {
     "data": {
      "text/plain": [
       "(1112, 1)"
      ]
     },
     "execution_count": 89,
     "metadata": {},
     "output_type": "execute_result"
    }
   ],
   "source": [
    "cut_y.shape"
   ]
  },
  {
   "cell_type": "code",
   "execution_count": 90,
   "id": "479ce014-baa3-4bc6-83fc-ceb66c6d3a64",
   "metadata": {},
   "outputs": [
    {
     "data": {
      "text/plain": [
       "(1112,)"
      ]
     },
     "execution_count": 90,
     "metadata": {},
     "output_type": "execute_result"
    }
   ],
   "source": [
    "cut_t.shape"
   ]
  },
  {
   "cell_type": "code",
   "execution_count": 91,
   "id": "192225c2-5e76-448d-ab8c-5c5d7b8f6503",
   "metadata": {},
   "outputs": [
    {
     "data": {
      "text/plain": [
       "array([[ 0.08418],\n",
       "       [-0.06313],\n",
       "       [-0.06313],\n",
       "       ...,\n",
       "       [ 0.12627],\n",
       "       [ 0.12627],\n",
       "       [ 0.08418]])"
      ]
     },
     "execution_count": 91,
     "metadata": {},
     "output_type": "execute_result"
    }
   ],
   "source": [
    "cut_y"
   ]
  },
  {
   "cell_type": "code",
   "execution_count": 92,
   "id": "5fa3471e-111a-440e-8fc3-744a0203e291",
   "metadata": {},
   "outputs": [],
   "source": [
    "cut_x = np.expand_dims(cut_x,axis=1)"
   ]
  },
  {
   "cell_type": "code",
   "execution_count": 93,
   "id": "f78c8d8a-ec4a-4b48-9e00-9b74128a61e0",
   "metadata": {},
   "outputs": [],
   "source": [
    "cut_t = np.expand_dims(cut_t,axis=1)"
   ]
  },
  {
   "cell_type": "code",
   "execution_count": 94,
   "id": "8296919b-07b7-4939-8b1d-69eaa99d3645",
   "metadata": {},
   "outputs": [
    {
     "data": {
      "text/plain": [
       "array([[-0.0243 ],\n",
       "       [-0.06075],\n",
       "       [ 0.01215],\n",
       "       ...,\n",
       "       [ 0.9963 ],\n",
       "       [ 0.9963 ],\n",
       "       [ 1.0449 ]])"
      ]
     },
     "execution_count": 94,
     "metadata": {},
     "output_type": "execute_result"
    }
   ],
   "source": [
    "cut_x"
   ]
  },
  {
   "cell_type": "code",
   "execution_count": 95,
   "id": "5b059b48-bfdb-49a2-ba15-71c5379036d9",
   "metadata": {},
   "outputs": [],
   "source": [
    "X=np.concatenate((cut_x,cut_y,cut_t), axis=1)"
   ]
  },
  {
   "cell_type": "code",
   "execution_count": 96,
   "id": "3c15e637-592c-4f89-bedf-31f92d9bc3f3",
   "metadata": {},
   "outputs": [
    {
     "data": {
      "text/plain": [
       "(1112, 3)"
      ]
     },
     "execution_count": 96,
     "metadata": {},
     "output_type": "execute_result"
    }
   ],
   "source": [
    "X.shape"
   ]
  },
  {
   "cell_type": "code",
   "execution_count": 97,
   "id": "73b753e0-aa59-412e-b6bb-26e949a52579",
   "metadata": {},
   "outputs": [],
   "source": [
    "dbscan = DBSCAN(eps=0.1, min_samples=20)\n",
    "clusters = dbscan.fit_predict(X)"
   ]
  },
  {
   "cell_type": "code",
   "execution_count": 98,
   "id": "d008d89c-76a5-43ac-bc6c-6d7e6e96be29",
   "metadata": {},
   "outputs": [
    {
     "data": {
      "text/plain": [
       "170"
      ]
     },
     "execution_count": 98,
     "metadata": {},
     "output_type": "execute_result"
    }
   ],
   "source": [
    "len(clusters[clusters>=0])"
   ]
  },
  {
   "cell_type": "code",
   "execution_count": 99,
   "id": "dabf89fa-f053-4bf7-85ba-62813fa7c9f0",
   "metadata": {},
   "outputs": [],
   "source": [
    "cl_ID=np.unique(clusters)"
   ]
  },
  {
   "cell_type": "code",
   "execution_count": 100,
   "id": "67f4fe7b-3405-46f9-b0c7-59f455d49b05",
   "metadata": {},
   "outputs": [
    {
     "data": {
      "text/plain": [
       "array([-1,  0])"
      ]
     },
     "execution_count": 100,
     "metadata": {},
     "output_type": "execute_result"
    }
   ],
   "source": [
    "cl_ID"
   ]
  },
  {
   "cell_type": "code",
   "execution_count": 101,
   "id": "2e803098-234a-4ab9-a8af-d592cbd7085f",
   "metadata": {},
   "outputs": [],
   "source": [
    "cl_ID=cl_ID[1:]"
   ]
  },
  {
   "cell_type": "code",
   "execution_count": 102,
   "id": "6db4b8b8-adc0-4e19-ae13-13175db74903",
   "metadata": {},
   "outputs": [
    {
     "data": {
      "text/plain": [
       "array([0])"
      ]
     },
     "execution_count": 102,
     "metadata": {},
     "output_type": "execute_result"
    }
   ],
   "source": [
    "cl_ID"
   ]
  },
  {
   "cell_type": "code",
   "execution_count": 103,
   "id": "20acb044-6278-4f89-9715-1ecaab26c705",
   "metadata": {},
   "outputs": [
    {
     "name": "stdout",
     "output_type": "stream",
     "text": [
      "1\n",
      "170\n"
     ]
    }
   ],
   "source": [
    "if len(cl_ID) > 0 :\n",
    "    try:\n",
    "        clustern = np.max([len(clusters[clusters==clID]) for clID in np.unique(clusters)[1:]])\n",
    "    except:\n",
    "        clustern = 0\n",
    "else:\n",
    "    clustern = 0\n",
    "\n",
    "print(len(cl_ID))\n",
    "print(clustern)"
   ]
  },
  {
   "cell_type": "code",
   "execution_count": 104,
   "id": "fbc2da48-3c10-4f90-ad5b-495ec061b132",
   "metadata": {},
   "outputs": [
    {
     "data": {
      "text/plain": [
       "170"
      ]
     },
     "execution_count": 104,
     "metadata": {},
     "output_type": "execute_result"
    }
   ],
   "source": [
    "len(clusters[clusters==0])"
   ]
  },
  {
   "cell_type": "code",
   "execution_count": 105,
   "id": "3e7c5a93-e8a2-4b3b-9acf-50f613df83af",
   "metadata": {},
   "outputs": [
    {
     "data": {
      "text/plain": [
       "0"
      ]
     },
     "execution_count": 105,
     "metadata": {},
     "output_type": "execute_result"
    }
   ],
   "source": [
    "len(clusters[clusters==1])"
   ]
  },
  {
   "cell_type": "code",
   "execution_count": 106,
   "id": "4bbaef29-c49e-4589-b5e0-d8761fcac947",
   "metadata": {},
   "outputs": [
    {
     "data": {
      "text/plain": [
       "0"
      ]
     },
     "execution_count": 106,
     "metadata": {},
     "output_type": "execute_result"
    }
   ],
   "source": [
    "len(clusters[clusters==2])"
   ]
  },
  {
   "cell_type": "code",
   "execution_count": 107,
   "id": "1e9d77ac-d8b6-4c7f-83be-68e2599a7748",
   "metadata": {},
   "outputs": [
    {
     "data": {
      "text/plain": [
       "0"
      ]
     },
     "execution_count": 107,
     "metadata": {},
     "output_type": "execute_result"
    }
   ],
   "source": [
    "len(clusters[clusters==3])"
   ]
  },
  {
   "cell_type": "code",
   "execution_count": 108,
   "id": "7ec4f3d9-0984-42a3-b90a-87a926240921",
   "metadata": {},
   "outputs": [
    {
     "data": {
      "text/plain": [
       "array([5572, 5573, 5574, 5575, 5576, 5577, 5578, 5803, 5804, 5805, 5817,\n",
       "       5819, 5820, 6880, 7092, 7093, 7107, 7108, 7119, 7120, 7121, 7122,\n",
       "       7123, 7124, 7125, 7136, 7137, 7308, 7311, 7312, 7313, 7314, 7324,\n",
       "       7326, 7336, 7339, 7340, 7341, 7498, 7499, 7502, 7503, 7511, 7514,\n",
       "       7515, 7516, 7645, 7650, 7658, 7661, 7662, 7663])"
      ]
     },
     "execution_count": 108,
     "metadata": {},
     "output_type": "execute_result"
    }
   ],
   "source": [
    "np.unique(cut_ID[clusters==0])"
   ]
  },
  {
   "cell_type": "code",
   "execution_count": 109,
   "id": "ea001b76-d32c-44e8-b7fb-2f13f7ff36c3",
   "metadata": {},
   "outputs": [
    {
     "data": {
      "text/plain": [
       "(7987, 75)"
      ]
     },
     "execution_count": 109,
     "metadata": {},
     "output_type": "execute_result"
    }
   ],
   "source": [
    "wf.shape"
   ]
  },
  {
   "cell_type": "code",
   "execution_count": 110,
   "id": "7963b6aa-8f07-4c19-85cf-0957b626adc4",
   "metadata": {},
   "outputs": [
    {
     "data": {
      "text/plain": [
       "array([[0., 0., 0., ..., 0., 0., 0.],\n",
       "       [0., 0., 0., ..., 0., 0., 0.],\n",
       "       [0., 0., 0., ..., 0., 0., 0.],\n",
       "       ...,\n",
       "       [0., 0., 0., ..., 0., 0., 0.],\n",
       "       [0., 0., 0., ..., 0., 0., 0.],\n",
       "       [0., 0., 0., ..., 0., 0., 0.]])"
      ]
     },
     "execution_count": 110,
     "metadata": {},
     "output_type": "execute_result"
    }
   ],
   "source": [
    "np.zeros(wf.shape)"
   ]
  },
  {
   "cell_type": "code",
   "execution_count": 111,
   "id": "9eb3a7a4-6aa4-470c-85bf-f92bd1794c0b",
   "metadata": {},
   "outputs": [],
   "source": [
    "clss=np.array([],dtype=int)"
   ]
  },
  {
   "cell_type": "code",
   "execution_count": 112,
   "id": "70666fc7-d1ba-4842-8101-549fb070e5f7",
   "metadata": {},
   "outputs": [
    {
     "data": {
      "text/plain": [
       "array([], dtype=int64)"
      ]
     },
     "execution_count": 112,
     "metadata": {},
     "output_type": "execute_result"
    }
   ],
   "source": [
    "clss"
   ]
  },
  {
   "cell_type": "code",
   "execution_count": 113,
   "id": "c58daecb-1d7d-48a1-b451-c07b055d1e92",
   "metadata": {},
   "outputs": [
    {
     "data": {
      "text/plain": [
       "numpy.int64"
      ]
     },
     "execution_count": 113,
     "metadata": {},
     "output_type": "execute_result"
    }
   ],
   "source": [
    "type(clusters[0])"
   ]
  },
  {
   "cell_type": "code",
   "execution_count": 114,
   "id": "f348021c-0549-4b94-8e4c-1fda18d66fad",
   "metadata": {},
   "outputs": [
    {
     "data": {
      "text/plain": [
       "numpy.ndarray"
      ]
     },
     "execution_count": 114,
     "metadata": {},
     "output_type": "execute_result"
    }
   ],
   "source": [
    "type(clusters)"
   ]
  },
  {
   "cell_type": "code",
   "execution_count": 115,
   "id": "dff36712-1e55-4710-96f5-c87476a3109e",
   "metadata": {},
   "outputs": [
    {
     "data": {
      "text/plain": [
       "array([-1, -1, -1, ..., -1, -1, -1])"
      ]
     },
     "execution_count": 115,
     "metadata": {},
     "output_type": "execute_result"
    }
   ],
   "source": [
    "clusters"
   ]
  },
  {
   "cell_type": "code",
   "execution_count": 116,
   "id": "a575fcca-cff6-45b4-96e3-de4b72c66079",
   "metadata": {},
   "outputs": [
    {
     "data": {
      "text/plain": [
       "array([], dtype=int64)"
      ]
     },
     "execution_count": 116,
     "metadata": {},
     "output_type": "execute_result"
    }
   ],
   "source": [
    "np.empty(shape=(0,), dtype=int)"
   ]
  },
  {
   "cell_type": "code",
   "execution_count": 117,
   "id": "8bff0452-5958-4ff5-b26e-f906c5c4b061",
   "metadata": {},
   "outputs": [
    {
     "data": {
      "text/plain": [
       "[170]"
      ]
     },
     "execution_count": 117,
     "metadata": {},
     "output_type": "execute_result"
    }
   ],
   "source": [
    "[len(clusters[clusters==clID]) for clID in np.unique(clusters)[1:]]"
   ]
  },
  {
   "cell_type": "code",
   "execution_count": 118,
   "id": "2eaea686-6a1b-4fc2-9293-7e07afa80832",
   "metadata": {},
   "outputs": [
    {
     "data": {
      "text/plain": [
       "0"
      ]
     },
     "execution_count": 118,
     "metadata": {},
     "output_type": "execute_result"
    }
   ],
   "source": [
    "np.argmax([len(clusters[clusters==clID]) for clID in np.unique(clusters)[1:]])"
   ]
  },
  {
   "cell_type": "code",
   "execution_count": 119,
   "id": "00687129-a85a-4eb8-a199-bf5c85c1a7c6",
   "metadata": {},
   "outputs": [
    {
     "data": {
      "text/plain": [
       "(1112,)"
      ]
     },
     "execution_count": 119,
     "metadata": {},
     "output_type": "execute_result"
    }
   ],
   "source": [
    "clusters.shape"
   ]
  },
  {
   "cell_type": "code",
   "execution_count": 120,
   "id": "fb7a124d-cd47-4f3f-b7e1-322f8820a474",
   "metadata": {},
   "outputs": [
    {
     "data": {
      "text/plain": [
       "array([0])"
      ]
     },
     "execution_count": 120,
     "metadata": {},
     "output_type": "execute_result"
    }
   ],
   "source": [
    "np.unique(clusters)[1:]"
   ]
  },
  {
   "cell_type": "code",
   "execution_count": 121,
   "id": "e6cb845a-5c64-4613-9b9f-a73c623e2350",
   "metadata": {},
   "outputs": [
    {
     "data": {
      "text/plain": [
       "array([-1,  0])"
      ]
     },
     "execution_count": 121,
     "metadata": {},
     "output_type": "execute_result"
    }
   ],
   "source": [
    "np.unique(clusters)"
   ]
  },
  {
   "cell_type": "code",
   "execution_count": 122,
   "id": "3c20eecd-1276-4453-8164-9af37722ce38",
   "metadata": {},
   "outputs": [
    {
     "data": {
      "text/plain": [
       "array([-1,  0])"
      ]
     },
     "execution_count": 122,
     "metadata": {},
     "output_type": "execute_result"
    }
   ],
   "source": [
    "np.unique(clusters)"
   ]
  },
  {
   "cell_type": "code",
   "execution_count": 123,
   "id": "8e28f1ca-b4c2-4470-a87b-9bfbf85661da",
   "metadata": {},
   "outputs": [],
   "source": [
    "pointID=np.unique(clusters)"
   ]
  },
  {
   "cell_type": "code",
   "execution_count": 124,
   "id": "1ea8a78e-ff7a-47d7-818a-b41d9a5526b6",
   "metadata": {},
   "outputs": [],
   "source": [
    "pointID=pointID[pointID>-1]"
   ]
  },
  {
   "cell_type": "code",
   "execution_count": 125,
   "id": "d91f786a-5825-4abc-9557-bf744d1f8ad0",
   "metadata": {},
   "outputs": [
    {
     "data": {
      "text/plain": [
       "array([0])"
      ]
     },
     "execution_count": 125,
     "metadata": {},
     "output_type": "execute_result"
    }
   ],
   "source": [
    "pointID"
   ]
  },
  {
   "cell_type": "code",
   "execution_count": 126,
   "id": "8b8bd2d1-afef-4265-9d43-28ccdf6b6338",
   "metadata": {},
   "outputs": [
    {
     "data": {
      "text/plain": [
       "0"
      ]
     },
     "execution_count": 126,
     "metadata": {},
     "output_type": "execute_result"
    }
   ],
   "source": [
    "np.argmax([len(clusters[clusters==clID]) for clID in pointID])"
   ]
  },
  {
   "cell_type": "code",
   "execution_count": 127,
   "id": "8d250205-6312-4acd-81a4-340451cc6c88",
   "metadata": {},
   "outputs": [
    {
     "data": {
      "text/plain": [
       "170"
      ]
     },
     "execution_count": 127,
     "metadata": {},
     "output_type": "execute_result"
    }
   ],
   "source": [
    "len(clusters[clusters==pointID[0]])"
   ]
  },
  {
   "cell_type": "code",
   "execution_count": 128,
   "id": "e80f3c28-e322-4bf7-bbdf-09ba5dbfcc7d",
   "metadata": {},
   "outputs": [],
   "source": [
    "ll={'rrr':444}"
   ]
  },
  {
   "cell_type": "code",
   "execution_count": 129,
   "id": "50c60708-a7f8-4b9e-9f8e-17499e5d8ad3",
   "metadata": {},
   "outputs": [
    {
     "data": {
      "text/plain": [
       "dict_keys(['rrr'])"
      ]
     },
     "execution_count": 129,
     "metadata": {},
     "output_type": "execute_result"
    }
   ],
   "source": [
    "ll.keys()"
   ]
  },
  {
   "cell_type": "code",
   "execution_count": 130,
   "id": "45753d37-6ca3-442f-896d-08d9976ef82f",
   "metadata": {},
   "outputs": [
    {
     "data": {
      "text/plain": [
       "{'rrr': 444}"
      ]
     },
     "execution_count": 130,
     "metadata": {},
     "output_type": "execute_result"
    }
   ],
   "source": [
    "ll"
   ]
  },
  {
   "cell_type": "code",
   "execution_count": 131,
   "id": "e2bfb801-0617-4a91-930c-d95ae5e246ef",
   "metadata": {},
   "outputs": [
    {
     "data": {
      "text/plain": [
       "{'n_clusters': 0,\n",
       " 'n_points': 0,\n",
       " 'x_mean': -999.0,\n",
       " 'y_mean': -999.0,\n",
       " 't_mean': -999.0,\n",
       " 'channelID': -999,\n",
       " 'timeID': -999}"
      ]
     },
     "execution_count": 131,
     "metadata": {},
     "output_type": "execute_result"
    }
   ],
   "source": [
    "def_clusters_info()"
   ]
  },
  {
   "cell_type": "code",
   "execution_count": 132,
   "id": "9cd5bb49-8e65-4101-a603-292a915d9eee",
   "metadata": {},
   "outputs": [],
   "source": [
    "mm=pixelmapping[pixelmapping[:,1] > 0.1]"
   ]
  },
  {
   "cell_type": "code",
   "execution_count": 133,
   "id": "0d7ae742-b134-4fc5-9e18-c9be2bc0b5c7",
   "metadata": {},
   "outputs": [],
   "source": [
    "mmm=mm[mm[:,1]<0.14]"
   ]
  },
  {
   "cell_type": "code",
   "execution_count": 134,
   "id": "036b8aec-b1e7-4040-8032-8e7623d20248",
   "metadata": {},
   "outputs": [],
   "source": [
    "mmmm=mmm[mmm[:,0]<0.14]"
   ]
  },
  {
   "cell_type": "code",
   "execution_count": 135,
   "id": "547123cb-43c6-4937-ab38-51f628d48119",
   "metadata": {},
   "outputs": [],
   "source": [
    "mmmmm=mmmm[mmmm[:,0]>0.1]"
   ]
  },
  {
   "cell_type": "code",
   "execution_count": 136,
   "id": "a98e9b53-30f2-4574-b0ae-468f4100a861",
   "metadata": {},
   "outputs": [
    {
     "data": {
      "text/plain": [
       "array([[0.10935, 0.10522, 7.     ],\n",
       "       [0.1215 , 0.12627, 9.     ],\n",
       "       [0.13365, 0.10522, 9.     ]])"
      ]
     },
     "execution_count": 136,
     "metadata": {},
     "output_type": "execute_result"
    }
   ],
   "source": [
    "mmmmm"
   ]
  },
  {
   "cell_type": "code",
   "execution_count": 137,
   "id": "9bf8c52c-72d5-4fd6-9392-bde7ba6a0769",
   "metadata": {},
   "outputs": [
    {
     "data": {
      "text/plain": [
       "array([[0.00000e+00, 0.00000e+00, 0.00000e+00],\n",
       "       [2.43000e-02, 0.00000e+00, 0.00000e+00],\n",
       "       [1.21500e-02, 2.10400e-02, 0.00000e+00],\n",
       "       ...,\n",
       "       [1.02060e+00, 1.68360e-01, 1.14000e+03],\n",
       "       [1.03275e+00, 1.47310e-01, 1.14000e+03],\n",
       "       [1.05705e+00, 1.47310e-01, 1.14000e+03]])"
      ]
     },
     "execution_count": 137,
     "metadata": {},
     "output_type": "execute_result"
    }
   ],
   "source": [
    "pixelmapping"
   ]
  },
  {
   "cell_type": "code",
   "execution_count": 142,
   "id": "110475b5-0516-4f60-835b-7e62b2a75a52",
   "metadata": {},
   "outputs": [
    {
     "data": {
      "text/plain": [
       "3.75"
      ]
     },
     "execution_count": 142,
     "metadata": {},
     "output_type": "execute_result"
    }
   ],
   "source": [
    "pix_t[0,-1]+0.05"
   ]
  },
  {
   "cell_type": "code",
   "execution_count": null,
   "id": "75e4e23a-a057-481d-8c4c-5a0f2b4775e7",
   "metadata": {},
   "outputs": [],
   "source": []
  }
 ],
 "metadata": {
  "kernelspec": {
   "display_name": "Python 3 (ipykernel)",
   "language": "python",
   "name": "python3"
  },
  "language_info": {
   "codemirror_mode": {
    "name": "ipython",
    "version": 3
   },
   "file_extension": ".py",
   "mimetype": "text/x-python",
   "name": "python",
   "nbconvert_exporter": "python",
   "pygments_lexer": "ipython3",
   "version": "3.12.3"
  }
 },
 "nbformat": 4,
 "nbformat_minor": 5
}
