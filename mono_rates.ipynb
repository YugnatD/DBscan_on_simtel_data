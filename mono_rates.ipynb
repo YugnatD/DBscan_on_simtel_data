{
 "cells": [
  {
   "cell_type": "code",
   "execution_count": 1,
   "id": "933522e5-c203-4cf0-b5ef-458ddb27cdf8",
   "metadata": {},
   "outputs": [],
   "source": [
    "import numpy as np\n",
    "import pandas as pd\n",
    "import datetime\n",
    "from datetime import timedelta\n",
    "from matplotlib import dates\n",
    "import matplotlib.pyplot as plt\n",
    "import time\n",
    "from pathlib import Path\n",
    "from scipy.optimize import curve_fit\n",
    "from tables import open_file"
   ]
  },
  {
   "cell_type": "code",
   "execution_count": 2,
   "id": "6b72eb45-7226-4b2a-884d-89079279bd88",
   "metadata": {},
   "outputs": [],
   "source": [
    "ncsvf=!(ls ../scratch/simtel_data/gamma/npe/corsika_run*.npe.csv | wc -l)\n",
    "#ncsvf=!(ls ../scratch/simtel_data/proton/npe/corsika_run*.npe.csv | wc -l)\n",
    "ncsvf=int((ncsvf[0]))\n",
    "#fname_list=['../scratch/simtel_data/proton/npe/corsika_run' + str(i) + '.npe.csv' for i in range(1,ncsvf+1)]\n",
    "fname_list=['../scratch/simtel_data/gamma/npe/corsika_run' + str(i) + '.npe.csv' for i in range(1,ncsvf+1)]\n",
    "df=pd.concat([pd.read_csv(fname) for fname in fname_list], ignore_index=True)"
   ]
  },
  {
   "cell_type": "code",
   "execution_count": 3,
   "id": "3b9cbe08-2238-4d42-a40c-c4dd2dc9b478",
   "metadata": {},
   "outputs": [
    {
     "data": {
      "text/html": [
       "<div>\n",
       "<style scoped>\n",
       "    .dataframe tbody tr th:only-of-type {\n",
       "        vertical-align: middle;\n",
       "    }\n",
       "\n",
       "    .dataframe tbody tr th {\n",
       "        vertical-align: top;\n",
       "    }\n",
       "\n",
       "    .dataframe thead th {\n",
       "        text-align: right;\n",
       "    }\n",
       "</style>\n",
       "<table border=\"1\" class=\"dataframe\">\n",
       "  <thead>\n",
       "    <tr style=\"text-align: right;\">\n",
       "      <th></th>\n",
       "      <th>Unnamed: 0</th>\n",
       "      <th>event_id</th>\n",
       "      <th>energy</th>\n",
       "      <th>azimuth</th>\n",
       "      <th>altitude</th>\n",
       "      <th>h_first_int</th>\n",
       "      <th>xmax</th>\n",
       "      <th>hmax</th>\n",
       "      <th>emax</th>\n",
       "      <th>cmax</th>\n",
       "      <th>...</th>\n",
       "      <th>L3_cl_channelID_LST3</th>\n",
       "      <th>L3_cl_timeID_LST3</th>\n",
       "      <th>L3_cl_n_digitalsum_points_LST4</th>\n",
       "      <th>L3_cl_n_clusters_LST4</th>\n",
       "      <th>L3_cl_n_points_LST4</th>\n",
       "      <th>L3_cl_x_mean_LST4</th>\n",
       "      <th>L3_cl_y_mean_LST4</th>\n",
       "      <th>L3_cl_t_mean_LST4</th>\n",
       "      <th>L3_cl_channelID_LST4</th>\n",
       "      <th>L3_cl_timeID_LST4</th>\n",
       "    </tr>\n",
       "  </thead>\n",
       "  <tbody>\n",
       "    <tr>\n",
       "      <th>0</th>\n",
       "      <td>0</td>\n",
       "      <td>100.0</td>\n",
       "      <td>0.064814</td>\n",
       "      <td>3.141593</td>\n",
       "      <td>1.22173</td>\n",
       "      <td>20580.644531</td>\n",
       "      <td>199.090912</td>\n",
       "      <td>12289.798828</td>\n",
       "      <td>199.090912</td>\n",
       "      <td>206.719269</td>\n",
       "      <td>...</td>\n",
       "      <td>-999.0</td>\n",
       "      <td>-999.0</td>\n",
       "      <td>0.0</td>\n",
       "      <td>0.0</td>\n",
       "      <td>0.0</td>\n",
       "      <td>-999.0</td>\n",
       "      <td>-999.0</td>\n",
       "      <td>-999.0</td>\n",
       "      <td>-999.0</td>\n",
       "      <td>-999.0</td>\n",
       "    </tr>\n",
       "    <tr>\n",
       "      <th>1</th>\n",
       "      <td>1</td>\n",
       "      <td>101.0</td>\n",
       "      <td>0.064814</td>\n",
       "      <td>3.141593</td>\n",
       "      <td>1.22173</td>\n",
       "      <td>20580.644531</td>\n",
       "      <td>199.090912</td>\n",
       "      <td>12289.798828</td>\n",
       "      <td>199.090912</td>\n",
       "      <td>206.719269</td>\n",
       "      <td>...</td>\n",
       "      <td>-999.0</td>\n",
       "      <td>-999.0</td>\n",
       "      <td>0.0</td>\n",
       "      <td>0.0</td>\n",
       "      <td>0.0</td>\n",
       "      <td>-999.0</td>\n",
       "      <td>-999.0</td>\n",
       "      <td>-999.0</td>\n",
       "      <td>-999.0</td>\n",
       "      <td>-999.0</td>\n",
       "    </tr>\n",
       "    <tr>\n",
       "      <th>2</th>\n",
       "      <td>2</td>\n",
       "      <td>104.0</td>\n",
       "      <td>0.064814</td>\n",
       "      <td>3.141593</td>\n",
       "      <td>1.22173</td>\n",
       "      <td>20580.644531</td>\n",
       "      <td>199.090912</td>\n",
       "      <td>12289.798828</td>\n",
       "      <td>199.090912</td>\n",
       "      <td>206.719269</td>\n",
       "      <td>...</td>\n",
       "      <td>-999.0</td>\n",
       "      <td>-999.0</td>\n",
       "      <td>0.0</td>\n",
       "      <td>0.0</td>\n",
       "      <td>0.0</td>\n",
       "      <td>-999.0</td>\n",
       "      <td>-999.0</td>\n",
       "      <td>-999.0</td>\n",
       "      <td>-999.0</td>\n",
       "      <td>-999.0</td>\n",
       "    </tr>\n",
       "    <tr>\n",
       "      <th>3</th>\n",
       "      <td>3</td>\n",
       "      <td>105.0</td>\n",
       "      <td>0.064814</td>\n",
       "      <td>3.141593</td>\n",
       "      <td>1.22173</td>\n",
       "      <td>20580.644531</td>\n",
       "      <td>199.090912</td>\n",
       "      <td>12289.798828</td>\n",
       "      <td>199.090912</td>\n",
       "      <td>206.719269</td>\n",
       "      <td>...</td>\n",
       "      <td>-999.0</td>\n",
       "      <td>-999.0</td>\n",
       "      <td>0.0</td>\n",
       "      <td>0.0</td>\n",
       "      <td>0.0</td>\n",
       "      <td>-999.0</td>\n",
       "      <td>-999.0</td>\n",
       "      <td>-999.0</td>\n",
       "      <td>-999.0</td>\n",
       "      <td>-999.0</td>\n",
       "    </tr>\n",
       "    <tr>\n",
       "      <th>4</th>\n",
       "      <td>4</td>\n",
       "      <td>302.0</td>\n",
       "      <td>0.005591</td>\n",
       "      <td>3.141593</td>\n",
       "      <td>1.22173</td>\n",
       "      <td>16689.664062</td>\n",
       "      <td>164.000000</td>\n",
       "      <td>13512.565430</td>\n",
       "      <td>164.000000</td>\n",
       "      <td>206.254349</td>\n",
       "      <td>...</td>\n",
       "      <td>-999.0</td>\n",
       "      <td>-999.0</td>\n",
       "      <td>0.0</td>\n",
       "      <td>0.0</td>\n",
       "      <td>0.0</td>\n",
       "      <td>-999.0</td>\n",
       "      <td>-999.0</td>\n",
       "      <td>-999.0</td>\n",
       "      <td>-999.0</td>\n",
       "      <td>-999.0</td>\n",
       "    </tr>\n",
       "    <tr>\n",
       "      <th>...</th>\n",
       "      <td>...</td>\n",
       "      <td>...</td>\n",
       "      <td>...</td>\n",
       "      <td>...</td>\n",
       "      <td>...</td>\n",
       "      <td>...</td>\n",
       "      <td>...</td>\n",
       "      <td>...</td>\n",
       "      <td>...</td>\n",
       "      <td>...</td>\n",
       "      <td>...</td>\n",
       "      <td>...</td>\n",
       "      <td>...</td>\n",
       "      <td>...</td>\n",
       "      <td>...</td>\n",
       "      <td>...</td>\n",
       "      <td>...</td>\n",
       "      <td>...</td>\n",
       "      <td>...</td>\n",
       "      <td>...</td>\n",
       "      <td>...</td>\n",
       "    </tr>\n",
       "    <tr>\n",
       "      <th>914190</th>\n",
       "      <td>12991</td>\n",
       "      <td>999708.0</td>\n",
       "      <td>0.176640</td>\n",
       "      <td>3.141593</td>\n",
       "      <td>1.22173</td>\n",
       "      <td>24816.318359</td>\n",
       "      <td>202.727280</td>\n",
       "      <td>12175.111328</td>\n",
       "      <td>202.727280</td>\n",
       "      <td>200.960999</td>\n",
       "      <td>...</td>\n",
       "      <td>-999.0</td>\n",
       "      <td>-999.0</td>\n",
       "      <td>0.0</td>\n",
       "      <td>0.0</td>\n",
       "      <td>0.0</td>\n",
       "      <td>-999.0</td>\n",
       "      <td>-999.0</td>\n",
       "      <td>-999.0</td>\n",
       "      <td>-999.0</td>\n",
       "      <td>-999.0</td>\n",
       "    </tr>\n",
       "    <tr>\n",
       "      <th>914191</th>\n",
       "      <td>12992</td>\n",
       "      <td>999709.0</td>\n",
       "      <td>0.176640</td>\n",
       "      <td>3.141593</td>\n",
       "      <td>1.22173</td>\n",
       "      <td>24816.318359</td>\n",
       "      <td>202.727280</td>\n",
       "      <td>12175.111328</td>\n",
       "      <td>202.727280</td>\n",
       "      <td>200.960999</td>\n",
       "      <td>...</td>\n",
       "      <td>-999.0</td>\n",
       "      <td>-999.0</td>\n",
       "      <td>0.0</td>\n",
       "      <td>0.0</td>\n",
       "      <td>0.0</td>\n",
       "      <td>-999.0</td>\n",
       "      <td>-999.0</td>\n",
       "      <td>-999.0</td>\n",
       "      <td>-999.0</td>\n",
       "      <td>-999.0</td>\n",
       "    </tr>\n",
       "    <tr>\n",
       "      <th>914192</th>\n",
       "      <td>12993</td>\n",
       "      <td>999802.0</td>\n",
       "      <td>0.006995</td>\n",
       "      <td>3.141593</td>\n",
       "      <td>1.22173</td>\n",
       "      <td>25669.105469</td>\n",
       "      <td>85.000000</td>\n",
       "      <td>17568.121094</td>\n",
       "      <td>85.000000</td>\n",
       "      <td>79.234001</td>\n",
       "      <td>...</td>\n",
       "      <td>-999.0</td>\n",
       "      <td>-999.0</td>\n",
       "      <td>0.0</td>\n",
       "      <td>0.0</td>\n",
       "      <td>0.0</td>\n",
       "      <td>-999.0</td>\n",
       "      <td>-999.0</td>\n",
       "      <td>-999.0</td>\n",
       "      <td>-999.0</td>\n",
       "      <td>-999.0</td>\n",
       "    </tr>\n",
       "    <tr>\n",
       "      <th>914193</th>\n",
       "      <td>12994</td>\n",
       "      <td>999900.0</td>\n",
       "      <td>0.008298</td>\n",
       "      <td>3.141593</td>\n",
       "      <td>1.22173</td>\n",
       "      <td>24210.287109</td>\n",
       "      <td>106.363640</td>\n",
       "      <td>16203.908203</td>\n",
       "      <td>106.363640</td>\n",
       "      <td>244.659897</td>\n",
       "      <td>...</td>\n",
       "      <td>-999.0</td>\n",
       "      <td>-999.0</td>\n",
       "      <td>0.0</td>\n",
       "      <td>0.0</td>\n",
       "      <td>0.0</td>\n",
       "      <td>-999.0</td>\n",
       "      <td>-999.0</td>\n",
       "      <td>-999.0</td>\n",
       "      <td>-999.0</td>\n",
       "      <td>-999.0</td>\n",
       "    </tr>\n",
       "    <tr>\n",
       "      <th>914194</th>\n",
       "      <td>12995</td>\n",
       "      <td>1000004.0</td>\n",
       "      <td>0.009951</td>\n",
       "      <td>3.141593</td>\n",
       "      <td>1.22173</td>\n",
       "      <td>23051.609375</td>\n",
       "      <td>101.111115</td>\n",
       "      <td>16513.238281</td>\n",
       "      <td>101.111115</td>\n",
       "      <td>103.830437</td>\n",
       "      <td>...</td>\n",
       "      <td>-999.0</td>\n",
       "      <td>-999.0</td>\n",
       "      <td>0.0</td>\n",
       "      <td>0.0</td>\n",
       "      <td>0.0</td>\n",
       "      <td>-999.0</td>\n",
       "      <td>-999.0</td>\n",
       "      <td>-999.0</td>\n",
       "      <td>-999.0</td>\n",
       "      <td>-999.0</td>\n",
       "    </tr>\n",
       "  </tbody>\n",
       "</table>\n",
       "<p>914195 rows × 116 columns</p>\n",
       "</div>"
      ],
      "text/plain": [
       "        Unnamed: 0   event_id    energy   azimuth  altitude   h_first_int  \\\n",
       "0                0      100.0  0.064814  3.141593   1.22173  20580.644531   \n",
       "1                1      101.0  0.064814  3.141593   1.22173  20580.644531   \n",
       "2                2      104.0  0.064814  3.141593   1.22173  20580.644531   \n",
       "3                3      105.0  0.064814  3.141593   1.22173  20580.644531   \n",
       "4                4      302.0  0.005591  3.141593   1.22173  16689.664062   \n",
       "...            ...        ...       ...       ...       ...           ...   \n",
       "914190       12991   999708.0  0.176640  3.141593   1.22173  24816.318359   \n",
       "914191       12992   999709.0  0.176640  3.141593   1.22173  24816.318359   \n",
       "914192       12993   999802.0  0.006995  3.141593   1.22173  25669.105469   \n",
       "914193       12994   999900.0  0.008298  3.141593   1.22173  24210.287109   \n",
       "914194       12995  1000004.0  0.009951  3.141593   1.22173  23051.609375   \n",
       "\n",
       "              xmax          hmax        emax        cmax  ...  \\\n",
       "0       199.090912  12289.798828  199.090912  206.719269  ...   \n",
       "1       199.090912  12289.798828  199.090912  206.719269  ...   \n",
       "2       199.090912  12289.798828  199.090912  206.719269  ...   \n",
       "3       199.090912  12289.798828  199.090912  206.719269  ...   \n",
       "4       164.000000  13512.565430  164.000000  206.254349  ...   \n",
       "...            ...           ...         ...         ...  ...   \n",
       "914190  202.727280  12175.111328  202.727280  200.960999  ...   \n",
       "914191  202.727280  12175.111328  202.727280  200.960999  ...   \n",
       "914192   85.000000  17568.121094   85.000000   79.234001  ...   \n",
       "914193  106.363640  16203.908203  106.363640  244.659897  ...   \n",
       "914194  101.111115  16513.238281  101.111115  103.830437  ...   \n",
       "\n",
       "        L3_cl_channelID_LST3  L3_cl_timeID_LST3  \\\n",
       "0                     -999.0             -999.0   \n",
       "1                     -999.0             -999.0   \n",
       "2                     -999.0             -999.0   \n",
       "3                     -999.0             -999.0   \n",
       "4                     -999.0             -999.0   \n",
       "...                      ...                ...   \n",
       "914190                -999.0             -999.0   \n",
       "914191                -999.0             -999.0   \n",
       "914192                -999.0             -999.0   \n",
       "914193                -999.0             -999.0   \n",
       "914194                -999.0             -999.0   \n",
       "\n",
       "        L3_cl_n_digitalsum_points_LST4  L3_cl_n_clusters_LST4  \\\n",
       "0                                  0.0                    0.0   \n",
       "1                                  0.0                    0.0   \n",
       "2                                  0.0                    0.0   \n",
       "3                                  0.0                    0.0   \n",
       "4                                  0.0                    0.0   \n",
       "...                                ...                    ...   \n",
       "914190                             0.0                    0.0   \n",
       "914191                             0.0                    0.0   \n",
       "914192                             0.0                    0.0   \n",
       "914193                             0.0                    0.0   \n",
       "914194                             0.0                    0.0   \n",
       "\n",
       "        L3_cl_n_points_LST4  L3_cl_x_mean_LST4  L3_cl_y_mean_LST4  \\\n",
       "0                       0.0             -999.0             -999.0   \n",
       "1                       0.0             -999.0             -999.0   \n",
       "2                       0.0             -999.0             -999.0   \n",
       "3                       0.0             -999.0             -999.0   \n",
       "4                       0.0             -999.0             -999.0   \n",
       "...                     ...                ...                ...   \n",
       "914190                  0.0             -999.0             -999.0   \n",
       "914191                  0.0             -999.0             -999.0   \n",
       "914192                  0.0             -999.0             -999.0   \n",
       "914193                  0.0             -999.0             -999.0   \n",
       "914194                  0.0             -999.0             -999.0   \n",
       "\n",
       "        L3_cl_t_mean_LST4  L3_cl_channelID_LST4  L3_cl_timeID_LST4  \n",
       "0                  -999.0                -999.0             -999.0  \n",
       "1                  -999.0                -999.0             -999.0  \n",
       "2                  -999.0                -999.0             -999.0  \n",
       "3                  -999.0                -999.0             -999.0  \n",
       "4                  -999.0                -999.0             -999.0  \n",
       "...                   ...                   ...                ...  \n",
       "914190             -999.0                -999.0             -999.0  \n",
       "914191             -999.0                -999.0             -999.0  \n",
       "914192             -999.0                -999.0             -999.0  \n",
       "914193             -999.0                -999.0             -999.0  \n",
       "914194             -999.0                -999.0             -999.0  \n",
       "\n",
       "[914195 rows x 116 columns]"
      ]
     },
     "execution_count": 3,
     "metadata": {},
     "output_type": "execute_result"
    }
   ],
   "source": [
    "df"
   ]
  },
  {
   "cell_type": "code",
   "execution_count": 4,
   "id": "f70fab09-5786-44b7-8dbe-6277679a6081",
   "metadata": {},
   "outputs": [
    {
     "data": {
      "image/png": "[encoded data removed]",
      "text/plain": [
       "<Figure size 640x480 with 1 Axes>"
      ]
     },
     "metadata": {},
     "output_type": "display_data"
    }
   ],
   "source": [
    "plt.hist(df['L1_max_digi_sum_LST1'].values, bins=np.linspace(14850, 15100, num=200), edgecolor='black', alpha=1.0)\n",
    "#df_g_t[df_g_t['n_pe']>10]['energy'].hist(bins=100,grid=True)\n",
    "#plt.xlabel('energy, TeV')\n",
    "#plt.ylabel('')\n",
    "#plt.title('energy')\n",
    "plt.yscale('log')  # Set y-axis to logarithmic scale\n",
    "plt.grid(True)\n",
    "# Show the plot\n",
    "plt.show()"
   ]
  },
  {
   "cell_type": "code",
   "execution_count": 12,
   "id": "950125a0-7aa7-4b17-a079-fc00ae663bf7",
   "metadata": {},
   "outputs": [
    {
     "data": {
      "image/png": "[encoded data removed]",
      "text/plain": [
       "<Figure size 640x480 with 1 Axes>"
      ]
     },
     "metadata": {},
     "output_type": "display_data"
    },
    {
     "name": "stdout",
     "output_type": "stream",
     "text": [
      "220250\n"
     ]
    }
   ],
   "source": [
    "#plt.hist(df['energy'].values, bins=np.linspace(0.0, 0.04, num=70), edgecolor='black', alpha=1.0)\n",
    "#14963 and L3 n points is > 7\n",
    "trg_l1=df[df['L1_max_digi_sum_LST1']>14963]\n",
    "trg_l3=trg_l1[trg_l1['L3_iso_n_points_LST1']>7]\n",
    "#trg_l3=trg_l3[trg_l3['L3_cl_n_points_LST1']>50]\n",
    "#trg_l3=df[df['L3_iso_n_points_LST1']>6]\n",
    "#plt.hist(df[df['L1_max_digi_sum_LST1']>14963]['energy'].values, bins=np.linspace(0.0, 0.04, num=70), edgecolor='black', alpha=1.0)\n",
    "hist_trg3=plt.hist(trg_l3['energy'].values, bins=np.linspace(0.0, 0.04, num=70), edgecolor='black', alpha=1.0)\n",
    "#df_g_t[df_g_t['n_pe']>10]['energy'].hist(bins=100,grid=True)\n",
    "#plt.xlabel('energy, TeV')\n",
    "#plt.ylabel('')\n",
    "#plt.title('energy')\n",
    "#plt.yscale('log')  # Set y-axis to logarithmic scale\n",
    "plt.grid(True)\n",
    "# Show the plot\n",
    "plt.show()\n",
    "print(len(trg_l3))"
   ]
  },
  {
   "cell_type": "markdown",
   "id": "e59e7b44-9904-46fb-90d2-975545daccf9",
   "metadata": {},
   "source": [
    "### Observations of the Crab Nebula and Pulsar with the Large-Sized Telescope Prototype of the Cherenkov Telescope Array\n",
    "\n",
    "<div>\n",
    "<img src=\"LST_crab_sim.png\" width=\"800\"/>\n",
    "</div>\n",
    "\n",
    "# (Crab like spectrum from : Aleksić et al. (2015))"
   ]
  },
  {
   "cell_type": "markdown",
   "id": "d19e720a-2096-4d41-a835-0f81ccca1dfe",
   "metadata": {},
   "source": [
    "### Measurement of the Crab Nebula spectrum over three decades in energy with the MAGIC telescopes\n",
    "\n",
    "\n",
    "https://arxiv.org/pdf/1406.6892\n",
    "\n",
    "<div>\n",
    "<img src=\"crab_magic.png\" width=\"800\"/>\n",
    "</div>"
   ]
  },
  {
   "cell_type": "code",
   "execution_count": 6,
   "id": "0e543a0c-f9aa-4413-9952-049273be0e6a",
   "metadata": {},
   "outputs": [
    {
     "data": {
      "text/plain": [
       "Text(0, 0.5, '')"
      ]
     },
     "execution_count": 6,
     "metadata": {},
     "output_type": "execute_result"
    },
    {
     "data": {
      "image/png": "[encoded data removed]",
      "text/plain": [
       "<Figure size 640x480 with 1 Axes>"
      ]
     },
     "metadata": {},
     "output_type": "display_data"
    }
   ],
   "source": [
    "E_trg3 = [ (hist_trg3[1][i] + hist_trg3[1][i-1])/2.0 for i in range(1,len(hist_trg3[1]))]\n",
    "N_trg3 = hist_trg3[0]\n",
    "#corrector=1.0/np.power(E_trg3,0.21)\n",
    "corrector=1.0/np.power(E_trg3,0.47)\n",
    "#plt.grid(True)\n",
    "plt.plot(E_trg3,N_trg3*corrector)\n",
    "plt.grid(True)\n",
    "plt.xlabel('energy, TeV')\n",
    "plt.ylabel('')"
   ]
  },
  {
   "cell_type": "code",
   "execution_count": 7,
   "id": "cf0dd86b-56cc-445c-85af-ad1e74f48f61",
   "metadata": {},
   "outputs": [
    {
     "data": {
      "image/png": "[encoded data removed]",
      "text/plain": [
       "<Figure size 640x480 with 1 Axes>"
      ]
     },
     "metadata": {},
     "output_type": "display_data"
    }
   ],
   "source": [
    "plt.hist(df['L3_cl_n_points_LST1'].values, bins=np.linspace(0.0, 200, num=70), edgecolor='black', alpha=0.5)\n",
    "plt.hist(trg_l3['L3_cl_n_points_LST1'].values, bins=np.linspace(0.0, 200, num=70), edgecolor='black', alpha=1.0)\n",
    "#df_g_t[df_g_t['n_pe']>10]['energy'].hist(bins=100,grid=True)\n",
    "#plt.xlabel('energy, TeV')\n",
    "#plt.ylabel('')\n",
    "#plt.title('energy')\n",
    "plt.yscale('log')  # Set y-axis to logarithmic scale\n",
    "plt.grid(True)\n",
    "# Show the plot\n",
    "plt.show()"
   ]
  },
  {
   "cell_type": "code",
   "execution_count": 8,
   "id": "6ae98e75-6d1d-401d-aafd-9f76312e2789",
   "metadata": {},
   "outputs": [
    {
     "data": {
      "image/png": "[encoded data removed]",
      "text/plain": [
       "<Figure size 640x480 with 1 Axes>"
      ]
     },
     "metadata": {},
     "output_type": "display_data"
    }
   ],
   "source": [
    "plt.hist(df['L3_cl_t_mean_LST1'].values*1.0/0.06, bins=np.linspace(0.0, 80, num=70), edgecolor='black', alpha=0.5)\n",
    "plt.hist(trg_l3['L3_cl_t_mean_LST1'].values*1.0/0.06, bins=np.linspace(0.0, 80, num=70), edgecolor='black', alpha=0.7)\n",
    "trg_l3_cl=trg_l3[trg_l3['L3_cl_n_points_LST1']>50]\n",
    "plt.hist(trg_l3_cl['L3_cl_t_mean_LST1'].values*1.0/0.06, bins=np.linspace(0.0, 80, num=70), edgecolor='black', alpha=1.0)\n",
    "#df_g_t[df_g_t['n_pe']>10]['energy'].hist(bins=100,grid=True)\n",
    "#plt.xlabel('energy, TeV')\n",
    "#plt.ylabel('')\n",
    "#plt.title('energy')\n",
    "plt.yscale('log')  # Set y-axis to logarithmic scale\n",
    "plt.grid(True)\n",
    "# Show the plot\n",
    "plt.show()\n"
   ]
  },
  {
   "cell_type": "code",
   "execution_count": 9,
   "id": "e466c882-c5d3-40d8-b1ff-9de8841463c3",
   "metadata": {},
   "outputs": [
    {
     "data": {
      "text/plain": [
       "(array([ 1711.,     0.,     0.,     0.,     0.,     0.,     0.,     0.,\n",
       "            0.,     0.,  5744., 22538., 15873., 52046., 35605., 71953.,\n",
       "        34595., 67031., 31287., 27952., 46783., 19945., 35108., 14973.,\n",
       "        26375., 11462., 20198.,  9044., 16536.,  7414.,  6989., 12954.,\n",
       "         5915., 11066.,  5222.,  9802.,  4705.,  8877.,  4086.,  3991.,\n",
       "         7741.,  3619.,  7013.,  3300.,  6535.,  3053.,  5967.,  2829.,\n",
       "         5453.,  2640.,  2573.,  4954.,  2473.,  4573.,  2228.,  4281.,\n",
       "         2068.,  4003.,  1927.,  1910.,  3823.,  1769.,  3486.,  1711.,\n",
       "         3252.,  1646.,  3166.,  1508.,  2895.]),\n",
       " array([  0.        ,   1.44927536,   2.89855072,   4.34782609,\n",
       "          5.79710145,   7.24637681,   8.69565217,  10.14492754,\n",
       "         11.5942029 ,  13.04347826,  14.49275362,  15.94202899,\n",
       "         17.39130435,  18.84057971,  20.28985507,  21.73913043,\n",
       "         23.1884058 ,  24.63768116,  26.08695652,  27.53623188,\n",
       "         28.98550725,  30.43478261,  31.88405797,  33.33333333,\n",
       "         34.7826087 ,  36.23188406,  37.68115942,  39.13043478,\n",
       "         40.57971014,  42.02898551,  43.47826087,  44.92753623,\n",
       "         46.37681159,  47.82608696,  49.27536232,  50.72463768,\n",
       "         52.17391304,  53.62318841,  55.07246377,  56.52173913,\n",
       "         57.97101449,  59.42028986,  60.86956522,  62.31884058,\n",
       "         63.76811594,  65.2173913 ,  66.66666667,  68.11594203,\n",
       "         69.56521739,  71.01449275,  72.46376812,  73.91304348,\n",
       "         75.36231884,  76.8115942 ,  78.26086957,  79.71014493,\n",
       "         81.15942029,  82.60869565,  84.05797101,  85.50724638,\n",
       "         86.95652174,  88.4057971 ,  89.85507246,  91.30434783,\n",
       "         92.75362319,  94.20289855,  95.65217391,  97.10144928,\n",
       "         98.55072464, 100.        ]),\n",
       " <BarContainer object of 69 artists>)"
      ]
     },
     "execution_count": 9,
     "metadata": {},
     "output_type": "execute_result"
    },
    {
     "data": {
      "image/png": "[encoded data removed]",
      "text/plain": [
       "<Figure size 640x480 with 1 Axes>"
      ]
     },
     "metadata": {},
     "output_type": "display_data"
    }
   ],
   "source": [
    "plt.hist(df['L3_cl_n_points_LST1'].values, bins=np.linspace(0.0, 100, num=70), edgecolor='black', alpha=1.0)"
   ]
  },
  {
   "cell_type": "code",
   "execution_count": 10,
   "id": "6bfb3ba3-a38b-4377-a9f3-2d5180eb3070",
   "metadata": {},
   "outputs": [
    {
     "ename": "NameError",
     "evalue": "name 'df_p' is not defined",
     "output_type": "error",
     "traceback": [
      "\u001b[0;31m---------------------------------------------------------------------------\u001b[0m",
      "\u001b[0;31mNameError\u001b[0m                                 Traceback (most recent call last)",
      "Cell \u001b[0;32mIn[10], line 1\u001b[0m\n\u001b[0;32m----> 1\u001b[0m plt\u001b[38;5;241m.\u001b[39mhist(df_p[\u001b[38;5;124m'\u001b[39m\u001b[38;5;124mL3_cl_n_points_LST1\u001b[39m\u001b[38;5;124m'\u001b[39m]\u001b[38;5;241m.\u001b[39mvalues, bins\u001b[38;5;241m=\u001b[39mnp\u001b[38;5;241m.\u001b[39mlinspace(\u001b[38;5;241m-\u001b[39m\u001b[38;5;241m1.50\u001b[39m, \u001b[38;5;241m200\u001b[39m, num\u001b[38;5;241m=\u001b[39m\u001b[38;5;241m100\u001b[39m), edgecolor\u001b[38;5;241m=\u001b[39m\u001b[38;5;124m'\u001b[39m\u001b[38;5;124mblack\u001b[39m\u001b[38;5;124m'\u001b[39m, alpha\u001b[38;5;241m=\u001b[39m\u001b[38;5;241m1.0\u001b[39m)\n\u001b[1;32m      2\u001b[0m plt\u001b[38;5;241m.\u001b[39mhist(df_g[\u001b[38;5;124m'\u001b[39m\u001b[38;5;124mL3_cl_n_points_LST1\u001b[39m\u001b[38;5;124m'\u001b[39m]\u001b[38;5;241m.\u001b[39mvalues, bins\u001b[38;5;241m=\u001b[39mnp\u001b[38;5;241m.\u001b[39mlinspace(\u001b[38;5;241m-\u001b[39m\u001b[38;5;241m1.50\u001b[39m, \u001b[38;5;241m200\u001b[39m, num\u001b[38;5;241m=\u001b[39m\u001b[38;5;241m100\u001b[39m), edgecolor\u001b[38;5;241m=\u001b[39m\u001b[38;5;124m'\u001b[39m\u001b[38;5;124mblack\u001b[39m\u001b[38;5;124m'\u001b[39m, alpha\u001b[38;5;241m=\u001b[39m\u001b[38;5;241m0.1\u001b[39m)\n\u001b[1;32m      3\u001b[0m \u001b[38;5;66;03m#df_g_t[df_g_t['n_pe']>10]['energy'].hist(bins=100,grid=True)\u001b[39;00m\n\u001b[1;32m      4\u001b[0m \u001b[38;5;66;03m#plt.xlabel('energy, TeV')\u001b[39;00m\n\u001b[1;32m      5\u001b[0m \u001b[38;5;66;03m#plt.ylabel('')\u001b[39;00m\n\u001b[1;32m      6\u001b[0m \u001b[38;5;66;03m#plt.title('energy')\u001b[39;00m\n",
      "\u001b[0;31mNameError\u001b[0m: name 'df_p' is not defined"
     ]
    }
   ],
   "source": [
    "plt.hist(df_p['L3_cl_n_points_LST1'].values, bins=np.linspace(-1.50, 200, num=100), edgecolor='black', alpha=1.0)\n",
    "plt.hist(df_g['L3_cl_n_points_LST1'].values, bins=np.linspace(-1.50, 200, num=100), edgecolor='black', alpha=0.1)\n",
    "#df_g_t[df_g_t['n_pe']>10]['energy'].hist(bins=100,grid=True)\n",
    "#plt.xlabel('energy, TeV')\n",
    "#plt.ylabel('')\n",
    "#plt.title('energy')\n",
    "plt.yscale('log')  # Set y-axis to logarithmic scale\n",
    "plt.grid(True)\n",
    "# Show the plot\n",
    "plt.show()"
   ]
  },
  {
   "cell_type": "code",
   "execution_count": null,
   "id": "4e43a9e8-0b52-4b0f-9e4e-ee057a275e88",
   "metadata": {},
   "outputs": [],
   "source": [
    "plt.hist(df_g['energy'].values, bins=np.linspace(0.0, 0.12, num=70), edgecolor='black', alpha=1.0)\n",
    "trg_l1=df_g[df_g['L1_max_digi_sum_LST1']>14977]\n",
    "trg_l3=trg_l1[trg_l1['L3_iso_n_points_LST1']>7]\n",
    "plt.hist(df_g[df_g['L1_max_digi_sum_LST1']>14977]['energy'].values, bins=np.linspace(0.0, 0.12, num=70), edgecolor='black', alpha=1.0)\n",
    "plt.hist(trg_l3['energy'].values, bins=np.linspace(0.0, 0.12, num=70), edgecolor='black', alpha=1.0)\n",
    "#df_g_t[df_g_t['n_pe']>10]['energy'].hist(bins=100,grid=True)\n",
    "#plt.xlabel('energy, TeV')\n",
    "#plt.ylabel('')\n",
    "#plt.title('energy')\n",
    "plt.yscale('log')  # Set y-axis to logarithmic scale\n",
    "plt.grid(True)\n",
    "# Show the plot\n",
    "plt.show()"
   ]
  },
  {
   "cell_type": "code",
   "execution_count": null,
   "id": "463a4480-87a1-4d38-b69a-58ef3247d34e",
   "metadata": {},
   "outputs": [],
   "source": [
    "len(df_g['energy'].values)"
   ]
  },
  {
   "cell_type": "code",
   "execution_count": null,
   "id": "2aac704f-f110-4902-82bd-8975667eab66",
   "metadata": {},
   "outputs": [],
   "source": [
    "plt.hist(df_p[df_p['n_pe_LST2']==20]['n_pe_LST2'].values, bins=np.linspace(-1.50, 200, num=100), edgecolor='black', alpha=1.0)\n",
    "#trg_l1=df_g[df_g['L1_max_digi_sum_LST1']>14977]\n",
    "#trg_l3=trg_l1[trg_l1['L3_iso_n_points_LST1']>5]\n",
    "#plt.hist(df_g[df_g['L1_max_digi_sum_LST1']>14977]['energy'].values, bins=np.linspace(0.0, 0.05, num=70), edgecolor='black', alpha=1.0)\n",
    "#plt.hist(trg_l3['energy'].values, bins=np.linspace(0.0, 0.05, num=70), edgecolor='black', alpha=1.0)\n",
    "#df_g_t[df_g_t['n_pe']>10]['energy'].hist(bins=100,grid=True)\n",
    "#plt.xlabel('energy, TeV')\n",
    "#plt.ylabel('')\n",
    "#plt.title('energy')\n",
    "#plt.yscale('log')  # Set y-axis to logarithmic scale\n",
    "plt.grid(True)\n",
    "# Show the plot\n",
    "plt.show()"
   ]
  },
  {
   "cell_type": "code",
   "execution_count": null,
   "id": "ffe9a505-5657-4fa5-9238-55df2be22342",
   "metadata": {},
   "outputs": [],
   "source": [
    "plt.hist(df_300kHz['L1_max_digi_sum_LST1'].values, bins=np.linspace(14750, 15100, num=100), edgecolor='black', alpha=1.0)\n",
    "plt.hist(df_268MHz['L1_max_digi_sum_LST1'].values, bins=np.linspace(14750, 15100, num=100), edgecolor='black', alpha=0.5)\n",
    "#df_g_t[df_g_t['n_pe']>10]['energy'].hist(bins=100,grid=True)\n",
    "#plt.xlabel('energy, TeV')\n",
    "#plt.ylabel('')\n",
    "#plt.title('energy')\n",
    "#plt.yscale('log')  # Set y-axis to logarithmic scale\n",
    "plt.grid(True)\n",
    "# Show the plot\n",
    "plt.show()"
   ]
  },
  {
   "cell_type": "code",
   "execution_count": null,
   "id": "b718c519-e910-46ff-bc59-aa72cda84c50",
   "metadata": {},
   "outputs": [],
   "source": [
    "plt.hist(df_300kHz['L3_cl_n_points_LST1'].values, bins=np.linspace(-2.5, 100.0, num=30), edgecolor='black', alpha=1.0)\n",
    "plt.hist(df_268MHz['L3_cl_n_points_LST1'].values, bins=np.linspace(-2.5, 100.0, num=30), edgecolor='black', alpha=0.3)\n",
    "#df_g_t[df_g_t['n_pe']>10]['energy'].hist(bins=100,grid=True)\n",
    "#plt.xlabel('energy, TeV')\n",
    "#plt.ylabel('')\n",
    "#plt.title('energy')\n",
    "plt.yscale('log')  # Set y-axis to logarithmic scale\n",
    "plt.grid(True)\n",
    "# Show the plot\n",
    "plt.show()"
   ]
  },
  {
   "cell_type": "code",
   "execution_count": null,
   "id": "38bf5baf-b1f7-465c-af0c-a3319a2812f7",
   "metadata": {},
   "outputs": [],
   "source": [
    "#plt.scatter(x=df_300kHz['L3_iso_n_points_LST1'].values,y=df_300kHz['L1_max_digi_sum_LST1'].values, edgecolor='black', alpha=1.0)\n",
    "plt.scatter(x=df_268MHz['L3_iso_n_points_LST1'].values,y=df_268MHz['L1_max_digi_sum_LST1'].values, edgecolor='black', alpha=0.3)\n",
    "#df_g_t[df_g_t['n_pe']>10]['energy'].hist(bins=100,grid=True)\n",
    "#plt.xlabel('energy, TeV')\n",
    "#plt.ylabel('')\n",
    "#plt.title('energy')\n",
    "#plt.yscale('log')  # Set y-axis to logarithmic scale\n",
    "plt.grid(True)\n",
    "# Show the plot\n",
    "plt.show()"
   ]
  },
  {
   "cell_type": "code",
   "execution_count": null,
   "id": "9b38458b-2fcb-4699-a585-7c7f244dc457",
   "metadata": {},
   "outputs": [],
   "source": [
    "plt.hist(df_300kHz['L1_t_mean_LST1'].values, bins=np.linspace(0, 80, num=45), edgecolor='black', alpha=1.0)\n",
    "plt.hist(df_268MHz['L1_t_mean_LST1'].values, bins=np.linspace(0, 80, num=45), edgecolor='black', alpha=0.5)\n",
    "#df_g_t[df_g_t['n_pe']>10]['energy'].hist(bins=100,grid=True)\n",
    "#plt.xlabel('energy, TeV')\n",
    "#plt.ylabel('')\n",
    "#plt.title('energy')\n",
    "#plt.yscale('log')  # Set y-axis to logarithmic scale\n",
    "plt.grid(True)\n",
    "# Show the plot\n",
    "plt.show()"
   ]
  },
  {
   "cell_type": "code",
   "execution_count": null,
   "id": "5b4cd44c-b504-489f-b285-2ca32301d2de",
   "metadata": {},
   "outputs": [],
   "source": [
    "plt.hist(df_268MHz['L1_t_mean_LST1'].values, bins=np.linspace(0, 80, num=45), edgecolor='black', alpha=0.7)\n",
    "plt.hist(df_268MHz[df_268MHz['L1_max_digi_sum_LST1']>15000]['L1_t_mean_LST1'].values, bins=np.linspace(0, 80, num=45), edgecolor='black', alpha=1.0)\n",
    "#df_g_t[df_g_t['n_pe']>10]['energy'].hist(bins=100,grid=True)\n",
    "#plt.xlabel('energy, TeV')\n",
    "#plt.ylabel('')\n",
    "#plt.title('energy')\n",
    "plt.yscale('log')  # Set y-axis to logarithmic scale\n",
    "plt.grid(True)\n",
    "# Show the plot\n",
    "plt.show()"
   ]
  },
  {
   "cell_type": "code",
   "execution_count": null,
   "id": "6662781f-f222-4330-b7fb-fe052f96c05b",
   "metadata": {},
   "outputs": [],
   "source": [
    "plt.hist(df_300kHz['L3_iso_t_mean_LST1'].values/0.09, bins=np.linspace(-10, 100, num=100), edgecolor='black', alpha=0.7)\n",
    "plt.hist(df_268MHz['L3_iso_t_mean_LST1'].values/0.09, bins=np.linspace(-10, 100, num=100), edgecolor='black', alpha=0.1)\n",
    "#\n",
    "#df_g_t[df_g_t['n_pe']>10]['energy'].hist(bins=100,grid=True)\n",
    "#\n",
    "#plt.xlabel('energy, TeV')\n",
    "#plt.ylabel('')\n",
    "#plt.title('energy')\n",
    "#plt.yscale('log')  # Set y-axis to logarithmic scale\n",
    "plt.grid(True)\n",
    "# Show the plot\n",
    "plt.show()"
   ]
  },
  {
   "cell_type": "code",
   "execution_count": null,
   "id": "d119e4da-21c0-4c7b-95ad-9151fbb47258",
   "metadata": {},
   "outputs": [],
   "source": [
    "np.unique(df_268MHz['L3_cl_timeID_LST1'].values)"
   ]
  },
  {
   "cell_type": "code",
   "execution_count": null,
   "id": "ebe31556-698f-499a-8595-1fa80d6eb2b2",
   "metadata": {},
   "outputs": [],
   "source": [
    "#plt.hist(df_300kHz['L3_iso_t_mean_LST1'].values/0.09, bins=np.linspace(-10, 100, num=100), edgecolor='black', alpha=0.7)\n",
    "plt.hist(df_268MHz['L3_cl_x_mean_LST1'].values, bins=np.linspace(-3, 3, num=100), edgecolor='black', alpha=0.1)\n",
    "#\n",
    "#df_g_t[df_g_t['n_pe']>10]['energy'].hist(bins=100,grid=True)\n",
    "#\n",
    "#plt.xlabel('energy, TeV')\n",
    "#plt.ylabel('')\n",
    "#plt.title('energy')\n",
    "#plt.yscale('log')  # Set y-axis to logarithmic scale\n",
    "plt.grid(True)\n",
    "# Show the plot\n",
    "plt.show()"
   ]
  },
  {
   "cell_type": "code",
   "execution_count": null,
   "id": "5440c040-4acc-4bf7-b175-b72f0884a910",
   "metadata": {},
   "outputs": [],
   "source": [
    "plt.hist(df[df['n_points']>40]['energy'].values, bins=np.linspace(0, 0.1, num=100), edgecolor='black')\n",
    "\n",
    "#df_g_t[df_g_t['n_pe']>10]['energy'].hist(bins=100,grid=True)\n",
    "\n",
    "#plt.xlabel('energy, TeV')\n",
    "#plt.ylabel('')\n",
    "#plt.title('energy')\n",
    "plt.yscale('log')  # Set y-axis to logarithmic scale\n",
    "plt.grid(True)\n",
    "# Show the plot\n",
    "plt.show()"
   ]
  },
  {
   "cell_type": "code",
   "execution_count": null,
   "id": "9e235f40-4cf9-4d0c-900b-bc58a826b0be",
   "metadata": {},
   "outputs": [],
   "source": [
    "plt.hist(df_nsb['energy'].values, bins=np.linspace(0, 0.04, num=100), edgecolor='black')\n",
    "plt.hist(df_gd['energy'].values, bins=np.linspace(0, 0.04, num=100), edgecolor='black')\n",
    "#plt.hist(df_g['energy'].values, bins=np.linspace(0, 0.04, num=100), edgecolor='black')\n",
    "#plt.hist(df_e['energy'].values, bins=np.linspace(0, 0.1, num=100), edgecolor='black')\n",
    "#plt.hist(df_p['energy'].values, bins=np.linspace(0, 0.1, num=100), edgecolor='black')\n",
    "# Add labels and title\n",
    "plt.xlabel('energy, TeV')\n",
    "plt.ylabel('')\n",
    "plt.title('energy')\n",
    "plt.yscale('log')  # Set y-axis to logarithmic scale\n",
    "plt.grid(True)\n",
    "# Show the plot\n",
    "plt.show()"
   ]
  },
  {
   "cell_type": "code",
   "execution_count": null,
   "id": "c205334d-f9f1-4d79-846c-f6819518c713",
   "metadata": {},
   "outputs": [],
   "source": [
    "len(df_nsb[df_nsb['n_pe']>0])/(len(df_nsb['n_pe']))"
   ]
  },
  {
   "cell_type": "code",
   "execution_count": null,
   "id": "143fed76-c53a-46f0-8368-36db908e76c0",
   "metadata": {},
   "outputs": [],
   "source": [
    "df_g_t=df_g[df_g['timeID']>=0]"
   ]
  },
  {
   "cell_type": "code",
   "execution_count": null,
   "id": "eb3b14b4-e002-44b8-80f6-c4c51b37c6f7",
   "metadata": {},
   "outputs": [],
   "source": [
    "df_g_t"
   ]
  },
  {
   "cell_type": "code",
   "execution_count": null,
   "id": "37236390-af9b-4fb3-85a2-604ca32de519",
   "metadata": {},
   "outputs": [],
   "source": [
    "len(df_g_t)"
   ]
  },
  {
   "cell_type": "code",
   "execution_count": null,
   "id": "feefedff-2d6c-4243-82a2-82e88af52be1",
   "metadata": {},
   "outputs": [],
   "source": [
    "df_g_t[df_g_t['n_pe']>10]['energy'].hist(bins=100,grid=True)"
   ]
  },
  {
   "cell_type": "code",
   "execution_count": null,
   "id": "8973ce4e-221d-40f2-ac1d-b66d543c79d5",
   "metadata": {},
   "outputs": [],
   "source": [
    "df_nsb_=df_nsb[df_nsb['n_pe']==0].copy()"
   ]
  },
  {
   "cell_type": "code",
   "execution_count": null,
   "id": "12ccc99d-3002-46d2-9bde-08cbbd6c3f71",
   "metadata": {},
   "outputs": [],
   "source": [
    "len(df_nsb_)"
   ]
  },
  {
   "cell_type": "code",
   "execution_count": null,
   "id": "19e9cf1b-05d3-461a-b514-0c0e8c49dd75",
   "metadata": {},
   "outputs": [],
   "source": []
  },
  {
   "cell_type": "code",
   "execution_count": null,
   "id": "96bbe04e-2fed-4053-9300-5884eabc9b0b",
   "metadata": {},
   "outputs": [],
   "source": [
    "df_nsb_['digitalsum_points_rate']=df_nsb_['n_digitalsum_points']/(1000.0/fadc_MHz*fadc_sum_bins*1e-9)/1e9"
   ]
  },
  {
   "cell_type": "code",
   "execution_count": null,
   "id": "450b1e67-f100-4f0f-952e-6061840a3628",
   "metadata": {},
   "outputs": [],
   "source": [
    "np.mean(df_nsb_['digitalsum_points_rate'].values)"
   ]
  },
  {
   "cell_type": "code",
   "execution_count": null,
   "id": "2cecdeb3-6a05-431d-8bfb-cc883ccb73c7",
   "metadata": {},
   "outputs": [],
   "source": [
    "fig, ax00 = plt.subplots(figsize=(7,7))\n",
    "\n",
    "df_nsb_['n_digitalsum_points'].hist(ax = ax00,bins=np.linspace(0,1000,100), alpha=0.7, color='b', edgecolor='black', density=False);\n",
    "#ax00.set(xlabel='Digital sum micro-cluster rate, GHz', ylabel='');\n",
    "#\n",
    "ax00.yaxis.grid(True)\n",
    "ax00.xaxis.grid(True)\n",
    "#ax00.set_yscale('log')\n",
    "\n",
    "#ax00.set_xlim(2,14)\n",
    "#ax00.set_ylim(1,2*1e+5)\n",
    "\n",
    "\n",
    "# Add mean and std annotations\n",
    "#plt.axvline(np.mean(df_nsb_['digitalsum_points_rate']), color='r', linestyle='dashed', linewidth=2)\n",
    "#plt.text(12.0, 2.2e+4, f'Mean: {np.mean(df_nsb_['digitalsum_points_rate']):.2f} GHz', color='k')\n",
    "\n",
    "# Add mean and std annotations\n",
    "#plt.axvline(np.mean(df_nsb_['digitalsum_points_rate']) + 2*np.std(df_nsb_['digitalsum_points_rate']), \n",
    "#            color='k', linestyle='dashed', linewidth=2)\n",
    "#plt.axvline(np.mean(df_nsb_['digitalsum_points_rate']) - 2*np.std(df_nsb_['digitalsum_points_rate']), \n",
    "#            color='k', linestyle='dashed', linewidth=2)\n",
    "#plt.text(12.0, 1.2e+4, f'Std: {np.std(df_nsb_['digitalsum_points_rate']):.2f} GHz', color='k')"
   ]
  },
  {
   "cell_type": "code",
   "execution_count": null,
   "id": "e10370b8-7528-4b78-a971-e35d0fc52371",
   "metadata": {},
   "outputs": [],
   "source": [
    "fig, ax01 = plt.subplots(figsize=(7,7))\n",
    "\n",
    "df_nsb_['digitalsum_points_rate'].hist(ax = ax01,bins=np.linspace(0,15,100), alpha=0.7, color='b', edgecolor='black', density=False);\n",
    "ax01.set(xlabel='Digital sum micro-cluster rate, GHz', ylabel='');\n",
    "#\n",
    "ax01.yaxis.grid(True)\n",
    "ax01.xaxis.grid(True)\n",
    "ax01.set_yscale('log')\n",
    "\n",
    "ax01.set_xlim(2,14)\n",
    "#ax01.set_ylim(1,2*1e+5)\n",
    "\n",
    "\n",
    "# Add mean and std annotations\n",
    "plt.axvline(np.mean(df_nsb_['digitalsum_points_rate']), color='r', linestyle='dashed', linewidth=2)\n",
    "plt.text(12.0, 2.2e+4, f'Mean: {np.mean(df_nsb_['digitalsum_points_rate']):.2f} GHz', color='k')\n",
    "\n",
    "# Add mean and std annotations\n",
    "plt.axvline(np.mean(df_nsb_['digitalsum_points_rate']) + 2*np.std(df_nsb_['digitalsum_points_rate']), \n",
    "            color='k', linestyle='dashed', linewidth=2)\n",
    "plt.axvline(np.mean(df_nsb_['digitalsum_points_rate']) - 2*np.std(df_nsb_['digitalsum_points_rate']), \n",
    "            color='k', linestyle='dashed', linewidth=2)\n",
    "plt.text(12.0, 1.2e+4, f'Std: {np.std(df_nsb_['digitalsum_points_rate']):.2f} GHz', color='k')"
   ]
  },
  {
   "cell_type": "code",
   "execution_count": null,
   "id": "55ad8ded-12f3-4c31-b10e-c513c628e5ce",
   "metadata": {},
   "outputs": [],
   "source": [
    "fig, ax02 = plt.subplots(figsize=(7,7))\n",
    "\n",
    "df_nsb_['n_points'].hist(ax = ax02,bins=np.linspace(0,150,150), alpha=0.7, color='b', edgecolor='black', density=False);\n",
    "df_g['n_points'].hist(ax = ax02,bins=np.linspace(0,150,150), alpha=0.3, color='r', edgecolor='black', density=False);\n",
    "df_gd['n_points'].hist(ax = ax02,bins=np.linspace(0,150,150), alpha=0.3, color='g', edgecolor='black', density=False);\n",
    "df_e['n_points'].hist(ax = ax02,bins=np.linspace(0,150,150), alpha=0.3, color='m', edgecolor='black', density=False);\n",
    "df_p['n_points'].hist(ax = ax02,bins=np.linspace(0,150,150), alpha=0.2, color='k', edgecolor='black', density=False);\n",
    "\n",
    "#\n",
    "ax02.yaxis.grid(True)\n",
    "ax02.xaxis.grid(True)\n",
    "ax02.set_yscale('log')"
   ]
  },
  {
   "cell_type": "code",
   "execution_count": null,
   "id": "dba90072-0597-4705-92eb-b64df2f95111",
   "metadata": {},
   "outputs": [],
   "source": [
    "rate_vs_th=[len(df_nsb_[df_nsb_['n_points']>=i])/len(df_nsb_['n_points'])*1.0/(1000.0/1024*75*1.0e-9) for i in np.arange(1,70)]"
   ]
  },
  {
   "cell_type": "code",
   "execution_count": null,
   "id": "401bce6f-3498-41a6-8c6e-e3dfdebaa83d",
   "metadata": {},
   "outputs": [],
   "source": [
    "np.array(rate_vs_th)<30000"
   ]
  },
  {
   "cell_type": "code",
   "execution_count": null,
   "id": "ac8d6f89-85c7-4230-853b-e71d18cd9a84",
   "metadata": {},
   "outputs": [],
   "source": [
    "fig, ax03 = plt.subplots(figsize=(7,7))\n",
    "\n",
    "#plt.plot(rate_vs_th,ax = ax03, alpha=0.7, color='b', density=False)\n",
    "#ax03.scatter(np.arange(len(rate_vs_th)), rate_vs_th, c='r', lw =2, ls=\"-\")\n",
    "#ax03.plot(rate_vs_th, 'o-', c='k', lw =2, ls=\"-\",mfc='red', mec='k')\n",
    "ax03.plot(rate_vs_th, 'o-', c='k', lw =2, mfc='red', mec='k')\n",
    "#\n",
    "ax03.yaxis.grid(True)\n",
    "ax03.xaxis.grid(True)\n",
    "ax03.set_yscale('log')\n",
    "#\n",
    "plt.hlines(30000.0,0,34, color='g', linestyle='-.', linewidth=2, label='30 kHz rate')\n",
    "plt.vlines(34,1,30000.0, color='g', linestyle='--', linewidth=2, label='threshold')\n",
    "#\n",
    "plt.legend()\n",
    "#plt.title(\"sdsdsd: \"r'$\\mu$')\n",
    "plt.title('NSB at 386 MHz')\n",
    "#\n",
    "ax03.set(xlabel='Number of points in the DBSCAN cluster', ylabel='Rete, Hz')"
   ]
  },
  {
   "cell_type": "code",
   "execution_count": null,
   "id": "6a5bbea9-f281-4428-817f-898fbda19040",
   "metadata": {},
   "outputs": [],
   "source": [
    "1.0/(1000.0/1024*75*1.0e-9)"
   ]
  },
  {
   "cell_type": "code",
   "execution_count": null,
   "id": "f9806c69-e136-4165-b579-18a8648ec571",
   "metadata": {},
   "outputs": [],
   "source": [
    "df_nsb_[df_nsb_['t_mean']>0]['t_mean'].hist(bins=30)"
   ]
  },
  {
   "cell_type": "code",
   "execution_count": null,
   "id": "72bbb503-2ecc-401e-821c-8d4ba151aec9",
   "metadata": {},
   "outputs": [],
   "source": [
    "df_nsb_['n_points'].hist(bins=100)"
   ]
  },
  {
   "cell_type": "code",
   "execution_count": null,
   "id": "61a0cd31-922c-46d8-8e9d-8ba00fd2eb75",
   "metadata": {},
   "outputs": [],
   "source": [
    "fig, ax04 = plt.subplots(figsize=(12,5))\n",
    "\n",
    "df_nsb_['n_points'].hist(ax = ax04,bins=100);\n",
    "ax04.set(xlabel='',ylabel='Occupancy');\n",
    "#\n",
    "ax04.yaxis.grid(True)\n",
    "ax04.xaxis.grid(True)\n",
    "ax04.set_yscale('log')"
   ]
  },
  {
   "cell_type": "code",
   "execution_count": null,
   "id": "7fc1f629-0c6f-4911-b061-6bf385cca431",
   "metadata": {},
   "outputs": [],
   "source": [
    "len(df_p[df_p['n_pe']>30])/71.0/1000000.0*get_proton_flux_pers( E_proton_min, E_proton_max, theta_proton_min_deg, theta_proton_max_deg, R_proton)"
   ]
  },
  {
   "cell_type": "code",
   "execution_count": null,
   "id": "b72afed9-fc09-4859-9ba3-e420f744c9af",
   "metadata": {},
   "outputs": [],
   "source": [
    "fig, ax05 = plt.subplots(figsize=(7,7))\n",
    "\n",
    "#plt.plot(rate_vs_th,ax = ax03, alpha=0.7, color='b', density=False)\n",
    "#ax03.scatter(np.arange(len(rate_vs_th)), rate_vs_th, c='r', lw =2, ls=\"-\")\n",
    "#ax03.plot(rate_vs_th, 'o-', c='k', lw =2, ls=\"-\",mfc='red', mec='k')\n",
    "#ax05.hist(df_nsb['energy']*1000,bins=np.logspace(1, 5, num=21))\n",
    "ax05.hist(df_nsb['energy']*1000,bins=np.logspace(1, 5, num=50),color='r', alpha=0.3)\n",
    "ax05.hist(generate_random_1_over_x_squared(len(df_nsb), 10, 100000),bins=np.logspace(1, 5, num=50),color='b', alpha=0.3)\n",
    "#\n",
    "ax05.yaxis.grid(True)\n",
    "ax05.xaxis.grid(True)\n",
    "ax05.set_yscale('log')\n",
    "ax05.set_xscale('log')\n",
    "ax05.set_xlim(9,110000)\n",
    "ax05.set_ylim(1,2*1e+5)\n",
    "#\n",
    "#plt.hlines(30000.0,0,34, color='g', linestyle='-.', linewidth=2, label='30 kHz rate')\n",
    "#plt.vlines(34,1,30000.0, color='g', linestyle='--', linewidth=2, label='threshold')\n",
    "#\n",
    "#plt.legend()\n",
    "#plt.title(\"sdsdsd: \"r'$\\mu$')\n",
    "#plt.title('NSB at 386 MHz')\n",
    "#\n",
    "ax05.set(xlabel='E, GeV', ylabel='')"
   ]
  },
  {
   "cell_type": "code",
   "execution_count": null,
   "id": "3bbdd149-e566-49dd-b86e-c9bb1f8e3e3e",
   "metadata": {},
   "outputs": [],
   "source": [
    "fig, ax06 = plt.subplots(figsize=(7,7))\n",
    "#\n",
    "ax06.hist(generate_random_1_over_x_squared(len(df_nsb)*100, 10, 100000),bins=np.logspace(1, 5, num=50),color='r', alpha=0.3)\n",
    "#\n",
    "ax06.yaxis.grid(True)\n",
    "ax06.xaxis.grid(True)\n",
    "ax06.set_yscale('log')\n",
    "ax06.set_xscale('log')\n",
    "ax06.set_xlim(9,110000)\n",
    "ax06.set_ylim(1,2*1e+7)\n",
    "#\n",
    "ax06.set(xlabel='E, GeV', ylabel='')"
   ]
  },
  {
   "cell_type": "code",
   "execution_count": null,
   "id": "072a2e1f-1d2f-4cdd-8a54-6f99d8e195c7",
   "metadata": {},
   "outputs": [],
   "source": [
    "np.logspace(1, 5, num=21)[:-1].reshape(4,5)"
   ]
  },
  {
   "cell_type": "code",
   "execution_count": null,
   "id": "144efdab-ddbf-4ac7-b76c-125135a1a724",
   "metadata": {},
   "outputs": [],
   "source": [
    "len(df_nsb)"
   ]
  },
  {
   "cell_type": "code",
   "execution_count": null,
   "id": "a60ad0e0-629f-411f-8031-3e74be88c400",
   "metadata": {},
   "outputs": [],
   "source": [
    "np.sqrt(1.0/(np.random.uniform(1/10, 1/100000, len(df_nsb))))"
   ]
  },
  {
   "cell_type": "code",
   "execution_count": null,
   "id": "e002ff21-1d37-4349-9332-434753f69c5a",
   "metadata": {},
   "outputs": [],
   "source": [
    "1/10"
   ]
  },
  {
   "cell_type": "code",
   "execution_count": null,
   "id": "ffe7d2df-4f74-4856-89e5-667e950e76de",
   "metadata": {},
   "outputs": [],
   "source": [
    "print(range(5))"
   ]
  },
  {
   "cell_type": "code",
   "execution_count": null,
   "id": "bed02599-cb38-4799-8da1-55997881057d",
   "metadata": {},
   "outputs": [],
   "source": [
    "plt.hist(np.random.normal( 10, 1, 100),bins=np.linspace(0,20,30))"
   ]
  },
  {
   "cell_type": "code",
   "execution_count": null,
   "id": "686c8c38-6295-4aad-a675-b95dbc86c27b",
   "metadata": {},
   "outputs": [],
   "source": []
  },
  {
   "cell_type": "code",
   "execution_count": null,
   "id": "58d0b9c1-3a09-4352-ab91-8fe92a95ff02",
   "metadata": {},
   "outputs": [],
   "source": [
    "data_raw=np.random.normal( 10, 1, 100)"
   ]
  },
  {
   "cell_type": "code",
   "execution_count": null,
   "id": "89c5e65e-29d1-4d6f-afa3-963345234591",
   "metadata": {},
   "outputs": [],
   "source": [
    "data=plt.hist(data_raw,bins=np.linspace(7,13,30))"
   ]
  },
  {
   "cell_type": "code",
   "execution_count": null,
   "id": "1b47bf45-2b60-40f6-9c66-67c356e06e10",
   "metadata": {},
   "outputs": [],
   "source": []
  },
  {
   "cell_type": "code",
   "execution_count": null,
   "id": "778fa91c-95aa-415d-966d-0b5c79c9aba6",
   "metadata": {},
   "outputs": [],
   "source": [
    "len(data[0])"
   ]
  },
  {
   "cell_type": "code",
   "execution_count": null,
   "id": "f01a123b-0c31-47d2-9bbd-7e6618873c42",
   "metadata": {},
   "outputs": [],
   "source": [
    "def gauss(x, ampl, mean, sigma):\n",
    "    p = [ampl, mean, sigma]\n",
    "    return p[0]* np.exp(-((x-p[1])**2/(2*p[2]**2)))"
   ]
  },
  {
   "cell_type": "code",
   "execution_count": null,
   "id": "99628b2d-ed83-449d-93e6-f8db46b5f552",
   "metadata": {},
   "outputs": [],
   "source": [
    "p0 = [20., 10., 1.0]"
   ]
  },
  {
   "cell_type": "code",
   "execution_count": null,
   "id": "63bf9843-778b-4a04-bdda-de9e38a8acb5",
   "metadata": {},
   "outputs": [],
   "source": [
    "fit1, tmp1 = curve_fit(gauss, xdata=data[1][:-1], ydata=data[0], p0=p0)"
   ]
  },
  {
   "cell_type": "code",
   "execution_count": null,
   "id": "cc7c59a3-177f-4f55-b414-897820c072d6",
   "metadata": {},
   "outputs": [],
   "source": [
    "plt.plot(data[1][:-1], data[0], label='data')\n",
    "plt.plot(data[1][:-1], gauss(data[1][:-1], *fit1), 'r--', label='fit')\n",
    "\n",
    "plt.legend()"
   ]
  },
  {
   "cell_type": "code",
   "execution_count": null,
   "id": "0b424a6d-0213-459b-a45b-dea62b6e666f",
   "metadata": {},
   "outputs": [],
   "source": [
    "tmp1"
   ]
  },
  {
   "cell_type": "code",
   "execution_count": null,
   "id": "cd3105c9-06ea-4861-b2b6-52e33ea45a8b",
   "metadata": {},
   "outputs": [],
   "source": [
    "(np.sqrt(1.00190752)/np.sqrt(1000))/np.sqrt(1.72175963e-03)"
   ]
  },
  {
   "cell_type": "code",
   "execution_count": null,
   "id": "2eac5c41-48ef-45e9-b254-5dcfc3d082af",
   "metadata": {},
   "outputs": [],
   "source": [
    "fit1"
   ]
  },
  {
   "cell_type": "code",
   "execution_count": null,
   "id": "462401e4-7aa0-4aba-aae5-176002a35643",
   "metadata": {},
   "outputs": [],
   "source": [
    "np.sqrt(1.05098153e-03)"
   ]
  },
  {
   "cell_type": "code",
   "execution_count": null,
   "id": "ed3c93ad-4199-454d-9f7e-d59eb615243e",
   "metadata": {},
   "outputs": [],
   "source": [
    "np.std(data_raw)/np.sqrt(1000)"
   ]
  },
  {
   "cell_type": "code",
   "execution_count": null,
   "id": "28e211b4-7a1c-4ed5-93cc-1125a51df744",
   "metadata": {},
   "outputs": [],
   "source": [
    "np.sqrt(tmp1[1,1])/(np.std(data_raw)/np.sqrt(100))"
   ]
  },
  {
   "cell_type": "code",
   "execution_count": null,
   "id": "ad71b0bc-6791-4c04-88b9-d77898343bdb",
   "metadata": {},
   "outputs": [],
   "source": [
    "fig, ax07 = plt.subplots(figsize=(7,7))\n",
    "\n",
    "ax07.hist(df_p['energy']*1000,bins=np.logspace(1, 5, num=50),color='r', alpha=0.3)\n",
    "#\n",
    "ax07.yaxis.grid(True)\n",
    "ax07.xaxis.grid(True)\n",
    "ax07.set_yscale('log')\n",
    "ax07.set_xscale('log')\n",
    "ax07.set_xlim(9,110000)\n",
    "ax07.set_ylim(1,2*1e+5)\n",
    "#\n",
    "ax07.set(xlabel='E, GeV', ylabel='')"
   ]
  },
  {
   "cell_type": "code",
   "execution_count": null,
   "id": "813e3d81-2a8f-4314-9f9b-afb52c456281",
   "metadata": {},
   "outputs": [],
   "source": [
    "fig, ax08 = plt.subplots(figsize=(7,7))\n",
    "\n",
    "#ax08.hist(df_g['energy']*1000,bins=np.logspace(0, 5, num=50),color='r', alpha=0.3)\n",
    "ax08.hist(df_g[df_g['n_points']>36]['energy']*1000,bins=np.logspace(0, 5, num=100),color='b', alpha=0.3)\n",
    "#\n",
    "ax08.yaxis.grid(True)\n",
    "ax08.xaxis.grid(True)\n",
    "#ax08.set_yscale('log')\n",
    "#ax08.set_xscale('log')\n",
    "#ax08.set_xlim(9,110000)\n",
    "ax08.set_xlim(9,40)\n",
    "#ax08.set_ylim(1,2*1e+5)\n",
    "#\n",
    "ax08.set(xlabel='E, GeV', ylabel='')"
   ]
  },
  {
   "cell_type": "code",
   "execution_count": null,
   "id": "283b31e0-53e3-49fc-accc-c3135694c732",
   "metadata": {},
   "outputs": [],
   "source": [
    "len(df_p)/71/1e+6"
   ]
  },
  {
   "cell_type": "code",
   "execution_count": null,
   "id": "6e726cf2-2c8e-437e-8428-ffed643f12fd",
   "metadata": {},
   "outputs": [],
   "source": [
    "fig, ax09 = plt.subplots(figsize=(7,7))\n",
    "#\n",
    "hist_p_info=ax09.hist(df_p[df_p['n_pe']>=30]['energy']*1000,bins=np.logspace(1, 5, num=50),color='r', alpha=0.5)\n",
    "hist_p_all_info=ax09.hist(generate_random_1_over_x_squared(int(71*1e+6), 10, 100000),bins=np.logspace(1, 5, num=50),color='b', alpha=0.3)\n",
    "#\n",
    "ax09.yaxis.grid(True)\n",
    "ax09.xaxis.grid(True)\n",
    "ax09.set_yscale('log')\n",
    "ax09.set_xscale('log')\n",
    "#ax08.set_xlim(9,110000)\n",
    "#ax08.set_xlim(9,100)\n",
    "#ax08.set_ylim(1,2*1e+5)\n",
    "#\n",
    "ax09.set(xlabel='E, GeV', ylabel='')"
   ]
  },
  {
   "cell_type": "code",
   "execution_count": null,
   "id": "64e5fcdd-d61e-440c-8cb6-f62ac4c3308d",
   "metadata": {},
   "outputs": [],
   "source": []
  },
  {
   "cell_type": "code",
   "execution_count": null,
   "id": "af5bf9b5-4b4c-4c91-8608-ca8f772ba082",
   "metadata": {},
   "outputs": [],
   "source": [
    "get_bin_centers(hist_p_info)"
   ]
  },
  {
   "cell_type": "code",
   "execution_count": null,
   "id": "c0d8884f-861c-472f-b118-773da4a5db72",
   "metadata": {},
   "outputs": [],
   "source": [
    "#fig, ax10 = plt.subplots(figsize=(7,7))\n",
    "#\n",
    "#hist_p_info=ax10.hist(df_p['energy']*1000,bins=np.logspace(1, 5, num=50),color='r', alpha=0.5)\n",
    "#hist_p_all_info=ax10.hist(generate_random_1_over_x_squared(int(71*1e+6), 10, 100000),bins=np.logspace(1, 5, num=50),color='b', alpha=0.3)\n",
    "#\n",
    "#ax10.yaxis.grid(True)\n",
    "#ax10.xaxis.grid(True)\n",
    "#ax10.set_yscale('log')\n",
    "#ax10.set_xscale('log')\n",
    "#ax08.set_xlim(9,110000)\n",
    "#ax10.set_xlim(9,100)\n",
    "#ax08.set_ylim(1,2*1e+5)\n",
    "#\n",
    "#ax10.set(xlabel='E, GeV', ylabel='')\n",
    "#for c in get_bin_centers(hist_p_info):\n",
    "#    plt.vlines(c,1,30000.0, color='g', linestyle='--', linewidth=2, label='threshold')"
   ]
  },
  {
   "cell_type": "code",
   "execution_count": null,
   "id": "ff6bdf54-1bcf-40d6-9c87-66da2b1f796d",
   "metadata": {},
   "outputs": [],
   "source": [
    "fig, ax11 = plt.subplots(figsize=(7,7))\n",
    "\n",
    "#ax11.plot(get_bin_centers(hist_p_info),hist_p_info[0]/hist_p_all_info[0], c='r', lw = 2, ls=\"-\")\n",
    "ax11.plot(get_bin_centers(hist_p_info),hist_p_info[0]/hist_p_all_info[0], 'o-', c='k', lw =2, mfc='red', mec='k')\n",
    "#\n",
    "ax11.yaxis.grid(True)\n",
    "ax11.xaxis.grid(True)\n",
    "ax11.set_yscale('log')\n",
    "ax11.set_xscale('log')\n",
    "#\n",
    "#plt.hlines(30000.0,0,34, color='g', linestyle='-.', linewidth=2, label='30 kHz rate')\n",
    "#plt.vlines(34,1,30000.0, color='g', linestyle='--', linewidth=2, label='threshold')\n",
    "#\n",
    "#plt.legend()\n",
    "#plt.title(\"sdsdsd: \"r'$\\mu$')\n",
    "#plt.title('NSB at 386 MHz')\n",
    "#\n",
    "#ax03.set(xlabel='Number of points in the DBSCAN cluster', ylabel='Rete, Hz')"
   ]
  },
  {
   "cell_type": "code",
   "execution_count": null,
   "id": "3097af54-cf34-484e-a953-ba682d873a91",
   "metadata": {},
   "outputs": [],
   "source": [
    "np.sum(hist_p_info[0]/hist_p_all_info[0])"
   ]
  },
  {
   "cell_type": "code",
   "execution_count": null,
   "id": "038e337d-515d-47e6-8b78-f419a821a377",
   "metadata": {},
   "outputs": [],
   "source": [
    "print(get_bin_min_max(hist_p_info)[:,1])"
   ]
  },
  {
   "cell_type": "code",
   "execution_count": null,
   "id": "df709aa1-d878-44f2-a1a8-ba98d93914ea",
   "metadata": {},
   "outputs": [],
   "source": [
    "print(len(hist_p_info[1][:-1]))\n",
    "print(len(hist_p_info[1][1:]))"
   ]
  },
  {
   "cell_type": "code",
   "execution_count": null,
   "id": "5b79e846-77fe-4d26-8686-fdf53b94925a",
   "metadata": {},
   "outputs": [],
   "source": [
    "np.roll(np.pad(hist_p_info[1],1),1)"
   ]
  },
  {
   "cell_type": "code",
   "execution_count": null,
   "id": "949c5d08-a000-4b8f-b4f9-79da5fea8fd8",
   "metadata": {},
   "outputs": [],
   "source": [
    "np.sum(get_proton_flux_pers(get_bin_min_max(hist_p_info)[:,0], get_bin_min_max(hist_p_info)[:,1], \n",
    "                            np.zeros(len(get_bin_min_max(hist_p_info)[:,1])), np.ones(len(get_bin_min_max(hist_p_info)[:,1]))*10, \n",
    "                            np.ones(len(get_bin_min_max(hist_p_info)[:,1]))*1500)*hist_p_info[0]/hist_p_all_info[0])"
   ]
  },
  {
   "cell_type": "code",
   "execution_count": null,
   "id": "5e83ae7a-222a-4f58-a118-317504506a72",
   "metadata": {},
   "outputs": [],
   "source": [
    "get_proton_flux_pers( 10, 100000, 0, 10, 1500)"
   ]
  },
  {
   "cell_type": "code",
   "execution_count": null,
   "id": "f9ba7d54-b7fd-4bbc-bcaf-be9a39a37d0e",
   "metadata": {},
   "outputs": [],
   "source": [
    "e_min_max=get_bin_min_max(hist_p_info)\n",
    "for i in np.arange(len(e_min_max)):\n",
    "    emin=e_min_max[i,0]\n",
    "    emax=e_min_max[i,1]\n",
    "    print(emin)"
   ]
  },
  {
   "cell_type": "code",
   "execution_count": null,
   "id": "cb5ee6b9-3cf8-406c-ae48-078eae0c7110",
   "metadata": {},
   "outputs": [],
   "source": [
    "len(get_bin_min_max(hist_p_info)[:,1])"
   ]
  },
  {
   "cell_type": "code",
   "execution_count": null,
   "id": "4cbf25ed-503f-49c8-821f-82c08ba557bb",
   "metadata": {},
   "outputs": [],
   "source": [
    "np.zeros(len(get_bin_min_max(hist_p_info)[:,1]))"
   ]
  },
  {
   "cell_type": "code",
   "execution_count": null,
   "id": "a6cccccd-5dc7-4812-9b6e-e906af372709",
   "metadata": {},
   "outputs": [],
   "source": [
    "np.ones(len(get_bin_min_max(hist_p_info)[:,1]))*10"
   ]
  },
  {
   "cell_type": "code",
   "execution_count": null,
   "id": "2268266f-4fd3-4298-9f8c-44e8301adfcf",
   "metadata": {},
   "outputs": [],
   "source": [
    "n_points_cut = np.arange(15,200,1)"
   ]
  },
  {
   "cell_type": "code",
   "execution_count": null,
   "id": "735def90-4288-4aec-a7f7-66cb4b6b3ab4",
   "metadata": {},
   "outputs": [],
   "source": [
    "hist_data_proton=[ax09.hist(df_p[df_p['n_points']>=i]['energy']*1000,bins=np.logspace(1, 5, num=50),color='r', alpha=0.5) for i in n_points_cut]"
   ]
  },
  {
   "cell_type": "code",
   "execution_count": null,
   "id": "08c8a407-67ca-4314-8e1a-3571acaaa993",
   "metadata": {},
   "outputs": [],
   "source": [
    "hist_data_proton[0][0]"
   ]
  },
  {
   "cell_type": "code",
   "execution_count": null,
   "id": "145b3a3c-dd27-466c-aa2d-3a98ee1ecf11",
   "metadata": {},
   "outputs": [],
   "source": [
    "np.arange(15,200,1)"
   ]
  },
  {
   "cell_type": "code",
   "execution_count": null,
   "id": "55e7510d-c7b9-4ab7-b4d9-8036afdccef0",
   "metadata": {},
   "outputs": [],
   "source": [
    "hist_data_proton[150][0]"
   ]
  },
  {
   "cell_type": "code",
   "execution_count": null,
   "id": "a42f6f1b-79d7-43fc-8acc-c9883a1439b0",
   "metadata": {},
   "outputs": [],
   "source": [
    "np.sum(get_proton_flux_pers(get_bin_min_max(hist_p_info)[:,0], get_bin_min_max(hist_p_info)[:,1], \n",
    "                            np.zeros(len(get_bin_min_max(hist_p_info)[:,1])), np.ones(len(get_bin_min_max(hist_p_info)[:,1]))*10, \n",
    "                            np.ones(len(get_bin_min_max(hist_p_info)[:,1]))*1500)*hist_data_proton[150][0]/hist_p_all_info[0])"
   ]
  },
  {
   "cell_type": "code",
   "execution_count": null,
   "id": "c12fe455-6396-4926-b927-b774d7a99c76",
   "metadata": {},
   "outputs": [],
   "source": [
    "datay=[np.sum(get_proton_flux_pers(get_bin_min_max(hist_p_info)[:,0], get_bin_min_max(hist_p_info)[:,1], \n",
    "                            np.zeros(len(get_bin_min_max(hist_p_info)[:,1])), np.ones(len(get_bin_min_max(hist_p_info)[:,1]))*10, \n",
    "                            np.ones(len(get_bin_min_max(hist_p_info)[:,1]))*1500)*hist_data_proton[i][0]/hist_p_all_info[0]) for i in np.arange(len(n_points_cut))]"
   ]
  },
  {
   "cell_type": "code",
   "execution_count": null,
   "id": "a50b69ff-2509-4708-97fa-363ecd88a365",
   "metadata": {},
   "outputs": [],
   "source": [
    "fig, ax12 = plt.subplots(figsize=(7,7))\n",
    "\n",
    "ax12.plot(n_points_cut,datay, 'o-', c='k', lw =2, mfc='red', mec='k')\n",
    "ax12.plot(rate_vs_th, 'o-', c='k', lw =2, mfc='blue', mec='k')\n",
    "\n",
    "#\n",
    "ax12.yaxis.grid(True)\n",
    "ax12.xaxis.grid(True)\n",
    "ax12.set_yscale('log')\n",
    "ax12.set_xlim(10,70)\n",
    "\n",
    "#ax12.set_xscale('log')\n",
    "#\n",
    "#plt.hlines(30000.0,0,34, color='g', linestyle='-.', linewidth=2, label='30 kHz rate')\n",
    "#plt.vlines(34,1,30000.0, color='g', linestyle='--', linewidth=2, label='threshold')\n",
    "plt.vlines(38,1,30000.0, color='g', linestyle='--', linewidth=2, label='threshold')\n",
    "#\n",
    "#plt.legend()\n",
    "#plt.title(\"sdsdsd: \"r'$\\mu$')\n",
    "#plt.title('NSB at 386 MHz')\n",
    "#\n",
    "#ax03.set(xlabel='Number of points in the DBSCAN cluster', ylabel='Rete, Hz')"
   ]
  },
  {
   "cell_type": "code",
   "execution_count": null,
   "id": "a0adfbfe-e92c-458f-9e96-a2ece0df52fa",
   "metadata": {},
   "outputs": [],
   "source": [
    "#hist_g_all_info=ax09.hist(generate_random_1_over_x_squared(int(71*1e+5), 5, 50000),bins=np.logspace(0, 5, num=50),color='b', alpha=0.3)"
   ]
  },
  {
   "cell_type": "code",
   "execution_count": null,
   "id": "5a126737-28bb-4fb1-b823-531ecf3e8606",
   "metadata": {},
   "outputs": [],
   "source": [
    "fig, ax13 = plt.subplots(figsize=(7,7))\n",
    "#\n",
    "hist_g_info=ax13.hist(df_g[df_g['n_points']>30]['energy']*1000,bins=np.logspace(0, 5, num=50),color='r', alpha=0.3)\n",
    "hist_g_all_info=ax13.hist(generate_random_1_over_x_squared(int(71*1e+5), 5, 50000),bins=np.logspace(0, 5, num=50),color='b', alpha=0.3)\n",
    "#\n",
    "ax13.yaxis.grid(True)\n",
    "ax13.xaxis.grid(True)\n",
    "ax13.set_yscale('log')\n",
    "ax13.set_xscale('log')\n",
    "#\n",
    "ax13.set(xlabel='E, GeV', ylabel='')"
   ]
  },
  {
   "cell_type": "code",
   "execution_count": null,
   "id": "a85abdb1-e819-44f8-917c-680cf1cd91f1",
   "metadata": {},
   "outputs": [],
   "source": [
    "fig, ax14 = plt.subplots(figsize=(7,7))\n",
    "\n",
    "ax14.plot(get_bin_centers(hist_p_info),hist_g_info[0]/hist_g_all_info[0], 'o-', c='k', lw =2, mfc='red', mec='k')\n",
    "#ax14.plot(get_bin_centers(hist_p_info),hist_g_info[0]/hist_g_all_info[0])\n",
    "#\n",
    "ax14.yaxis.grid(True)\n",
    "ax14.xaxis.grid(True)\n",
    "ax14.set_yscale('log')\n",
    "ax14.set_xscale('log')\n",
    "#\n",
    "#plt.hlines(30000.0,0,34, color='g', linestyle='-.', linewidth=2, label='30 kHz rate')\n",
    "#plt.vlines(34,1,30000.0, color='g', linestyle='--', linewidth=2, label='threshold')\n",
    "#\n",
    "#plt.legend()\n",
    "#plt.title(\"sdsdsd: \"r'$\\mu$')\n",
    "#plt.title('NSB at 386 MHz')\n",
    "#\n",
    "#ax03.set(xlabel='Number of points in the DBSCAN cluster', ylabel='Rete, Hz')"
   ]
  },
  {
   "cell_type": "code",
   "execution_count": null,
   "id": "62444880-bd49-49f9-b024-fcf1e3e796a4",
   "metadata": {},
   "outputs": [],
   "source": [
    "hist_g_all_info[0]"
   ]
  },
  {
   "cell_type": "code",
   "execution_count": null,
   "id": "f941c34f-7109-4fd7-b114-ccbbe63d7066",
   "metadata": {},
   "outputs": [],
   "source": []
  }
 ],
 "metadata": {
  "kernelspec": {
   "display_name": "Python 3 (ipykernel)",
   "language": "python",
   "name": "python3"
  },
  "language_info": {
   "codemirror_mode": {
    "name": "ipython",
    "version": 3
   },
   "file_extension": ".py",
   "mimetype": "text/x-python",
   "name": "python",
   "nbconvert_exporter": "python",
   "pygments_lexer": "ipython3",
   "version": "3.12.3"
  }
 },
 "nbformat": 4,
 "nbformat_minor": 5
}
