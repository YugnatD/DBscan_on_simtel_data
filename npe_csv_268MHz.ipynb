{
 "cells": [
  {
   "cell_type": "code",
   "execution_count": 1,
   "id": "933522e5-c203-4cf0-b5ef-458ddb27cdf8",
   "metadata": {},
   "outputs": [],
   "source": [
    "import numpy as np\n",
    "import pandas as pd\n",
    "import datetime\n",
    "from datetime import timedelta\n",
    "from matplotlib import dates\n",
    "import matplotlib.pyplot as plt\n",
    "import time\n",
    "from pathlib import Path\n",
    "from scipy.optimize import curve_fit"
   ]
  },
  {
   "cell_type": "code",
   "execution_count": 2,
   "id": "70f5237b-6695-463c-915e-1163d9128cf6",
   "metadata": {},
   "outputs": [],
   "source": [
    "fadc_MHz = 1024\n",
    "fadc_sum_bins = 75\n",
    "E_proton_min = 10           # GeV\n",
    "E_proton_max = 100000       # GeV\n",
    "theta_proton_min_deg =  0.0 # deg\n",
    "theta_proton_max_deg = 10.0 # deg\n",
    "R_proton = 1500             # m"
   ]
  },
  {
   "cell_type": "code",
   "execution_count": 3,
   "id": "ee23b532-ecec-4d5b-9bc9-40bf3caba1a6",
   "metadata": {},
   "outputs": [],
   "source": [
    "def get_bin_centers(hist_data):\n",
    "    bins=np.copy(hist_data[1])\n",
    "    bins_roll=np.copy(hist_data[1])\n",
    "    bins=np.pad(bins,1)\n",
    "    bins_roll=np.roll(np.pad(bins_roll,1),1)\n",
    "    centers=(bins - bins_roll)[2:-1]/2.0 + hist_data[1][:-1]\n",
    "    #print(bins_roll)\n",
    "    #print()\n",
    "    #print(len(hist_data[0]))\n",
    "    #print(len(hist_data[1]))\n",
    "    #print(len(centers))\n",
    "    #print(centers)\n",
    "    return centers"
   ]
  },
  {
   "cell_type": "code",
   "execution_count": 4,
   "id": "0a6c0b68-88d6-4915-8665-f42925edf2e7",
   "metadata": {},
   "outputs": [],
   "source": [
    "def get_bin_min_max(hist_data):\n",
    "    #\n",
    "    bins_min=np.copy(hist_data[1])\n",
    "    bins_max=np.copy(hist_data[1])\n",
    "    #\n",
    "    return np.column_stack((bins_min[:-1],bins_max[1:]))"
   ]
  },
  {
   "cell_type": "code",
   "execution_count": 5,
   "id": "68e43098-90cb-49f6-b8b5-b72df3112c34",
   "metadata": {},
   "outputs": [],
   "source": [
    "def generate_random_1_over_x_squared(size, x_min, x_max):\n",
    "    u = np.random.uniform(0, 1, size)\n",
    "    x = 1 / ((1 / x_min) - u * ((1 / x_min) - (1 / x_max)))\n",
    "    return x"
   ]
  },
  {
   "cell_type": "code",
   "execution_count": 6,
   "id": "de7b5909-06dc-4493-8d56-2f50389c824f",
   "metadata": {},
   "outputs": [],
   "source": [
    "def get_proton_flux_perm2_pers_persr(e_min, e_max):\n",
    "  return 5781.68*(1.0/np.power(e_min,1.674)-1.0/np.power(e_max,1.674))"
   ]
  },
  {
   "cell_type": "code",
   "execution_count": 7,
   "id": "a1b223c6-02db-43ba-8733-a84fde47f98b",
   "metadata": {},
   "outputs": [],
   "source": [
    "def solid_angle_integral(theta_min_deg,theta_max_deg):\n",
    "    return  2*np.pi*(np.cos(theta_min_deg/180.0*np.pi) - np.cos(theta_max_deg/180.0*np.pi));"
   ]
  },
  {
   "cell_type": "code",
   "execution_count": 8,
   "id": "03674af3-7eb9-41f5-8ba0-3cc57c0fc40d",
   "metadata": {},
   "outputs": [],
   "source": [
    "def get_proton_flux_pers( e_min, e_max, theta_min_deg, theta_max_deg, R):\n",
    "    return get_proton_flux_perm2_pers_persr(e_min, e_max)*solid_angle_integral(theta_min_deg, theta_max_deg)*np.pi*R*R"
   ]
  },
  {
   "cell_type": "code",
   "execution_count": 9,
   "id": "57ebe34c-31f9-4ceb-abac-105e2008ae53",
   "metadata": {},
   "outputs": [
    {
     "data": {
      "text/plain": [
       "82639605.44796683"
      ]
     },
     "execution_count": 9,
     "metadata": {},
     "output_type": "execute_result"
    }
   ],
   "source": [
    "get_proton_flux_pers( E_proton_min, E_proton_max, theta_proton_min_deg, theta_proton_max_deg, R_proton)"
   ]
  },
  {
   "cell_type": "code",
   "execution_count": 10,
   "id": "ffd3d265-ea2d-477c-9eab-7dc35ec9b9ec",
   "metadata": {},
   "outputs": [],
   "source": [
    "def get_data( dirin = '../scratch/simtel_data/NSB386MHz/npe/', file_prefix = 'corsika_run', file_suffix = '.npe.csv'):\n",
    "    file_list=get_data_file_list( dirin = dirin, file_prefix = file_prefix, file_suffix = file_suffix)\n",
    "    if (len(file_list) > 0):\n",
    "        df = pd.read_csv(file_list[0])\n",
    "        for i in range(1,len(file_list)):\n",
    "            dftmp = pd.read_csv(file_list[i])\n",
    "            df = pd.concat([df,dftmp], ignore_index=True)\n",
    "    \n",
    "    return df"
   ]
  },
  {
   "cell_type": "code",
   "execution_count": 11,
   "id": "c25f3827-5a50-440e-85df-9134ec867927",
   "metadata": {},
   "outputs": [],
   "source": [
    "#corsika_run1.npe.csv\n",
    "def get_data_file_list( dirin = '../scratch/simtel_data/NSB386MHz/npe/', file_prefix = 'corsika_run', file_suffix = '.npe.csv'):\n",
    "    nfiles=get_n_files(dirin)\n",
    "    print(dirin)\n",
    "    print(nfiles)\n",
    "    file_list=[]\n",
    "    for i in range(1,nfiles+1):\n",
    "        filename = str(dirin + file_prefix + str(i) + file_suffix)\n",
    "        if Path(filename).exists():\n",
    "            file_list.append(str(dirin + file_prefix + str(i) + file_suffix))\n",
    "        else:\n",
    "            print(f\"File : {filename} does not exist.\")\n",
    "    return file_list"
   ]
  },
  {
   "cell_type": "code",
   "execution_count": 12,
   "id": "03e92680-2bce-4b01-bf91-203f5a86e4fb",
   "metadata": {},
   "outputs": [],
   "source": [
    "def get_n_files( dirin='../scratch/simtel_data/NSB386MHz/npe/'):\n",
    "    nfiles=!ls -l $dirin/*.csv | wc -l\n",
    "    return int(nfiles[0])"
   ]
  },
  {
   "cell_type": "code",
   "execution_count": 13,
   "id": "70070c34-09c0-4377-b1ae-82d81f7643d5",
   "metadata": {},
   "outputs": [],
   "source": [
    "#nfiles=!ls -l ../scratch/simtel_data/NSB386MHz/npe/*.csv | wc -l"
   ]
  },
  {
   "cell_type": "code",
   "execution_count": 14,
   "id": "33702459-bb66-48fd-9502-8ce1185de152",
   "metadata": {},
   "outputs": [
    {
     "name": "stdout",
     "output_type": "stream",
     "text": [
      "../scratch/simtel_data/NSB268MHz/npe/\n",
      "71\n",
      "../scratch/simtel_data/gamma_diffuse/npe/\n",
      "71\n",
      "../scratch/simtel_data/gamma/npe/\n",
      "71\n",
      "../scratch/simtel_data/electron/npe/\n",
      "71\n",
      "../scratch/simtel_data/proton/npe/\n",
      "71\n"
     ]
    }
   ],
   "source": [
    "df_nsb=get_data(dirin = '../scratch/simtel_data/NSB268MHz/npe/', file_prefix = 'corsika_run', file_suffix = '.npe.csv')\n",
    "df_gd=get_data(dirin = '../scratch/simtel_data/gamma_diffuse/npe/', file_prefix = 'corsika_run', file_suffix = '.npe.csv')\n",
    "df_g=get_data(dirin = '../scratch/simtel_data/gamma/npe/', file_prefix = 'corsika_run', file_suffix = '.npe.csv')\n",
    "df_e=get_data(dirin = '../scratch/simtel_data/electron/npe/', file_prefix = 'corsika_run', file_suffix = '.npe.csv')\n",
    "df_p=get_data(dirin = '../scratch/simtel_data/proton/npe/', file_prefix = 'corsika_run', file_suffix = '.npe.csv')"
   ]
  },
  {
   "cell_type": "code",
   "execution_count": 15,
   "id": "6662781f-f222-4330-b7fb-fe052f96c05b",
   "metadata": {},
   "outputs": [
    {
     "data": {
      "image/png": "[encoded data removed]",
      "text/plain": [
       "<Figure size 640x480 with 1 Axes>"
      ]
     },
     "metadata": {},
     "output_type": "display_data"
    }
   ],
   "source": [
    "plt.hist(df_nsb['n_pe'].values, bins=np.linspace(0, 100, num=100), edgecolor='black')\n",
    "plt.hist(df_gd['n_pe'].values, bins=np.linspace(0, 100, num=100), edgecolor='black')\n",
    "plt.hist(df_g['n_pe'].values, bins=np.linspace(0, 100, num=100), edgecolor='black')\n",
    "plt.hist(df_e['n_pe'].values, bins=np.linspace(0, 100, num=100), edgecolor='black')\n",
    "plt.hist(df_p['n_pe'].values, bins=np.linspace(0, 100, num=100), edgecolor='black')\n",
    "\n",
    "# Add labels and title\n",
    "plt.xlabel('npe')\n",
    "plt.ylabel('')\n",
    "plt.title('npe')\n",
    "plt.yscale('log')  # Set y-axis to logarithmic scale\n",
    "plt.grid(True)\n",
    "# Show the plot\n",
    "plt.show()"
   ]
  },
  {
   "cell_type": "code",
   "execution_count": 16,
   "id": "9e235f40-4cf9-4d0c-900b-bc58a826b0be",
   "metadata": {},
   "outputs": [
    {
     "data": {
      "image/png": "[encoded data removed]",
      "text/plain": [
       "<Figure size 640x480 with 1 Axes>"
      ]
     },
     "metadata": {},
     "output_type": "display_data"
    }
   ],
   "source": [
    "plt.hist(df_nsb['energy'].values, bins=np.linspace(0, 0.04, num=100), edgecolor='black')\n",
    "plt.hist(df_gd['energy'].values, bins=np.linspace(0, 0.04, num=100), edgecolor='black')\n",
    "plt.hist(df_g['energy'].values, bins=np.linspace(0, 0.04, num=100), edgecolor='black')\n",
    "plt.hist(df_e['energy'].values, bins=np.linspace(0, 0.1, num=100), edgecolor='black')\n",
    "plt.hist(df_p['energy'].values, bins=np.linspace(0, 0.1, num=100), edgecolor='black')\n",
    "# Add labels and title\n",
    "plt.xlabel('energy, TeV')\n",
    "plt.ylabel('')\n",
    "plt.title('energy')\n",
    "plt.yscale('log')  # Set y-axis to logarithmic scale\n",
    "plt.grid(True)\n",
    "# Show the plot\n",
    "plt.show()"
   ]
  },
  {
   "cell_type": "code",
   "execution_count": 17,
   "id": "c205334d-f9f1-4d79-846c-f6819518c713",
   "metadata": {},
   "outputs": [
    {
     "data": {
      "text/plain": [
       "0.02255774647887324"
      ]
     },
     "execution_count": 17,
     "metadata": {},
     "output_type": "execute_result"
    }
   ],
   "source": [
    "len(df_nsb[df_nsb['n_pe']>0])/(len(df_nsb['n_pe']))"
   ]
  },
  {
   "cell_type": "code",
   "execution_count": 18,
   "id": "143fed76-c53a-46f0-8368-36db908e76c0",
   "metadata": {},
   "outputs": [],
   "source": [
    "df_g_t=df_g[df_g['timeID']>=0]"
   ]
  },
  {
   "cell_type": "code",
   "execution_count": 19,
   "id": "eb3b14b4-e002-44b8-80f6-c4c51b37c6f7",
   "metadata": {},
   "outputs": [
    {
     "data": {
      "text/html": [
       "<div>\n",
       "<style scoped>\n",
       "    .dataframe tbody tr th:only-of-type {\n",
       "        vertical-align: middle;\n",
       "    }\n",
       "\n",
       "    .dataframe tbody tr th {\n",
       "        vertical-align: top;\n",
       "    }\n",
       "\n",
       "    .dataframe thead th {\n",
       "        text-align: right;\n",
       "    }\n",
       "</style>\n",
       "<table border=\"1\" class=\"dataframe\">\n",
       "  <thead>\n",
       "    <tr style=\"text-align: right;\">\n",
       "      <th></th>\n",
       "      <th>Unnamed: 0</th>\n",
       "      <th>event_id</th>\n",
       "      <th>energy</th>\n",
       "      <th>azimuth</th>\n",
       "      <th>altitude</th>\n",
       "      <th>h_first_int</th>\n",
       "      <th>xmax</th>\n",
       "      <th>hmax</th>\n",
       "      <th>emax</th>\n",
       "      <th>cmax</th>\n",
       "      <th>...</th>\n",
       "      <th>n_pixels</th>\n",
       "      <th>cluster_event_ID</th>\n",
       "      <th>n_digitalsum_points</th>\n",
       "      <th>n_clusters</th>\n",
       "      <th>n_points</th>\n",
       "      <th>x_mean</th>\n",
       "      <th>y_mean</th>\n",
       "      <th>t_mean</th>\n",
       "      <th>channelID</th>\n",
       "      <th>timeID</th>\n",
       "    </tr>\n",
       "  </thead>\n",
       "  <tbody>\n",
       "    <tr>\n",
       "      <th>1</th>\n",
       "      <td>1</td>\n",
       "      <td>101.0</td>\n",
       "      <td>0.064814</td>\n",
       "      <td>3.141593</td>\n",
       "      <td>1.22173</td>\n",
       "      <td>20580.644531</td>\n",
       "      <td>199.090912</td>\n",
       "      <td>12289.798828</td>\n",
       "      <td>199.090912</td>\n",
       "      <td>206.719269</td>\n",
       "      <td>...</td>\n",
       "      <td>69.0</td>\n",
       "      <td>101.0</td>\n",
       "      <td>948.0</td>\n",
       "      <td>2.0</td>\n",
       "      <td>202.0</td>\n",
       "      <td>0.125229</td>\n",
       "      <td>-0.012293</td>\n",
       "      <td>1.932426</td>\n",
       "      <td>6666.0</td>\n",
       "      <td>39.0</td>\n",
       "    </tr>\n",
       "    <tr>\n",
       "      <th>3</th>\n",
       "      <td>3</td>\n",
       "      <td>105.0</td>\n",
       "      <td>0.064814</td>\n",
       "      <td>3.141593</td>\n",
       "      <td>1.22173</td>\n",
       "      <td>20580.644531</td>\n",
       "      <td>199.090912</td>\n",
       "      <td>12289.798828</td>\n",
       "      <td>199.090912</td>\n",
       "      <td>206.719269</td>\n",
       "      <td>...</td>\n",
       "      <td>18.0</td>\n",
       "      <td>105.0</td>\n",
       "      <td>929.0</td>\n",
       "      <td>3.0</td>\n",
       "      <td>20.0</td>\n",
       "      <td>-0.021262</td>\n",
       "      <td>0.876502</td>\n",
       "      <td>3.117500</td>\n",
       "      <td>676.0</td>\n",
       "      <td>62.0</td>\n",
       "    </tr>\n",
       "    <tr>\n",
       "      <th>5</th>\n",
       "      <td>5</td>\n",
       "      <td>407.0</td>\n",
       "      <td>0.015200</td>\n",
       "      <td>3.141593</td>\n",
       "      <td>1.22173</td>\n",
       "      <td>35789.003906</td>\n",
       "      <td>155.555557</td>\n",
       "      <td>13844.737305</td>\n",
       "      <td>155.555557</td>\n",
       "      <td>136.604599</td>\n",
       "      <td>...</td>\n",
       "      <td>24.0</td>\n",
       "      <td>407.0</td>\n",
       "      <td>796.0</td>\n",
       "      <td>1.0</td>\n",
       "      <td>40.0</td>\n",
       "      <td>0.264262</td>\n",
       "      <td>-0.207287</td>\n",
       "      <td>1.900000</td>\n",
       "      <td>5635.0</td>\n",
       "      <td>38.0</td>\n",
       "    </tr>\n",
       "    <tr>\n",
       "      <th>6</th>\n",
       "      <td>6</td>\n",
       "      <td>605.0</td>\n",
       "      <td>0.006157</td>\n",
       "      <td>3.141593</td>\n",
       "      <td>1.22173</td>\n",
       "      <td>28833.744141</td>\n",
       "      <td>178.888885</td>\n",
       "      <td>12965.457031</td>\n",
       "      <td>178.888885</td>\n",
       "      <td>178.060974</td>\n",
       "      <td>...</td>\n",
       "      <td>16.0</td>\n",
       "      <td>605.0</td>\n",
       "      <td>719.0</td>\n",
       "      <td>2.0</td>\n",
       "      <td>20.0</td>\n",
       "      <td>0.676755</td>\n",
       "      <td>0.058923</td>\n",
       "      <td>0.805000</td>\n",
       "      <td>7679.0</td>\n",
       "      <td>16.0</td>\n",
       "    </tr>\n",
       "    <tr>\n",
       "      <th>7</th>\n",
       "      <td>7</td>\n",
       "      <td>1207.0</td>\n",
       "      <td>0.062414</td>\n",
       "      <td>3.141593</td>\n",
       "      <td>1.22173</td>\n",
       "      <td>35960.335938</td>\n",
       "      <td>121.199997</td>\n",
       "      <td>15401.020508</td>\n",
       "      <td>121.199997</td>\n",
       "      <td>119.691383</td>\n",
       "      <td>...</td>\n",
       "      <td>80.0</td>\n",
       "      <td>1207.0</td>\n",
       "      <td>964.0</td>\n",
       "      <td>1.0</td>\n",
       "      <td>185.0</td>\n",
       "      <td>0.287659</td>\n",
       "      <td>0.034353</td>\n",
       "      <td>1.905676</td>\n",
       "      <td>7147.0</td>\n",
       "      <td>38.0</td>\n",
       "    </tr>\n",
       "    <tr>\n",
       "      <th>...</th>\n",
       "      <td>...</td>\n",
       "      <td>...</td>\n",
       "      <td>...</td>\n",
       "      <td>...</td>\n",
       "      <td>...</td>\n",
       "      <td>...</td>\n",
       "      <td>...</td>\n",
       "      <td>...</td>\n",
       "      <td>...</td>\n",
       "      <td>...</td>\n",
       "      <td>...</td>\n",
       "      <td>...</td>\n",
       "      <td>...</td>\n",
       "      <td>...</td>\n",
       "      <td>...</td>\n",
       "      <td>...</td>\n",
       "      <td>...</td>\n",
       "      <td>...</td>\n",
       "      <td>...</td>\n",
       "      <td>...</td>\n",
       "      <td>...</td>\n",
       "    </tr>\n",
       "    <tr>\n",
       "      <th>914107</th>\n",
       "      <td>12955</td>\n",
       "      <td>999705.0</td>\n",
       "      <td>0.176640</td>\n",
       "      <td>3.141593</td>\n",
       "      <td>1.22173</td>\n",
       "      <td>24816.318359</td>\n",
       "      <td>202.727280</td>\n",
       "      <td>12175.111328</td>\n",
       "      <td>202.727280</td>\n",
       "      <td>200.960999</td>\n",
       "      <td>...</td>\n",
       "      <td>118.0</td>\n",
       "      <td>999705.0</td>\n",
       "      <td>765.0</td>\n",
       "      <td>2.0</td>\n",
       "      <td>83.0</td>\n",
       "      <td>0.788725</td>\n",
       "      <td>-0.248476</td>\n",
       "      <td>1.824699</td>\n",
       "      <td>6820.0</td>\n",
       "      <td>36.0</td>\n",
       "    </tr>\n",
       "    <tr>\n",
       "      <th>914108</th>\n",
       "      <td>12956</td>\n",
       "      <td>999706.0</td>\n",
       "      <td>0.176640</td>\n",
       "      <td>3.141593</td>\n",
       "      <td>1.22173</td>\n",
       "      <td>24816.318359</td>\n",
       "      <td>202.727280</td>\n",
       "      <td>12175.111328</td>\n",
       "      <td>202.727280</td>\n",
       "      <td>200.960999</td>\n",
       "      <td>...</td>\n",
       "      <td>133.0</td>\n",
       "      <td>999706.0</td>\n",
       "      <td>870.0</td>\n",
       "      <td>1.0</td>\n",
       "      <td>102.0</td>\n",
       "      <td>0.046932</td>\n",
       "      <td>-0.803402</td>\n",
       "      <td>1.889216</td>\n",
       "      <td>4416.0</td>\n",
       "      <td>38.0</td>\n",
       "    </tr>\n",
       "    <tr>\n",
       "      <th>914109</th>\n",
       "      <td>12957</td>\n",
       "      <td>999709.0</td>\n",
       "      <td>0.176640</td>\n",
       "      <td>3.141593</td>\n",
       "      <td>1.22173</td>\n",
       "      <td>24816.318359</td>\n",
       "      <td>202.727280</td>\n",
       "      <td>12175.111328</td>\n",
       "      <td>202.727280</td>\n",
       "      <td>200.960999</td>\n",
       "      <td>...</td>\n",
       "      <td>96.0</td>\n",
       "      <td>999709.0</td>\n",
       "      <td>743.0</td>\n",
       "      <td>2.0</td>\n",
       "      <td>49.0</td>\n",
       "      <td>-0.766442</td>\n",
       "      <td>0.586237</td>\n",
       "      <td>2.003061</td>\n",
       "      <td>2347.0</td>\n",
       "      <td>40.0</td>\n",
       "    </tr>\n",
       "    <tr>\n",
       "      <th>914110</th>\n",
       "      <td>12958</td>\n",
       "      <td>999900.0</td>\n",
       "      <td>0.008298</td>\n",
       "      <td>3.141593</td>\n",
       "      <td>1.22173</td>\n",
       "      <td>24210.287109</td>\n",
       "      <td>106.363640</td>\n",
       "      <td>16203.908203</td>\n",
       "      <td>106.363640</td>\n",
       "      <td>244.659897</td>\n",
       "      <td>...</td>\n",
       "      <td>26.0</td>\n",
       "      <td>999900.0</td>\n",
       "      <td>766.0</td>\n",
       "      <td>3.0</td>\n",
       "      <td>19.0</td>\n",
       "      <td>0.699584</td>\n",
       "      <td>-0.715510</td>\n",
       "      <td>0.868421</td>\n",
       "      <td>6601.0</td>\n",
       "      <td>17.0</td>\n",
       "    </tr>\n",
       "    <tr>\n",
       "      <th>914111</th>\n",
       "      <td>12959</td>\n",
       "      <td>1000004.0</td>\n",
       "      <td>0.009951</td>\n",
       "      <td>3.141593</td>\n",
       "      <td>1.22173</td>\n",
       "      <td>23051.609375</td>\n",
       "      <td>101.111115</td>\n",
       "      <td>16513.238281</td>\n",
       "      <td>101.111115</td>\n",
       "      <td>103.830437</td>\n",
       "      <td>...</td>\n",
       "      <td>17.0</td>\n",
       "      <td>1000004.0</td>\n",
       "      <td>845.0</td>\n",
       "      <td>2.0</td>\n",
       "      <td>20.0</td>\n",
       "      <td>0.814050</td>\n",
       "      <td>0.174671</td>\n",
       "      <td>1.482500</td>\n",
       "      <td>7819.0</td>\n",
       "      <td>30.0</td>\n",
       "    </tr>\n",
       "  </tbody>\n",
       "</table>\n",
       "<p>744235 rows × 25 columns</p>\n",
       "</div>"
      ],
      "text/plain": [
       "        Unnamed: 0   event_id    energy   azimuth  altitude   h_first_int  \\\n",
       "1                1      101.0  0.064814  3.141593   1.22173  20580.644531   \n",
       "3                3      105.0  0.064814  3.141593   1.22173  20580.644531   \n",
       "5                5      407.0  0.015200  3.141593   1.22173  35789.003906   \n",
       "6                6      605.0  0.006157  3.141593   1.22173  28833.744141   \n",
       "7                7     1207.0  0.062414  3.141593   1.22173  35960.335938   \n",
       "...            ...        ...       ...       ...       ...           ...   \n",
       "914107       12955   999705.0  0.176640  3.141593   1.22173  24816.318359   \n",
       "914108       12956   999706.0  0.176640  3.141593   1.22173  24816.318359   \n",
       "914109       12957   999709.0  0.176640  3.141593   1.22173  24816.318359   \n",
       "914110       12958   999900.0  0.008298  3.141593   1.22173  24210.287109   \n",
       "914111       12959  1000004.0  0.009951  3.141593   1.22173  23051.609375   \n",
       "\n",
       "              xmax          hmax        emax        cmax  ...  n_pixels  \\\n",
       "1       199.090912  12289.798828  199.090912  206.719269  ...      69.0   \n",
       "3       199.090912  12289.798828  199.090912  206.719269  ...      18.0   \n",
       "5       155.555557  13844.737305  155.555557  136.604599  ...      24.0   \n",
       "6       178.888885  12965.457031  178.888885  178.060974  ...      16.0   \n",
       "7       121.199997  15401.020508  121.199997  119.691383  ...      80.0   \n",
       "...            ...           ...         ...         ...  ...       ...   \n",
       "914107  202.727280  12175.111328  202.727280  200.960999  ...     118.0   \n",
       "914108  202.727280  12175.111328  202.727280  200.960999  ...     133.0   \n",
       "914109  202.727280  12175.111328  202.727280  200.960999  ...      96.0   \n",
       "914110  106.363640  16203.908203  106.363640  244.659897  ...      26.0   \n",
       "914111  101.111115  16513.238281  101.111115  103.830437  ...      17.0   \n",
       "\n",
       "        cluster_event_ID  n_digitalsum_points  n_clusters  n_points    x_mean  \\\n",
       "1                  101.0                948.0         2.0     202.0  0.125229   \n",
       "3                  105.0                929.0         3.0      20.0 -0.021262   \n",
       "5                  407.0                796.0         1.0      40.0  0.264262   \n",
       "6                  605.0                719.0         2.0      20.0  0.676755   \n",
       "7                 1207.0                964.0         1.0     185.0  0.287659   \n",
       "...                  ...                  ...         ...       ...       ...   \n",
       "914107          999705.0                765.0         2.0      83.0  0.788725   \n",
       "914108          999706.0                870.0         1.0     102.0  0.046932   \n",
       "914109          999709.0                743.0         2.0      49.0 -0.766442   \n",
       "914110          999900.0                766.0         3.0      19.0  0.699584   \n",
       "914111         1000004.0                845.0         2.0      20.0  0.814050   \n",
       "\n",
       "          y_mean    t_mean  channelID  timeID  \n",
       "1      -0.012293  1.932426     6666.0    39.0  \n",
       "3       0.876502  3.117500      676.0    62.0  \n",
       "5      -0.207287  1.900000     5635.0    38.0  \n",
       "6       0.058923  0.805000     7679.0    16.0  \n",
       "7       0.034353  1.905676     7147.0    38.0  \n",
       "...          ...       ...        ...     ...  \n",
       "914107 -0.248476  1.824699     6820.0    36.0  \n",
       "914108 -0.803402  1.889216     4416.0    38.0  \n",
       "914109  0.586237  2.003061     2347.0    40.0  \n",
       "914110 -0.715510  0.868421     6601.0    17.0  \n",
       "914111  0.174671  1.482500     7819.0    30.0  \n",
       "\n",
       "[744235 rows x 25 columns]"
      ]
     },
     "execution_count": 19,
     "metadata": {},
     "output_type": "execute_result"
    }
   ],
   "source": [
    "df_g_t"
   ]
  },
  {
   "cell_type": "code",
   "execution_count": 20,
   "id": "37236390-af9b-4fb3-85a2-604ca32de519",
   "metadata": {},
   "outputs": [
    {
     "data": {
      "text/plain": [
       "744235"
      ]
     },
     "execution_count": 20,
     "metadata": {},
     "output_type": "execute_result"
    }
   ],
   "source": [
    "len(df_g_t)"
   ]
  },
  {
   "cell_type": "code",
   "execution_count": 21,
   "id": "feefedff-2d6c-4243-82a2-82e88af52be1",
   "metadata": {},
   "outputs": [
    {
     "data": {
      "text/plain": [
       "<Axes: >"
      ]
     },
     "execution_count": 21,
     "metadata": {},
     "output_type": "execute_result"
    },
    {
     "data": {
      "image/png": "[encoded data removed]",
      "text/plain": [
       "<Figure size 640x480 with 1 Axes>"
      ]
     },
     "metadata": {},
     "output_type": "display_data"
    }
   ],
   "source": [
    "df_g_t[df_g_t['n_pe']>10]['energy'].hist(bins=100,grid=True)"
   ]
  },
  {
   "cell_type": "code",
   "execution_count": 22,
   "id": "8973ce4e-221d-40f2-ac1d-b66d543c79d5",
   "metadata": {},
   "outputs": [],
   "source": [
    "df_nsb_=df_nsb[df_nsb['n_pe']==0].copy()"
   ]
  },
  {
   "cell_type": "code",
   "execution_count": 23,
   "id": "12ccc99d-3002-46d2-9bde-08cbbd6c3f71",
   "metadata": {},
   "outputs": [
    {
     "data": {
      "text/plain": [
       "693984"
      ]
     },
     "execution_count": 23,
     "metadata": {},
     "output_type": "execute_result"
    }
   ],
   "source": [
    "len(df_nsb_)"
   ]
  },
  {
   "cell_type": "code",
   "execution_count": 24,
   "id": "96bbe04e-2fed-4053-9300-5884eabc9b0b",
   "metadata": {},
   "outputs": [],
   "source": [
    "df_nsb_['digitalsum_points_rate']=df_nsb_['n_digitalsum_points']/(1000.0/fadc_MHz*fadc_sum_bins*1e-9)/1e9"
   ]
  },
  {
   "cell_type": "code",
   "execution_count": 25,
   "id": "450b1e67-f100-4f0f-952e-6061840a3628",
   "metadata": {},
   "outputs": [
    {
     "data": {
      "text/plain": [
       "10.104285196968997"
      ]
     },
     "execution_count": 25,
     "metadata": {},
     "output_type": "execute_result"
    }
   ],
   "source": [
    "np.mean(df_nsb_['digitalsum_points_rate'].values)"
   ]
  },
  {
   "cell_type": "code",
   "execution_count": 26,
   "id": "2a3640ee-0cb7-48ac-8da5-a6166e9d8bf2",
   "metadata": {},
   "outputs": [
    {
     "data": {
      "text/html": [
       "<div>\n",
       "<style scoped>\n",
       "    .dataframe tbody tr th:only-of-type {\n",
       "        vertical-align: middle;\n",
       "    }\n",
       "\n",
       "    .dataframe tbody tr th {\n",
       "        vertical-align: top;\n",
       "    }\n",
       "\n",
       "    .dataframe thead th {\n",
       "        text-align: right;\n",
       "    }\n",
       "</style>\n",
       "<table border=\"1\" class=\"dataframe\">\n",
       "  <thead>\n",
       "    <tr style=\"text-align: right;\">\n",
       "      <th></th>\n",
       "      <th>Unnamed: 0</th>\n",
       "      <th>event_id</th>\n",
       "      <th>energy</th>\n",
       "      <th>azimuth</th>\n",
       "      <th>altitude</th>\n",
       "      <th>h_first_int</th>\n",
       "      <th>xmax</th>\n",
       "      <th>hmax</th>\n",
       "      <th>emax</th>\n",
       "      <th>cmax</th>\n",
       "      <th>...</th>\n",
       "      <th>cluster_event_ID</th>\n",
       "      <th>n_digitalsum_points</th>\n",
       "      <th>n_clusters</th>\n",
       "      <th>n_points</th>\n",
       "      <th>x_mean</th>\n",
       "      <th>y_mean</th>\n",
       "      <th>t_mean</th>\n",
       "      <th>channelID</th>\n",
       "      <th>timeID</th>\n",
       "      <th>digitalsum_points_rate</th>\n",
       "    </tr>\n",
       "  </thead>\n",
       "  <tbody>\n",
       "    <tr>\n",
       "      <th>0</th>\n",
       "      <td>0</td>\n",
       "      <td>100.0</td>\n",
       "      <td>0.015710</td>\n",
       "      <td>2.782676</td>\n",
       "      <td>1.275599</td>\n",
       "      <td>16502.957031</td>\n",
       "      <td>150.0</td>\n",
       "      <td>14072.902344</td>\n",
       "      <td>170.0</td>\n",
       "      <td>168.520401</td>\n",
       "      <td>...</td>\n",
       "      <td>100.0</td>\n",
       "      <td>723.0</td>\n",
       "      <td>0.0</td>\n",
       "      <td>0.0</td>\n",
       "      <td>-999.000000</td>\n",
       "      <td>-999.000000</td>\n",
       "      <td>-999.000000</td>\n",
       "      <td>-999.0</td>\n",
       "      <td>-999.0</td>\n",
       "      <td>9.871360</td>\n",
       "    </tr>\n",
       "    <tr>\n",
       "      <th>1</th>\n",
       "      <td>1</td>\n",
       "      <td>101.0</td>\n",
       "      <td>0.015710</td>\n",
       "      <td>2.782676</td>\n",
       "      <td>1.275599</td>\n",
       "      <td>16502.957031</td>\n",
       "      <td>150.0</td>\n",
       "      <td>14072.902344</td>\n",
       "      <td>170.0</td>\n",
       "      <td>168.520401</td>\n",
       "      <td>...</td>\n",
       "      <td>101.0</td>\n",
       "      <td>730.0</td>\n",
       "      <td>1.0</td>\n",
       "      <td>19.0</td>\n",
       "      <td>-0.995021</td>\n",
       "      <td>0.248102</td>\n",
       "      <td>2.368421</td>\n",
       "      <td>3341.0</td>\n",
       "      <td>47.0</td>\n",
       "      <td>9.966933</td>\n",
       "    </tr>\n",
       "    <tr>\n",
       "      <th>2</th>\n",
       "      <td>2</td>\n",
       "      <td>102.0</td>\n",
       "      <td>0.015710</td>\n",
       "      <td>2.782676</td>\n",
       "      <td>1.275599</td>\n",
       "      <td>16502.957031</td>\n",
       "      <td>150.0</td>\n",
       "      <td>14072.902344</td>\n",
       "      <td>170.0</td>\n",
       "      <td>168.520401</td>\n",
       "      <td>...</td>\n",
       "      <td>102.0</td>\n",
       "      <td>732.0</td>\n",
       "      <td>1.0</td>\n",
       "      <td>15.0</td>\n",
       "      <td>-0.851310</td>\n",
       "      <td>-0.307250</td>\n",
       "      <td>0.373333</td>\n",
       "      <td>3773.0</td>\n",
       "      <td>7.0</td>\n",
       "      <td>9.994240</td>\n",
       "    </tr>\n",
       "    <tr>\n",
       "      <th>3</th>\n",
       "      <td>3</td>\n",
       "      <td>103.0</td>\n",
       "      <td>0.015710</td>\n",
       "      <td>2.782676</td>\n",
       "      <td>1.275599</td>\n",
       "      <td>16502.957031</td>\n",
       "      <td>150.0</td>\n",
       "      <td>14072.902344</td>\n",
       "      <td>170.0</td>\n",
       "      <td>168.520401</td>\n",
       "      <td>...</td>\n",
       "      <td>103.0</td>\n",
       "      <td>827.0</td>\n",
       "      <td>1.0</td>\n",
       "      <td>25.0</td>\n",
       "      <td>-0.807246</td>\n",
       "      <td>0.359441</td>\n",
       "      <td>2.796000</td>\n",
       "      <td>1550.0</td>\n",
       "      <td>56.0</td>\n",
       "      <td>11.291307</td>\n",
       "    </tr>\n",
       "    <tr>\n",
       "      <th>4</th>\n",
       "      <td>4</td>\n",
       "      <td>104.0</td>\n",
       "      <td>0.015710</td>\n",
       "      <td>2.782676</td>\n",
       "      <td>1.275599</td>\n",
       "      <td>16502.957031</td>\n",
       "      <td>150.0</td>\n",
       "      <td>14072.902344</td>\n",
       "      <td>170.0</td>\n",
       "      <td>168.520401</td>\n",
       "      <td>...</td>\n",
       "      <td>104.0</td>\n",
       "      <td>722.0</td>\n",
       "      <td>0.0</td>\n",
       "      <td>0.0</td>\n",
       "      <td>-999.000000</td>\n",
       "      <td>-999.000000</td>\n",
       "      <td>-999.000000</td>\n",
       "      <td>-999.0</td>\n",
       "      <td>-999.0</td>\n",
       "      <td>9.857707</td>\n",
       "    </tr>\n",
       "    <tr>\n",
       "      <th>...</th>\n",
       "      <td>...</td>\n",
       "      <td>...</td>\n",
       "      <td>...</td>\n",
       "      <td>...</td>\n",
       "      <td>...</td>\n",
       "      <td>...</td>\n",
       "      <td>...</td>\n",
       "      <td>...</td>\n",
       "      <td>...</td>\n",
       "      <td>...</td>\n",
       "      <td>...</td>\n",
       "      <td>...</td>\n",
       "      <td>...</td>\n",
       "      <td>...</td>\n",
       "      <td>...</td>\n",
       "      <td>...</td>\n",
       "      <td>...</td>\n",
       "      <td>...</td>\n",
       "      <td>...</td>\n",
       "      <td>...</td>\n",
       "      <td>...</td>\n",
       "    </tr>\n",
       "    <tr>\n",
       "      <th>709995</th>\n",
       "      <td>9995</td>\n",
       "      <td>100005.0</td>\n",
       "      <td>0.018814</td>\n",
       "      <td>3.216397</td>\n",
       "      <td>1.094467</td>\n",
       "      <td>22743.568359</td>\n",
       "      <td>60.0</td>\n",
       "      <td>19686.035156</td>\n",
       "      <td>65.0</td>\n",
       "      <td>96.674713</td>\n",
       "      <td>...</td>\n",
       "      <td>100005.0</td>\n",
       "      <td>632.0</td>\n",
       "      <td>0.0</td>\n",
       "      <td>0.0</td>\n",
       "      <td>-999.000000</td>\n",
       "      <td>-999.000000</td>\n",
       "      <td>-999.000000</td>\n",
       "      <td>-999.0</td>\n",
       "      <td>-999.0</td>\n",
       "      <td>8.628907</td>\n",
       "    </tr>\n",
       "    <tr>\n",
       "      <th>709996</th>\n",
       "      <td>9996</td>\n",
       "      <td>100006.0</td>\n",
       "      <td>0.018814</td>\n",
       "      <td>3.216397</td>\n",
       "      <td>1.094467</td>\n",
       "      <td>22743.568359</td>\n",
       "      <td>60.0</td>\n",
       "      <td>19686.035156</td>\n",
       "      <td>65.0</td>\n",
       "      <td>96.674713</td>\n",
       "      <td>...</td>\n",
       "      <td>100006.0</td>\n",
       "      <td>647.0</td>\n",
       "      <td>0.0</td>\n",
       "      <td>0.0</td>\n",
       "      <td>-999.000000</td>\n",
       "      <td>-999.000000</td>\n",
       "      <td>-999.000000</td>\n",
       "      <td>-999.0</td>\n",
       "      <td>-999.0</td>\n",
       "      <td>8.833707</td>\n",
       "    </tr>\n",
       "    <tr>\n",
       "      <th>709997</th>\n",
       "      <td>9997</td>\n",
       "      <td>100007.0</td>\n",
       "      <td>0.018814</td>\n",
       "      <td>3.216397</td>\n",
       "      <td>1.094467</td>\n",
       "      <td>22743.568359</td>\n",
       "      <td>60.0</td>\n",
       "      <td>19686.035156</td>\n",
       "      <td>65.0</td>\n",
       "      <td>96.674713</td>\n",
       "      <td>...</td>\n",
       "      <td>100007.0</td>\n",
       "      <td>723.0</td>\n",
       "      <td>0.0</td>\n",
       "      <td>0.0</td>\n",
       "      <td>-999.000000</td>\n",
       "      <td>-999.000000</td>\n",
       "      <td>-999.000000</td>\n",
       "      <td>-999.0</td>\n",
       "      <td>-999.0</td>\n",
       "      <td>9.871360</td>\n",
       "    </tr>\n",
       "    <tr>\n",
       "      <th>709998</th>\n",
       "      <td>9998</td>\n",
       "      <td>100008.0</td>\n",
       "      <td>0.018814</td>\n",
       "      <td>3.216397</td>\n",
       "      <td>1.094467</td>\n",
       "      <td>22743.568359</td>\n",
       "      <td>60.0</td>\n",
       "      <td>19686.035156</td>\n",
       "      <td>65.0</td>\n",
       "      <td>96.674713</td>\n",
       "      <td>...</td>\n",
       "      <td>100008.0</td>\n",
       "      <td>693.0</td>\n",
       "      <td>1.0</td>\n",
       "      <td>17.0</td>\n",
       "      <td>0.400950</td>\n",
       "      <td>0.914811</td>\n",
       "      <td>1.711765</td>\n",
       "      <td>1337.0</td>\n",
       "      <td>34.0</td>\n",
       "      <td>9.461760</td>\n",
       "    </tr>\n",
       "    <tr>\n",
       "      <th>709999</th>\n",
       "      <td>9999</td>\n",
       "      <td>100009.0</td>\n",
       "      <td>0.018814</td>\n",
       "      <td>3.216397</td>\n",
       "      <td>1.094467</td>\n",
       "      <td>22743.568359</td>\n",
       "      <td>60.0</td>\n",
       "      <td>19686.035156</td>\n",
       "      <td>65.0</td>\n",
       "      <td>96.674713</td>\n",
       "      <td>...</td>\n",
       "      <td>100009.0</td>\n",
       "      <td>696.0</td>\n",
       "      <td>1.0</td>\n",
       "      <td>15.0</td>\n",
       "      <td>0.184680</td>\n",
       "      <td>-1.026967</td>\n",
       "      <td>2.303333</td>\n",
       "      <td>5542.0</td>\n",
       "      <td>46.0</td>\n",
       "      <td>9.502720</td>\n",
       "    </tr>\n",
       "  </tbody>\n",
       "</table>\n",
       "<p>693984 rows × 26 columns</p>\n",
       "</div>"
      ],
      "text/plain": [
       "        Unnamed: 0  event_id    energy   azimuth  altitude   h_first_int  \\\n",
       "0                0     100.0  0.015710  2.782676  1.275599  16502.957031   \n",
       "1                1     101.0  0.015710  2.782676  1.275599  16502.957031   \n",
       "2                2     102.0  0.015710  2.782676  1.275599  16502.957031   \n",
       "3                3     103.0  0.015710  2.782676  1.275599  16502.957031   \n",
       "4                4     104.0  0.015710  2.782676  1.275599  16502.957031   \n",
       "...            ...       ...       ...       ...       ...           ...   \n",
       "709995        9995  100005.0  0.018814  3.216397  1.094467  22743.568359   \n",
       "709996        9996  100006.0  0.018814  3.216397  1.094467  22743.568359   \n",
       "709997        9997  100007.0  0.018814  3.216397  1.094467  22743.568359   \n",
       "709998        9998  100008.0  0.018814  3.216397  1.094467  22743.568359   \n",
       "709999        9999  100009.0  0.018814  3.216397  1.094467  22743.568359   \n",
       "\n",
       "         xmax          hmax   emax        cmax  ...  cluster_event_ID  \\\n",
       "0       150.0  14072.902344  170.0  168.520401  ...             100.0   \n",
       "1       150.0  14072.902344  170.0  168.520401  ...             101.0   \n",
       "2       150.0  14072.902344  170.0  168.520401  ...             102.0   \n",
       "3       150.0  14072.902344  170.0  168.520401  ...             103.0   \n",
       "4       150.0  14072.902344  170.0  168.520401  ...             104.0   \n",
       "...       ...           ...    ...         ...  ...               ...   \n",
       "709995   60.0  19686.035156   65.0   96.674713  ...          100005.0   \n",
       "709996   60.0  19686.035156   65.0   96.674713  ...          100006.0   \n",
       "709997   60.0  19686.035156   65.0   96.674713  ...          100007.0   \n",
       "709998   60.0  19686.035156   65.0   96.674713  ...          100008.0   \n",
       "709999   60.0  19686.035156   65.0   96.674713  ...          100009.0   \n",
       "\n",
       "        n_digitalsum_points  n_clusters  n_points      x_mean      y_mean  \\\n",
       "0                     723.0         0.0       0.0 -999.000000 -999.000000   \n",
       "1                     730.0         1.0      19.0   -0.995021    0.248102   \n",
       "2                     732.0         1.0      15.0   -0.851310   -0.307250   \n",
       "3                     827.0         1.0      25.0   -0.807246    0.359441   \n",
       "4                     722.0         0.0       0.0 -999.000000 -999.000000   \n",
       "...                     ...         ...       ...         ...         ...   \n",
       "709995                632.0         0.0       0.0 -999.000000 -999.000000   \n",
       "709996                647.0         0.0       0.0 -999.000000 -999.000000   \n",
       "709997                723.0         0.0       0.0 -999.000000 -999.000000   \n",
       "709998                693.0         1.0      17.0    0.400950    0.914811   \n",
       "709999                696.0         1.0      15.0    0.184680   -1.026967   \n",
       "\n",
       "            t_mean  channelID  timeID  digitalsum_points_rate  \n",
       "0      -999.000000     -999.0  -999.0                9.871360  \n",
       "1         2.368421     3341.0    47.0                9.966933  \n",
       "2         0.373333     3773.0     7.0                9.994240  \n",
       "3         2.796000     1550.0    56.0               11.291307  \n",
       "4      -999.000000     -999.0  -999.0                9.857707  \n",
       "...            ...        ...     ...                     ...  \n",
       "709995 -999.000000     -999.0  -999.0                8.628907  \n",
       "709996 -999.000000     -999.0  -999.0                8.833707  \n",
       "709997 -999.000000     -999.0  -999.0                9.871360  \n",
       "709998    1.711765     1337.0    34.0                9.461760  \n",
       "709999    2.303333     5542.0    46.0                9.502720  \n",
       "\n",
       "[693984 rows x 26 columns]"
      ]
     },
     "execution_count": 26,
     "metadata": {},
     "output_type": "execute_result"
    }
   ],
   "source": [
    "df_nsb_"
   ]
  },
  {
   "cell_type": "code",
   "execution_count": 27,
   "id": "823f9866-350a-4c40-84b8-e019e696fd5b",
   "metadata": {},
   "outputs": [
    {
     "data": {
      "text/html": [
       "<div>\n",
       "<style scoped>\n",
       "    .dataframe tbody tr th:only-of-type {\n",
       "        vertical-align: middle;\n",
       "    }\n",
       "\n",
       "    .dataframe tbody tr th {\n",
       "        vertical-align: top;\n",
       "    }\n",
       "\n",
       "    .dataframe thead th {\n",
       "        text-align: right;\n",
       "    }\n",
       "</style>\n",
       "<table border=\"1\" class=\"dataframe\">\n",
       "  <thead>\n",
       "    <tr style=\"text-align: right;\">\n",
       "      <th></th>\n",
       "      <th>Unnamed: 0</th>\n",
       "      <th>event_id</th>\n",
       "      <th>energy</th>\n",
       "      <th>azimuth</th>\n",
       "      <th>altitude</th>\n",
       "      <th>h_first_int</th>\n",
       "      <th>xmax</th>\n",
       "      <th>hmax</th>\n",
       "      <th>emax</th>\n",
       "      <th>cmax</th>\n",
       "      <th>...</th>\n",
       "      <th>n_pixels</th>\n",
       "      <th>cluster_event_ID</th>\n",
       "      <th>n_digitalsum_points</th>\n",
       "      <th>n_clusters</th>\n",
       "      <th>n_points</th>\n",
       "      <th>x_mean</th>\n",
       "      <th>y_mean</th>\n",
       "      <th>t_mean</th>\n",
       "      <th>channelID</th>\n",
       "      <th>timeID</th>\n",
       "    </tr>\n",
       "  </thead>\n",
       "  <tbody>\n",
       "    <tr>\n",
       "      <th>0</th>\n",
       "      <td>0</td>\n",
       "      <td>5200.0</td>\n",
       "      <td>0.115086</td>\n",
       "      <td>3.062638</td>\n",
       "      <td>1.218684</td>\n",
       "      <td>16199.321289</td>\n",
       "      <td>273.076935</td>\n",
       "      <td>10251.343750</td>\n",
       "      <td>273.333344</td>\n",
       "      <td>278.034241</td>\n",
       "      <td>...</td>\n",
       "      <td>23.0</td>\n",
       "      <td>5200.0</td>\n",
       "      <td>722.0</td>\n",
       "      <td>2.0</td>\n",
       "      <td>17.0</td>\n",
       "      <td>0.231565</td>\n",
       "      <td>-0.116364</td>\n",
       "      <td>1.685294</td>\n",
       "      <td>5377.0</td>\n",
       "      <td>34.0</td>\n",
       "    </tr>\n",
       "    <tr>\n",
       "      <th>1</th>\n",
       "      <td>1</td>\n",
       "      <td>5208.0</td>\n",
       "      <td>0.115086</td>\n",
       "      <td>3.062638</td>\n",
       "      <td>1.218684</td>\n",
       "      <td>16199.321289</td>\n",
       "      <td>273.076935</td>\n",
       "      <td>10251.343750</td>\n",
       "      <td>273.333344</td>\n",
       "      <td>278.034241</td>\n",
       "      <td>...</td>\n",
       "      <td>24.0</td>\n",
       "      <td>5208.0</td>\n",
       "      <td>770.0</td>\n",
       "      <td>2.0</td>\n",
       "      <td>32.0</td>\n",
       "      <td>-0.341719</td>\n",
       "      <td>-0.073655</td>\n",
       "      <td>1.890625</td>\n",
       "      <td>3192.0</td>\n",
       "      <td>38.0</td>\n",
       "    </tr>\n",
       "    <tr>\n",
       "      <th>2</th>\n",
       "      <td>2</td>\n",
       "      <td>5504.0</td>\n",
       "      <td>1.123066</td>\n",
       "      <td>3.220341</td>\n",
       "      <td>1.271500</td>\n",
       "      <td>12663.388672</td>\n",
       "      <td>457.200012</td>\n",
       "      <td>6639.671875</td>\n",
       "      <td>461.428558</td>\n",
       "      <td>460.637756</td>\n",
       "      <td>...</td>\n",
       "      <td>267.0</td>\n",
       "      <td>5504.0</td>\n",
       "      <td>1108.0</td>\n",
       "      <td>2.0</td>\n",
       "      <td>262.0</td>\n",
       "      <td>1.048100</td>\n",
       "      <td>-0.303056</td>\n",
       "      <td>1.800191</td>\n",
       "      <td>7106.0</td>\n",
       "      <td>36.0</td>\n",
       "    </tr>\n",
       "    <tr>\n",
       "      <th>3</th>\n",
       "      <td>3</td>\n",
       "      <td>6409.0</td>\n",
       "      <td>0.122709</td>\n",
       "      <td>2.996659</td>\n",
       "      <td>1.231897</td>\n",
       "      <td>17323.265625</td>\n",
       "      <td>294.000000</td>\n",
       "      <td>9758.931641</td>\n",
       "      <td>294.000000</td>\n",
       "      <td>328.353088</td>\n",
       "      <td>...</td>\n",
       "      <td>69.0</td>\n",
       "      <td>6409.0</td>\n",
       "      <td>781.0</td>\n",
       "      <td>3.0</td>\n",
       "      <td>18.0</td>\n",
       "      <td>-0.936900</td>\n",
       "      <td>0.486359</td>\n",
       "      <td>3.430556</td>\n",
       "      <td>2043.0</td>\n",
       "      <td>69.0</td>\n",
       "    </tr>\n",
       "    <tr>\n",
       "      <th>4</th>\n",
       "      <td>4</td>\n",
       "      <td>7604.0</td>\n",
       "      <td>0.230914</td>\n",
       "      <td>3.106559</td>\n",
       "      <td>1.238464</td>\n",
       "      <td>13307.477539</td>\n",
       "      <td>516.086975</td>\n",
       "      <td>5728.506348</td>\n",
       "      <td>516.956543</td>\n",
       "      <td>458.041138</td>\n",
       "      <td>...</td>\n",
       "      <td>40.0</td>\n",
       "      <td>7604.0</td>\n",
       "      <td>844.0</td>\n",
       "      <td>2.0</td>\n",
       "      <td>20.0</td>\n",
       "      <td>0.983542</td>\n",
       "      <td>-0.238853</td>\n",
       "      <td>1.467500</td>\n",
       "      <td>7093.0</td>\n",
       "      <td>29.0</td>\n",
       "    </tr>\n",
       "    <tr>\n",
       "      <th>...</th>\n",
       "      <td>...</td>\n",
       "      <td>...</td>\n",
       "      <td>...</td>\n",
       "      <td>...</td>\n",
       "      <td>...</td>\n",
       "      <td>...</td>\n",
       "      <td>...</td>\n",
       "      <td>...</td>\n",
       "      <td>...</td>\n",
       "      <td>...</td>\n",
       "      <td>...</td>\n",
       "      <td>...</td>\n",
       "      <td>...</td>\n",
       "      <td>...</td>\n",
       "      <td>...</td>\n",
       "      <td>...</td>\n",
       "      <td>...</td>\n",
       "      <td>...</td>\n",
       "      <td>...</td>\n",
       "      <td>...</td>\n",
       "      <td>...</td>\n",
       "    </tr>\n",
       "    <tr>\n",
       "      <th>208433</th>\n",
       "      <td>2922</td>\n",
       "      <td>9990702.0</td>\n",
       "      <td>0.492075</td>\n",
       "      <td>2.951104</td>\n",
       "      <td>1.220878</td>\n",
       "      <td>20997.099609</td>\n",
       "      <td>617.619019</td>\n",
       "      <td>4334.623535</td>\n",
       "      <td>242.800003</td>\n",
       "      <td>622.655579</td>\n",
       "      <td>...</td>\n",
       "      <td>74.0</td>\n",
       "      <td>9990702.0</td>\n",
       "      <td>697.0</td>\n",
       "      <td>0.0</td>\n",
       "      <td>0.0</td>\n",
       "      <td>-999.000000</td>\n",
       "      <td>-999.000000</td>\n",
       "      <td>-999.000000</td>\n",
       "      <td>-999.0</td>\n",
       "      <td>-999.0</td>\n",
       "    </tr>\n",
       "    <tr>\n",
       "      <th>208434</th>\n",
       "      <td>2923</td>\n",
       "      <td>9990704.0</td>\n",
       "      <td>0.492075</td>\n",
       "      <td>2.951104</td>\n",
       "      <td>1.220878</td>\n",
       "      <td>20997.099609</td>\n",
       "      <td>617.619019</td>\n",
       "      <td>4334.623535</td>\n",
       "      <td>242.800003</td>\n",
       "      <td>622.655579</td>\n",
       "      <td>...</td>\n",
       "      <td>19.0</td>\n",
       "      <td>9990704.0</td>\n",
       "      <td>681.0</td>\n",
       "      <td>0.0</td>\n",
       "      <td>0.0</td>\n",
       "      <td>-999.000000</td>\n",
       "      <td>-999.000000</td>\n",
       "      <td>-999.000000</td>\n",
       "      <td>-999.0</td>\n",
       "      <td>-999.0</td>\n",
       "    </tr>\n",
       "    <tr>\n",
       "      <th>208435</th>\n",
       "      <td>2924</td>\n",
       "      <td>9990705.0</td>\n",
       "      <td>0.492075</td>\n",
       "      <td>2.951104</td>\n",
       "      <td>1.220878</td>\n",
       "      <td>20997.099609</td>\n",
       "      <td>617.619019</td>\n",
       "      <td>4334.623535</td>\n",
       "      <td>242.800003</td>\n",
       "      <td>622.655579</td>\n",
       "      <td>...</td>\n",
       "      <td>50.0</td>\n",
       "      <td>9990705.0</td>\n",
       "      <td>739.0</td>\n",
       "      <td>2.0</td>\n",
       "      <td>17.0</td>\n",
       "      <td>-0.097200</td>\n",
       "      <td>1.057174</td>\n",
       "      <td>0.176471</td>\n",
       "      <td>500.0</td>\n",
       "      <td>4.0</td>\n",
       "    </tr>\n",
       "    <tr>\n",
       "      <th>208436</th>\n",
       "      <td>2925</td>\n",
       "      <td>9992906.0</td>\n",
       "      <td>0.016459</td>\n",
       "      <td>2.793726</td>\n",
       "      <td>1.283951</td>\n",
       "      <td>7774.564941</td>\n",
       "      <td>483.333344</td>\n",
       "      <td>6224.595703</td>\n",
       "      <td>483.333344</td>\n",
       "      <td>503.137604</td>\n",
       "      <td>...</td>\n",
       "      <td>25.0</td>\n",
       "      <td>9992906.0</td>\n",
       "      <td>724.0</td>\n",
       "      <td>1.0</td>\n",
       "      <td>19.0</td>\n",
       "      <td>0.566574</td>\n",
       "      <td>0.870576</td>\n",
       "      <td>3.244737</td>\n",
       "      <td>1148.0</td>\n",
       "      <td>65.0</td>\n",
       "    </tr>\n",
       "    <tr>\n",
       "      <th>208437</th>\n",
       "      <td>2926</td>\n",
       "      <td>9995603.0</td>\n",
       "      <td>0.247428</td>\n",
       "      <td>3.095114</td>\n",
       "      <td>1.112453</td>\n",
       "      <td>19641.710938</td>\n",
       "      <td>198.181824</td>\n",
       "      <td>12318.775391</td>\n",
       "      <td>200.833328</td>\n",
       "      <td>196.744888</td>\n",
       "      <td>...</td>\n",
       "      <td>19.0</td>\n",
       "      <td>9995603.0</td>\n",
       "      <td>721.0</td>\n",
       "      <td>2.0</td>\n",
       "      <td>28.0</td>\n",
       "      <td>-0.024734</td>\n",
       "      <td>-0.127019</td>\n",
       "      <td>1.923214</td>\n",
       "      <td>4031.0</td>\n",
       "      <td>38.0</td>\n",
       "    </tr>\n",
       "  </tbody>\n",
       "</table>\n",
       "<p>208438 rows × 25 columns</p>\n",
       "</div>"
      ],
      "text/plain": [
       "        Unnamed: 0   event_id    energy   azimuth  altitude   h_first_int  \\\n",
       "0                0     5200.0  0.115086  3.062638  1.218684  16199.321289   \n",
       "1                1     5208.0  0.115086  3.062638  1.218684  16199.321289   \n",
       "2                2     5504.0  1.123066  3.220341  1.271500  12663.388672   \n",
       "3                3     6409.0  0.122709  2.996659  1.231897  17323.265625   \n",
       "4                4     7604.0  0.230914  3.106559  1.238464  13307.477539   \n",
       "...            ...        ...       ...       ...       ...           ...   \n",
       "208433        2922  9990702.0  0.492075  2.951104  1.220878  20997.099609   \n",
       "208434        2923  9990704.0  0.492075  2.951104  1.220878  20997.099609   \n",
       "208435        2924  9990705.0  0.492075  2.951104  1.220878  20997.099609   \n",
       "208436        2925  9992906.0  0.016459  2.793726  1.283951   7774.564941   \n",
       "208437        2926  9995603.0  0.247428  3.095114  1.112453  19641.710938   \n",
       "\n",
       "              xmax          hmax        emax        cmax  ...  n_pixels  \\\n",
       "0       273.076935  10251.343750  273.333344  278.034241  ...      23.0   \n",
       "1       273.076935  10251.343750  273.333344  278.034241  ...      24.0   \n",
       "2       457.200012   6639.671875  461.428558  460.637756  ...     267.0   \n",
       "3       294.000000   9758.931641  294.000000  328.353088  ...      69.0   \n",
       "4       516.086975   5728.506348  516.956543  458.041138  ...      40.0   \n",
       "...            ...           ...         ...         ...  ...       ...   \n",
       "208433  617.619019   4334.623535  242.800003  622.655579  ...      74.0   \n",
       "208434  617.619019   4334.623535  242.800003  622.655579  ...      19.0   \n",
       "208435  617.619019   4334.623535  242.800003  622.655579  ...      50.0   \n",
       "208436  483.333344   6224.595703  483.333344  503.137604  ...      25.0   \n",
       "208437  198.181824  12318.775391  200.833328  196.744888  ...      19.0   \n",
       "\n",
       "        cluster_event_ID  n_digitalsum_points  n_clusters  n_points  \\\n",
       "0                 5200.0                722.0         2.0      17.0   \n",
       "1                 5208.0                770.0         2.0      32.0   \n",
       "2                 5504.0               1108.0         2.0     262.0   \n",
       "3                 6409.0                781.0         3.0      18.0   \n",
       "4                 7604.0                844.0         2.0      20.0   \n",
       "...                  ...                  ...         ...       ...   \n",
       "208433         9990702.0                697.0         0.0       0.0   \n",
       "208434         9990704.0                681.0         0.0       0.0   \n",
       "208435         9990705.0                739.0         2.0      17.0   \n",
       "208436         9992906.0                724.0         1.0      19.0   \n",
       "208437         9995603.0                721.0         2.0      28.0   \n",
       "\n",
       "            x_mean      y_mean      t_mean  channelID  timeID  \n",
       "0         0.231565   -0.116364    1.685294     5377.0    34.0  \n",
       "1        -0.341719   -0.073655    1.890625     3192.0    38.0  \n",
       "2         1.048100   -0.303056    1.800191     7106.0    36.0  \n",
       "3        -0.936900    0.486359    3.430556     2043.0    69.0  \n",
       "4         0.983542   -0.238853    1.467500     7093.0    29.0  \n",
       "...            ...         ...         ...        ...     ...  \n",
       "208433 -999.000000 -999.000000 -999.000000     -999.0  -999.0  \n",
       "208434 -999.000000 -999.000000 -999.000000     -999.0  -999.0  \n",
       "208435   -0.097200    1.057174    0.176471      500.0     4.0  \n",
       "208436    0.566574    0.870576    3.244737     1148.0    65.0  \n",
       "208437   -0.024734   -0.127019    1.923214     4031.0    38.0  \n",
       "\n",
       "[208438 rows x 25 columns]"
      ]
     },
     "execution_count": 27,
     "metadata": {},
     "output_type": "execute_result"
    }
   ],
   "source": [
    "df_p"
   ]
  },
  {
   "cell_type": "code",
   "execution_count": 33,
   "id": "e10370b8-7528-4b78-a971-e35d0fc52371",
   "metadata": {},
   "outputs": [
    {
     "data": {
      "text/plain": [
       "Text(12.0, 12000.0, 'Std: 0.92 GHz')"
      ]
     },
     "execution_count": 33,
     "metadata": {},
     "output_type": "execute_result"
    },
    {
     "data": {
      "image/png": "[encoded data removed]",
      "text/plain": [
       "<Figure size 700x700 with 1 Axes>"
      ]
     },
     "metadata": {},
     "output_type": "display_data"
    }
   ],
   "source": [
    "fig, ax01 = plt.subplots(figsize=(7,7))\n",
    "\n",
    "df_nsb_['digitalsum_points_rate'].hist(ax = ax01,bins=np.linspace(0,15,50), alpha=0.7, color='b', edgecolor='black', density=False);\n",
    "ax01.set(xlabel='Digital sum micro-cluster rate, GHz', ylabel='');\n",
    "#\n",
    "ax01.yaxis.grid(True)\n",
    "ax01.xaxis.grid(True)\n",
    "ax01.set_yscale('log')\n",
    "\n",
    "ax01.set_xlim(2,16)\n",
    "ax01.set_ylim(1,2*1e+5)\n",
    "\n",
    "\n",
    "# Add mean and std annotations\n",
    "plt.axvline(np.mean(df_nsb_['digitalsum_points_rate']), color='r', linestyle='dashed', linewidth=2)\n",
    "plt.text(12.0, 2.2e+4, f'Mean: {np.mean(df_nsb_['digitalsum_points_rate']):.2f} GHz', color='k')\n",
    "\n",
    "# Add mean and std annotations\n",
    "plt.axvline(np.mean(df_nsb_['digitalsum_points_rate']) + 2*np.std(df_nsb_['digitalsum_points_rate']), \n",
    "            color='k', linestyle='dashed', linewidth=2)\n",
    "plt.axvline(np.mean(df_nsb_['digitalsum_points_rate']) - 2*np.std(df_nsb_['digitalsum_points_rate']), \n",
    "            color='k', linestyle='dashed', linewidth=2)\n",
    "plt.text(12.0, 1.2e+4, f'Std: {np.std(df_nsb_['digitalsum_points_rate']):.2f} GHz', color='k')"
   ]
  },
  {
   "cell_type": "code",
   "execution_count": 34,
   "id": "55ad8ded-12f3-4c31-b10e-c513c628e5ce",
   "metadata": {},
   "outputs": [
    {
     "data": {
      "image/png": "[encoded data removed]",
      "text/plain": [
       "<Figure size 700x700 with 1 Axes>"
      ]
     },
     "metadata": {},
     "output_type": "display_data"
    }
   ],
   "source": [
    "fig, ax02 = plt.subplots(figsize=(7,7))\n",
    "\n",
    "df_nsb_['n_points'].hist(ax = ax02,bins=np.linspace(0,70,70), alpha=0.7, color='b', edgecolor='black', density=False);\n",
    "#\n",
    "ax02.yaxis.grid(True)\n",
    "ax02.xaxis.grid(True)\n",
    "ax02.set_yscale('log')"
   ]
  },
  {
   "cell_type": "code",
   "execution_count": 35,
   "id": "dba90072-0597-4705-92eb-b64df2f95111",
   "metadata": {},
   "outputs": [],
   "source": [
    "rate_vs_th=[len(df_nsb_[df_nsb_['n_points']>=i])/len(df_nsb_['n_points'])*1.0/(1000.0/1024*75*1.0e-9) for i in np.arange(1,70)]"
   ]
  },
  {
   "cell_type": "code",
   "execution_count": 36,
   "id": "401bce6f-3498-41a6-8c6e-e3dfdebaa83d",
   "metadata": {},
   "outputs": [
    {
     "data": {
      "text/plain": [
       "array([False, False, False, False, False, False, False, False, False,\n",
       "       False, False, False, False, False, False, False, False, False,\n",
       "       False, False, False, False, False, False, False, False, False,\n",
       "       False, False, False, False, False, False, False, False, False,\n",
       "       False,  True,  True,  True,  True,  True,  True,  True,  True,\n",
       "        True,  True,  True,  True,  True,  True,  True,  True,  True,\n",
       "        True,  True,  True,  True,  True,  True,  True,  True,  True,\n",
       "        True,  True,  True,  True,  True,  True])"
      ]
     },
     "execution_count": 36,
     "metadata": {},
     "output_type": "execute_result"
    }
   ],
   "source": [
    "np.array(rate_vs_th)<30000"
   ]
  },
  {
   "cell_type": "code",
   "execution_count": 39,
   "id": "ac8d6f89-85c7-4230-853b-e71d18cd9a84",
   "metadata": {},
   "outputs": [
    {
     "data": {
      "text/plain": [
       "[Text(0.5, 0, 'Number of points in the DBSCAN cluster'),\n",
       " Text(0, 0.5, 'Rete, Hz')]"
      ]
     },
     "execution_count": 39,
     "metadata": {},
     "output_type": "execute_result"
    },
    {
     "data": {
      "image/png": "[encoded data removed]",
      "text/plain": [
       "<Figure size 700x700 with 1 Axes>"
      ]
     },
     "metadata": {},
     "output_type": "display_data"
    }
   ],
   "source": [
    "fig, ax03 = plt.subplots(figsize=(7,7))\n",
    "\n",
    "#plt.plot(rate_vs_th,ax = ax03, alpha=0.7, color='b', density=False)\n",
    "#ax03.scatter(np.arange(len(rate_vs_th)), rate_vs_th, c='r', lw =2, ls=\"-\")\n",
    "#ax03.plot(rate_vs_th, 'o-', c='k', lw =2, ls=\"-\",mfc='red', mec='k')\n",
    "ax03.plot(rate_vs_th, 'o-', c='k', lw =2, mfc='red', mec='k')\n",
    "#\n",
    "ax03.yaxis.grid(True)\n",
    "ax03.xaxis.grid(True)\n",
    "ax03.set_yscale('log')\n",
    "#\n",
    "plt.hlines(30000.0,0,37, color='g', linestyle='-.', linewidth=2, label='30 kHz rate')\n",
    "plt.vlines(37,1,30000.0, color='g', linestyle='--', linewidth=2, label='threshold')\n",
    "#\n",
    "plt.legend()\n",
    "#plt.title(\"sdsdsd: \"r'$\\mu$')\n",
    "plt.title('NSB at 386 MHz')\n",
    "#\n",
    "ax03.set(xlabel='Number of points in the DBSCAN cluster', ylabel='Rete, Hz')"
   ]
  },
  {
   "cell_type": "code",
   "execution_count": 40,
   "id": "6a5bbea9-f281-4428-817f-898fbda19040",
   "metadata": {},
   "outputs": [
    {
     "data": {
      "text/plain": [
       "13653333.333333332"
      ]
     },
     "execution_count": 40,
     "metadata": {},
     "output_type": "execute_result"
    }
   ],
   "source": [
    "1.0/(1000.0/1024*75*1.0e-9)"
   ]
  },
  {
   "cell_type": "code",
   "execution_count": 41,
   "id": "f9806c69-e136-4165-b579-18a8648ec571",
   "metadata": {},
   "outputs": [
    {
     "data": {
      "text/plain": [
       "<Axes: >"
      ]
     },
     "execution_count": 41,
     "metadata": {},
     "output_type": "execute_result"
    },
    {
     "data": {
      "image/png": "[encoded data removed]",
      "text/plain": [
       "<Figure size 640x480 with 1 Axes>"
      ]
     },
     "metadata": {},
     "output_type": "display_data"
    }
   ],
   "source": [
    "df_nsb_[df_nsb_['t_mean']>0]['t_mean'].hist(bins=30)"
   ]
  },
  {
   "cell_type": "code",
   "execution_count": 42,
   "id": "72bbb503-2ecc-401e-821c-8d4ba151aec9",
   "metadata": {},
   "outputs": [
    {
     "data": {
      "text/plain": [
       "<Axes: >"
      ]
     },
     "execution_count": 42,
     "metadata": {},
     "output_type": "execute_result"
    },
    {
     "data": {
      "image/png": "[encoded data removed]",
      "text/plain": [
       "<Figure size 640x480 with 1 Axes>"
      ]
     },
     "metadata": {},
     "output_type": "display_data"
    }
   ],
   "source": [
    "df_nsb_['n_points'].hist(bins=100)"
   ]
  },
  {
   "cell_type": "code",
   "execution_count": 43,
   "id": "61a0cd31-922c-46d8-8e9d-8ba00fd2eb75",
   "metadata": {},
   "outputs": [
    {
     "data": {
      "image/png": "[encoded data removed]",
      "text/plain": [
       "<Figure size 1200x500 with 1 Axes>"
      ]
     },
     "metadata": {},
     "output_type": "display_data"
    }
   ],
   "source": [
    "fig, ax04 = plt.subplots(figsize=(12,5))\n",
    "\n",
    "df_nsb_['n_points'].hist(ax = ax04,bins=100);\n",
    "ax04.set(xlabel='',ylabel='Occupancy');\n",
    "#\n",
    "ax04.yaxis.grid(True)\n",
    "ax04.xaxis.grid(True)\n",
    "ax04.set_yscale('log')"
   ]
  },
  {
   "cell_type": "code",
   "execution_count": 44,
   "id": "7fc1f629-0c6f-4911-b061-6bf385cca431",
   "metadata": {},
   "outputs": [
    {
     "data": {
      "text/plain": [
       "167254.41385995055"
      ]
     },
     "execution_count": 44,
     "metadata": {},
     "output_type": "execute_result"
    }
   ],
   "source": [
    "len(df_p[df_p['n_pe']>30])/71.0/1000000.0*get_proton_flux_pers( E_proton_min, E_proton_max, theta_proton_min_deg, theta_proton_max_deg, R_proton)"
   ]
  },
  {
   "cell_type": "code",
   "execution_count": 45,
   "id": "b72afed9-fc09-4859-9ba3-e420f744c9af",
   "metadata": {},
   "outputs": [
    {
     "data": {
      "text/plain": [
       "[Text(0.5, 0, 'E, GeV'), Text(0, 0.5, '')]"
      ]
     },
     "execution_count": 45,
     "metadata": {},
     "output_type": "execute_result"
    },
    {
     "data": {
      "image/png": "[encoded data removed]",
      "text/plain": [
       "<Figure size 700x700 with 1 Axes>"
      ]
     },
     "metadata": {},
     "output_type": "display_data"
    }
   ],
   "source": [
    "fig, ax05 = plt.subplots(figsize=(7,7))\n",
    "\n",
    "#plt.plot(rate_vs_th,ax = ax03, alpha=0.7, color='b', density=False)\n",
    "#ax03.scatter(np.arange(len(rate_vs_th)), rate_vs_th, c='r', lw =2, ls=\"-\")\n",
    "#ax03.plot(rate_vs_th, 'o-', c='k', lw =2, ls=\"-\",mfc='red', mec='k')\n",
    "#ax05.hist(df_nsb['energy']*1000,bins=np.logspace(1, 5, num=21))\n",
    "ax05.hist(df_nsb['energy']*1000,bins=np.logspace(1, 5, num=50),color='r', alpha=0.3)\n",
    "ax05.hist(generate_random_1_over_x_squared(len(df_nsb), 10, 100000),bins=np.logspace(1, 5, num=50),color='b', alpha=0.3)\n",
    "#\n",
    "ax05.yaxis.grid(True)\n",
    "ax05.xaxis.grid(True)\n",
    "ax05.set_yscale('log')\n",
    "ax05.set_xscale('log')\n",
    "ax05.set_xlim(9,110000)\n",
    "ax05.set_ylim(1,2*1e+5)\n",
    "#\n",
    "#plt.hlines(30000.0,0,34, color='g', linestyle='-.', linewidth=2, label='30 kHz rate')\n",
    "#plt.vlines(34,1,30000.0, color='g', linestyle='--', linewidth=2, label='threshold')\n",
    "#\n",
    "#plt.legend()\n",
    "#plt.title(\"sdsdsd: \"r'$\\mu$')\n",
    "#plt.title('NSB at 386 MHz')\n",
    "#\n",
    "ax05.set(xlabel='E, GeV', ylabel='')"
   ]
  },
  {
   "cell_type": "code",
   "execution_count": 46,
   "id": "3bbdd149-e566-49dd-b86e-c9bb1f8e3e3e",
   "metadata": {},
   "outputs": [
    {
     "data": {
      "text/plain": [
       "[Text(0.5, 0, 'E, GeV'), Text(0, 0.5, '')]"
      ]
     },
     "execution_count": 46,
     "metadata": {},
     "output_type": "execute_result"
    },
    {
     "data": {
      "image/png": "[encoded data removed]",
      "text/plain": [
       "<Figure size 700x700 with 1 Axes>"
      ]
     },
     "metadata": {},
     "output_type": "display_data"
    }
   ],
   "source": [
    "fig, ax06 = plt.subplots(figsize=(7,7))\n",
    "#\n",
    "ax06.hist(generate_random_1_over_x_squared(len(df_nsb)*100, 10, 100000),bins=np.logspace(1, 5, num=50),color='r', alpha=0.3)\n",
    "#\n",
    "ax06.yaxis.grid(True)\n",
    "ax06.xaxis.grid(True)\n",
    "ax06.set_yscale('log')\n",
    "ax06.set_xscale('log')\n",
    "ax06.set_xlim(9,110000)\n",
    "ax06.set_ylim(1,2*1e+7)\n",
    "#\n",
    "ax06.set(xlabel='E, GeV', ylabel='')"
   ]
  },
  {
   "cell_type": "code",
   "execution_count": 47,
   "id": "072a2e1f-1d2f-4cdd-8a54-6f99d8e195c7",
   "metadata": {},
   "outputs": [
    {
     "data": {
      "text/plain": [
       "array([[1.00000000e+01, 1.58489319e+01, 2.51188643e+01, 3.98107171e+01,\n",
       "        6.30957344e+01],\n",
       "       [1.00000000e+02, 1.58489319e+02, 2.51188643e+02, 3.98107171e+02,\n",
       "        6.30957344e+02],\n",
       "       [1.00000000e+03, 1.58489319e+03, 2.51188643e+03, 3.98107171e+03,\n",
       "        6.30957344e+03],\n",
       "       [1.00000000e+04, 1.58489319e+04, 2.51188643e+04, 3.98107171e+04,\n",
       "        6.30957344e+04]])"
      ]
     },
     "execution_count": 47,
     "metadata": {},
     "output_type": "execute_result"
    }
   ],
   "source": [
    "np.logspace(1, 5, num=21)[:-1].reshape(4,5)"
   ]
  },
  {
   "cell_type": "code",
   "execution_count": 48,
   "id": "144efdab-ddbf-4ac7-b76c-125135a1a724",
   "metadata": {},
   "outputs": [
    {
     "data": {
      "text/plain": [
       "710000"
      ]
     },
     "execution_count": 48,
     "metadata": {},
     "output_type": "execute_result"
    }
   ],
   "source": [
    "len(df_nsb)"
   ]
  },
  {
   "cell_type": "code",
   "execution_count": 49,
   "id": "a60ad0e0-629f-411f-8031-3e74be88c400",
   "metadata": {},
   "outputs": [
    {
     "data": {
      "text/plain": [
       "array([4.15373802, 3.99216441, 3.41469339, ..., 4.13492537, 3.44140698,\n",
       "       5.00306218])"
      ]
     },
     "execution_count": 49,
     "metadata": {},
     "output_type": "execute_result"
    }
   ],
   "source": [
    "np.sqrt(1.0/(np.random.uniform(1/10, 1/100000, len(df_nsb))))"
   ]
  },
  {
   "cell_type": "code",
   "execution_count": 50,
   "id": "e002ff21-1d37-4349-9332-434753f69c5a",
   "metadata": {},
   "outputs": [
    {
     "data": {
      "text/plain": [
       "0.1"
      ]
     },
     "execution_count": 50,
     "metadata": {},
     "output_type": "execute_result"
    }
   ],
   "source": [
    "1/10"
   ]
  },
  {
   "cell_type": "code",
   "execution_count": 51,
   "id": "ffe7d2df-4f74-4856-89e5-667e950e76de",
   "metadata": {},
   "outputs": [
    {
     "name": "stdout",
     "output_type": "stream",
     "text": [
      "range(0, 5)\n"
     ]
    }
   ],
   "source": [
    "print(range(5))"
   ]
  },
  {
   "cell_type": "code",
   "execution_count": 52,
   "id": "bed02599-cb38-4799-8da1-55997881057d",
   "metadata": {},
   "outputs": [
    {
     "data": {
      "text/plain": [
       "(array([ 0.,  0.,  0.,  0.,  0.,  0.,  0.,  0.,  0.,  1.,  1.,  3.,  8.,\n",
       "        27., 27., 20.,  8.,  4.,  1.,  0.,  0.,  0.,  0.,  0.,  0.,  0.,\n",
       "         0.,  0.,  0.]),\n",
       " array([ 0.        ,  0.68965517,  1.37931034,  2.06896552,  2.75862069,\n",
       "         3.44827586,  4.13793103,  4.82758621,  5.51724138,  6.20689655,\n",
       "         6.89655172,  7.5862069 ,  8.27586207,  8.96551724,  9.65517241,\n",
       "        10.34482759, 11.03448276, 11.72413793, 12.4137931 , 13.10344828,\n",
       "        13.79310345, 14.48275862, 15.17241379, 15.86206897, 16.55172414,\n",
       "        17.24137931, 17.93103448, 18.62068966, 19.31034483, 20.        ]),\n",
       " <BarContainer object of 29 artists>)"
      ]
     },
     "execution_count": 52,
     "metadata": {},
     "output_type": "execute_result"
    },
    {
     "data": {
      "image/png": "[encoded data removed]",
      "text/plain": [
       "<Figure size 640x480 with 1 Axes>"
      ]
     },
     "metadata": {},
     "output_type": "display_data"
    }
   ],
   "source": [
    "plt.hist(np.random.normal( 10, 1, 100),bins=np.linspace(0,20,30))"
   ]
  },
  {
   "cell_type": "code",
   "execution_count": null,
   "id": "686c8c38-6295-4aad-a675-b95dbc86c27b",
   "metadata": {},
   "outputs": [],
   "source": []
  },
  {
   "cell_type": "code",
   "execution_count": 53,
   "id": "58d0b9c1-3a09-4352-ab91-8fe92a95ff02",
   "metadata": {},
   "outputs": [],
   "source": [
    "data_raw=np.random.normal( 10, 1, 100)"
   ]
  },
  {
   "cell_type": "code",
   "execution_count": 54,
   "id": "89c5e65e-29d1-4d6f-afa3-963345234591",
   "metadata": {},
   "outputs": [
    {
     "data": {
      "image/png": "[encoded data removed]",
      "text/plain": [
       "<Figure size 640x480 with 1 Axes>"
      ]
     },
     "metadata": {},
     "output_type": "display_data"
    }
   ],
   "source": [
    "data=plt.hist(data_raw,bins=np.linspace(7,13,30))"
   ]
  },
  {
   "cell_type": "code",
   "execution_count": null,
   "id": "1b47bf45-2b60-40f6-9c66-67c356e06e10",
   "metadata": {},
   "outputs": [],
   "source": []
  },
  {
   "cell_type": "code",
   "execution_count": 55,
   "id": "778fa91c-95aa-415d-966d-0b5c79c9aba6",
   "metadata": {},
   "outputs": [
    {
     "data": {
      "text/plain": [
       "29"
      ]
     },
     "execution_count": 55,
     "metadata": {},
     "output_type": "execute_result"
    }
   ],
   "source": [
    "len(data[0])"
   ]
  },
  {
   "cell_type": "code",
   "execution_count": 56,
   "id": "f01a123b-0c31-47d2-9bbd-7e6618873c42",
   "metadata": {},
   "outputs": [],
   "source": [
    "def gauss(x, ampl, mean, sigma):\n",
    "    p = [ampl, mean, sigma]\n",
    "    return p[0]* np.exp(-((x-p[1])**2/(2*p[2]**2)))"
   ]
  },
  {
   "cell_type": "code",
   "execution_count": 57,
   "id": "99628b2d-ed83-449d-93e6-f8db46b5f552",
   "metadata": {},
   "outputs": [],
   "source": [
    "p0 = [20., 10., 1.0]"
   ]
  },
  {
   "cell_type": "code",
   "execution_count": 58,
   "id": "63bf9843-778b-4a04-bdda-de9e38a8acb5",
   "metadata": {},
   "outputs": [],
   "source": [
    "fit1, tmp1 = curve_fit(gauss, xdata=data[1][:-1], ydata=data[0], p0=p0)"
   ]
  },
  {
   "cell_type": "code",
   "execution_count": 59,
   "id": "cc7c59a3-177f-4f55-b414-897820c072d6",
   "metadata": {},
   "outputs": [
    {
     "data": {
      "text/plain": [
       "<matplotlib.legend.Legend at 0x7939b345dd60>"
      ]
     },
     "execution_count": 59,
     "metadata": {},
     "output_type": "execute_result"
    },
    {
     "data": {
      "image/png": "[encoded data removed]",
      "text/plain": [
       "<Figure size 640x480 with 1 Axes>"
      ]
     },
     "metadata": {},
     "output_type": "display_data"
    }
   ],
   "source": [
    "plt.plot(data[1][:-1], data[0], label='data')\n",
    "plt.plot(data[1][:-1], gauss(data[1][:-1], *fit1), 'r--', label='fit')\n",
    "\n",
    "plt.legend()"
   ]
  },
  {
   "cell_type": "code",
   "execution_count": 60,
   "id": "0b424a6d-0213-459b-a45b-dea62b6e666f",
   "metadata": {},
   "outputs": [
    {
     "data": {
      "text/plain": [
       "array([[ 4.50391847e-01, -7.30632471e-05, -4.78454802e-02],\n",
       "       [-7.30632471e-05,  1.47806037e-02,  2.71848931e-05],\n",
       "       [-4.78454802e-02,  2.71848931e-05,  1.50781938e-02]])"
      ]
     },
     "execution_count": 60,
     "metadata": {},
     "output_type": "execute_result"
    }
   ],
   "source": [
    "tmp1"
   ]
  },
  {
   "cell_type": "code",
   "execution_count": 61,
   "id": "cd3105c9-06ea-4861-b2b6-52e33ea45a8b",
   "metadata": {},
   "outputs": [
    {
     "data": {
      "text/plain": [
       "0.7628296372368839"
      ]
     },
     "execution_count": 61,
     "metadata": {},
     "output_type": "execute_result"
    }
   ],
   "source": [
    "(np.sqrt(1.00190752)/np.sqrt(1000))/np.sqrt(1.72175963e-03)"
   ]
  },
  {
   "cell_type": "code",
   "execution_count": 62,
   "id": "2eac5c41-48ef-45e9-b254-5dcfc3d082af",
   "metadata": {},
   "outputs": [
    {
     "data": {
      "text/plain": [
       "array([7.29257949, 9.94941653, 1.14561328])"
      ]
     },
     "execution_count": 62,
     "metadata": {},
     "output_type": "execute_result"
    }
   ],
   "source": [
    "fit1"
   ]
  },
  {
   "cell_type": "code",
   "execution_count": 63,
   "id": "462401e4-7aa0-4aba-aae5-176002a35643",
   "metadata": {},
   "outputs": [
    {
     "data": {
      "text/plain": [
       "0.032418845290972345"
      ]
     },
     "execution_count": 63,
     "metadata": {},
     "output_type": "execute_result"
    }
   ],
   "source": [
    "np.sqrt(1.05098153e-03)"
   ]
  },
  {
   "cell_type": "code",
   "execution_count": 64,
   "id": "ed3c93ad-4199-454d-9f7e-d59eb615243e",
   "metadata": {},
   "outputs": [
    {
     "data": {
      "text/plain": [
       "0.034751669172976944"
      ]
     },
     "execution_count": 64,
     "metadata": {},
     "output_type": "execute_result"
    }
   ],
   "source": [
    "np.std(data_raw)/np.sqrt(1000)"
   ]
  },
  {
   "cell_type": "code",
   "execution_count": 65,
   "id": "28e211b4-7a1c-4ed5-93cc-1125a51df744",
   "metadata": {},
   "outputs": [
    {
     "data": {
      "text/plain": [
       "1.1062936434111441"
      ]
     },
     "execution_count": 65,
     "metadata": {},
     "output_type": "execute_result"
    }
   ],
   "source": [
    "np.sqrt(tmp1[1,1])/(np.std(data_raw)/np.sqrt(100))"
   ]
  },
  {
   "cell_type": "code",
   "execution_count": 66,
   "id": "ad71b0bc-6791-4c04-88b9-d77898343bdb",
   "metadata": {},
   "outputs": [
    {
     "data": {
      "text/plain": [
       "[Text(0.5, 0, 'E, GeV'), Text(0, 0.5, '')]"
      ]
     },
     "execution_count": 66,
     "metadata": {},
     "output_type": "execute_result"
    },
    {
     "data": {
      "image/png": "[encoded data removed]",
      "text/plain": [
       "<Figure size 700x700 with 1 Axes>"
      ]
     },
     "metadata": {},
     "output_type": "display_data"
    }
   ],
   "source": [
    "fig, ax07 = plt.subplots(figsize=(7,7))\n",
    "\n",
    "ax07.hist(df_p['energy']*1000,bins=np.logspace(1, 5, num=50),color='r', alpha=0.3)\n",
    "#\n",
    "ax07.yaxis.grid(True)\n",
    "ax07.xaxis.grid(True)\n",
    "ax07.set_yscale('log')\n",
    "ax07.set_xscale('log')\n",
    "ax07.set_xlim(9,110000)\n",
    "ax07.set_ylim(1,2*1e+5)\n",
    "#\n",
    "ax07.set(xlabel='E, GeV', ylabel='')"
   ]
  },
  {
   "cell_type": "code",
   "execution_count": 67,
   "id": "813e3d81-2a8f-4314-9f9b-afb52c456281",
   "metadata": {},
   "outputs": [
    {
     "data": {
      "text/plain": [
       "[Text(0.5, 0, 'E, GeV'), Text(0, 0.5, '')]"
      ]
     },
     "execution_count": 67,
     "metadata": {},
     "output_type": "execute_result"
    },
    {
     "data": {
      "image/png": "[encoded data removed]",
      "text/plain": [
       "<Figure size 700x700 with 1 Axes>"
      ]
     },
     "metadata": {},
     "output_type": "display_data"
    }
   ],
   "source": [
    "fig, ax08 = plt.subplots(figsize=(7,7))\n",
    "\n",
    "#ax08.hist(df_g['energy']*1000,bins=np.logspace(0, 5, num=50),color='r', alpha=0.3)\n",
    "ax08.hist(df_g[df_g['n_points']>36]['energy']*1000,bins=np.logspace(0, 5, num=100),color='b', alpha=0.3)\n",
    "#\n",
    "ax08.yaxis.grid(True)\n",
    "ax08.xaxis.grid(True)\n",
    "#ax08.set_yscale('log')\n",
    "#ax08.set_xscale('log')\n",
    "#ax08.set_xlim(9,110000)\n",
    "ax08.set_xlim(9,40)\n",
    "#ax08.set_ylim(1,2*1e+5)\n",
    "#\n",
    "ax08.set(xlabel='E, GeV', ylabel='')"
   ]
  },
  {
   "cell_type": "code",
   "execution_count": 68,
   "id": "283b31e0-53e3-49fc-accc-c3135694c732",
   "metadata": {},
   "outputs": [
    {
     "data": {
      "text/plain": [
       "0.0029357464788732396"
      ]
     },
     "execution_count": 68,
     "metadata": {},
     "output_type": "execute_result"
    }
   ],
   "source": [
    "len(df_p)/71/1e+6"
   ]
  },
  {
   "cell_type": "code",
   "execution_count": 69,
   "id": "6e726cf2-2c8e-437e-8428-ffed643f12fd",
   "metadata": {},
   "outputs": [
    {
     "data": {
      "text/plain": [
       "[Text(0.5, 0, 'E, GeV'), Text(0, 0.5, '')]"
      ]
     },
     "execution_count": 69,
     "metadata": {},
     "output_type": "execute_result"
    },
    {
     "data": {
      "image/png": "[encoded data removed]",
      "text/plain": [
       "<Figure size 700x700 with 1 Axes>"
      ]
     },
     "metadata": {},
     "output_type": "display_data"
    }
   ],
   "source": [
    "fig, ax09 = plt.subplots(figsize=(7,7))\n",
    "#\n",
    "hist_p_info=ax09.hist(df_p[df_p['n_pe']>=30]['energy']*1000,bins=np.logspace(1, 5, num=50),color='r', alpha=0.5)\n",
    "hist_p_all_info=ax09.hist(generate_random_1_over_x_squared(int(71*1e+6), 10, 100000),bins=np.logspace(1, 5, num=50),color='b', alpha=0.3)\n",
    "#\n",
    "ax09.yaxis.grid(True)\n",
    "ax09.xaxis.grid(True)\n",
    "ax09.set_yscale('log')\n",
    "ax09.set_xscale('log')\n",
    "#ax08.set_xlim(9,110000)\n",
    "#ax08.set_xlim(9,100)\n",
    "#ax08.set_ylim(1,2*1e+5)\n",
    "#\n",
    "ax09.set(xlabel='E, GeV', ylabel='')"
   ]
  },
  {
   "cell_type": "code",
   "execution_count": null,
   "id": "64e5fcdd-d61e-440c-8cb6-f62ac4c3308d",
   "metadata": {},
   "outputs": [],
   "source": []
  },
  {
   "cell_type": "code",
   "execution_count": 70,
   "id": "af5bf9b5-4b4c-4c91-8608-ca8f772ba082",
   "metadata": {},
   "outputs": [
    {
     "data": {
      "text/plain": [
       "array([1.10339632e+01, 1.33157056e+01, 1.60692955e+01, 1.93923076e+01,\n",
       "       2.34024941e+01, 2.82419576e+01, 3.40821866e+01, 4.11301319e+01,\n",
       "       4.96355405e+01, 5.98998050e+01, 7.22866439e+01, 8.72349899e+01,\n",
       "       1.05274544e+02, 1.27044545e+02, 1.53316422e+02, 1.85021129e+02,\n",
       "       2.23282137e+02, 2.69455240e+02, 3.25176600e+02, 3.92420728e+02,\n",
       "       4.73570447e+02, 5.71501330e+02, 6.89683599e+02, 8.32305092e+02,\n",
       "       1.00441966e+03, 1.21212625e+03, 1.46278504e+03, 1.76527822e+03,\n",
       "       2.13032477e+03, 2.57086025e+03, 3.10249523e+03, 3.74406842e+03,\n",
       "       4.51831421e+03, 5.45266834e+03, 6.58024002e+03, 7.94098523e+03,\n",
       "       9.58312254e+03, 1.15648418e+04, 1.39563659e+04, 1.68424397e+04,\n",
       "       2.03253323e+04, 2.45284614e+04, 2.96007667e+04, 3.57219874e+04,\n",
       "       4.31090315e+04, 5.20236620e+04, 6.27817724e+04, 7.57645809e+04,\n",
       "       9.14321386e+04])"
      ]
     },
     "execution_count": 70,
     "metadata": {},
     "output_type": "execute_result"
    }
   ],
   "source": [
    "get_bin_centers(hist_p_info)"
   ]
  },
  {
   "cell_type": "code",
   "execution_count": 71,
   "id": "c0d8884f-861c-472f-b118-773da4a5db72",
   "metadata": {},
   "outputs": [],
   "source": [
    "#fig, ax10 = plt.subplots(figsize=(7,7))\n",
    "#\n",
    "#hist_p_info=ax10.hist(df_p['energy']*1000,bins=np.logspace(1, 5, num=50),color='r', alpha=0.5)\n",
    "#hist_p_all_info=ax10.hist(generate_random_1_over_x_squared(int(71*1e+6), 10, 100000),bins=np.logspace(1, 5, num=50),color='b', alpha=0.3)\n",
    "#\n",
    "#ax10.yaxis.grid(True)\n",
    "#ax10.xaxis.grid(True)\n",
    "#ax10.set_yscale('log')\n",
    "#ax10.set_xscale('log')\n",
    "#ax08.set_xlim(9,110000)\n",
    "#ax10.set_xlim(9,100)\n",
    "#ax08.set_ylim(1,2*1e+5)\n",
    "#\n",
    "#ax10.set(xlabel='E, GeV', ylabel='')\n",
    "#for c in get_bin_centers(hist_p_info):\n",
    "#    plt.vlines(c,1,30000.0, color='g', linestyle='--', linewidth=2, label='threshold')"
   ]
  },
  {
   "cell_type": "code",
   "execution_count": 72,
   "id": "ff6bdf54-1bcf-40d6-9c87-66da2b1f796d",
   "metadata": {},
   "outputs": [
    {
     "data": {
      "image/png": "[encoded data removed]",
      "text/plain": [
       "<Figure size 700x700 with 1 Axes>"
      ]
     },
     "metadata": {},
     "output_type": "display_data"
    }
   ],
   "source": [
    "fig, ax11 = plt.subplots(figsize=(7,7))\n",
    "\n",
    "#ax11.plot(get_bin_centers(hist_p_info),hist_p_info[0]/hist_p_all_info[0], c='r', lw = 2, ls=\"-\")\n",
    "ax11.plot(get_bin_centers(hist_p_info),hist_p_info[0]/hist_p_all_info[0], 'o-', c='k', lw =2, mfc='red', mec='k')\n",
    "#\n",
    "ax11.yaxis.grid(True)\n",
    "ax11.xaxis.grid(True)\n",
    "ax11.set_yscale('log')\n",
    "ax11.set_xscale('log')\n",
    "#\n",
    "#plt.hlines(30000.0,0,34, color='g', linestyle='-.', linewidth=2, label='30 kHz rate')\n",
    "#plt.vlines(34,1,30000.0, color='g', linestyle='--', linewidth=2, label='threshold')\n",
    "#\n",
    "#plt.legend()\n",
    "#plt.title(\"sdsdsd: \"r'$\\mu$')\n",
    "#plt.title('NSB at 386 MHz')\n",
    "#\n",
    "#ax03.set(xlabel='Number of points in the DBSCAN cluster', ylabel='Rete, Hz')"
   ]
  },
  {
   "cell_type": "code",
   "execution_count": 73,
   "id": "3097af54-cf34-484e-a953-ba682d873a91",
   "metadata": {},
   "outputs": [
    {
     "data": {
      "text/plain": [
       "3.397678499942806"
      ]
     },
     "execution_count": 73,
     "metadata": {},
     "output_type": "execute_result"
    }
   ],
   "source": [
    "np.sum(hist_p_info[0]/hist_p_all_info[0])"
   ]
  },
  {
   "cell_type": "code",
   "execution_count": 74,
   "id": "038e337d-515d-47e6-8b78-f419a821a377",
   "metadata": {},
   "outputs": [
    {
     "name": "stdout",
     "output_type": "stream",
     "text": [
      "[1.20679264e+01 1.45634848e+01 1.75751062e+01 2.12095089e+01\n",
      " 2.55954792e+01 3.08884360e+01 3.72759372e+01 4.49843267e+01\n",
      " 5.42867544e+01 6.55128557e+01 7.90604321e+01 9.54095476e+01\n",
      " 1.15139540e+02 1.38949549e+02 1.67683294e+02 2.02358965e+02\n",
      " 2.44205309e+02 2.94705170e+02 3.55648031e+02 4.29193426e+02\n",
      " 5.17947468e+02 6.25055193e+02 7.54312006e+02 9.10298178e+02\n",
      " 1.09854114e+03 1.32571137e+03 1.59985872e+03 1.93069773e+03\n",
      " 2.32995181e+03 2.81176870e+03 3.39322177e+03 4.09491506e+03\n",
      " 4.94171336e+03 5.96362332e+03 7.19685673e+03 8.68511374e+03\n",
      " 1.04811313e+04 1.26485522e+04 1.52641797e+04 1.84206997e+04\n",
      " 2.22299648e+04 2.68269580e+04 3.23745754e+04 3.90693994e+04\n",
      " 4.71486636e+04 5.68986603e+04 6.86648845e+04 8.28642773e+04\n",
      " 1.00000000e+05]\n"
     ]
    }
   ],
   "source": [
    "print(get_bin_min_max(hist_p_info)[:,1])"
   ]
  },
  {
   "cell_type": "code",
   "execution_count": 75,
   "id": "df709aa1-d878-44f2-a1a8-ba98d93914ea",
   "metadata": {},
   "outputs": [
    {
     "name": "stdout",
     "output_type": "stream",
     "text": [
      "49\n",
      "49\n"
     ]
    }
   ],
   "source": [
    "print(len(hist_p_info[1][:-1]))\n",
    "print(len(hist_p_info[1][1:]))"
   ]
  },
  {
   "cell_type": "code",
   "execution_count": 76,
   "id": "5b79e846-77fe-4d26-8686-fdf53b94925a",
   "metadata": {},
   "outputs": [
    {
     "data": {
      "text/plain": [
       "array([0.00000000e+00, 0.00000000e+00, 1.00000000e+01, 1.20679264e+01,\n",
       "       1.45634848e+01, 1.75751062e+01, 2.12095089e+01, 2.55954792e+01,\n",
       "       3.08884360e+01, 3.72759372e+01, 4.49843267e+01, 5.42867544e+01,\n",
       "       6.55128557e+01, 7.90604321e+01, 9.54095476e+01, 1.15139540e+02,\n",
       "       1.38949549e+02, 1.67683294e+02, 2.02358965e+02, 2.44205309e+02,\n",
       "       2.94705170e+02, 3.55648031e+02, 4.29193426e+02, 5.17947468e+02,\n",
       "       6.25055193e+02, 7.54312006e+02, 9.10298178e+02, 1.09854114e+03,\n",
       "       1.32571137e+03, 1.59985872e+03, 1.93069773e+03, 2.32995181e+03,\n",
       "       2.81176870e+03, 3.39322177e+03, 4.09491506e+03, 4.94171336e+03,\n",
       "       5.96362332e+03, 7.19685673e+03, 8.68511374e+03, 1.04811313e+04,\n",
       "       1.26485522e+04, 1.52641797e+04, 1.84206997e+04, 2.22299648e+04,\n",
       "       2.68269580e+04, 3.23745754e+04, 3.90693994e+04, 4.71486636e+04,\n",
       "       5.68986603e+04, 6.86648845e+04, 8.28642773e+04, 1.00000000e+05])"
      ]
     },
     "execution_count": 76,
     "metadata": {},
     "output_type": "execute_result"
    }
   ],
   "source": [
    "np.roll(np.pad(hist_p_info[1],1),1)"
   ]
  },
  {
   "cell_type": "code",
   "execution_count": 77,
   "id": "949c5d08-a000-4b8f-b4f9-79da5fea8fd8",
   "metadata": {},
   "outputs": [
    {
     "data": {
      "text/plain": [
       "32369.891467991398"
      ]
     },
     "execution_count": 77,
     "metadata": {},
     "output_type": "execute_result"
    }
   ],
   "source": [
    "np.sum(get_proton_flux_pers(get_bin_min_max(hist_p_info)[:,0], get_bin_min_max(hist_p_info)[:,1], \n",
    "                            np.zeros(len(get_bin_min_max(hist_p_info)[:,1])), np.ones(len(get_bin_min_max(hist_p_info)[:,1]))*10, \n",
    "                            np.ones(len(get_bin_min_max(hist_p_info)[:,1]))*1500)*hist_p_info[0]/hist_p_all_info[0])"
   ]
  },
  {
   "cell_type": "code",
   "execution_count": 78,
   "id": "5e83ae7a-222a-4f58-a118-317504506a72",
   "metadata": {},
   "outputs": [
    {
     "data": {
      "text/plain": [
       "82639605.44796683"
      ]
     },
     "execution_count": 78,
     "metadata": {},
     "output_type": "execute_result"
    }
   ],
   "source": [
    "get_proton_flux_pers( 10, 100000, 0, 10, 1500)"
   ]
  },
  {
   "cell_type": "code",
   "execution_count": 79,
   "id": "f9ba7d54-b7fd-4bbc-bcaf-be9a39a37d0e",
   "metadata": {},
   "outputs": [
    {
     "name": "stdout",
     "output_type": "stream",
     "text": [
      "10.0\n",
      "12.067926406393289\n",
      "14.563484775012437\n",
      "17.57510624854792\n",
      "21.209508879201906\n",
      "25.59547922699536\n",
      "30.888435964774818\n",
      "37.2759372031494\n",
      "44.98432668969444\n",
      "54.286754393238596\n",
      "65.51285568595509\n",
      "79.06043210907697\n",
      "95.40954763499938\n",
      "115.1395399326447\n",
      "138.94954943731375\n",
      "167.68329368110065\n",
      "202.35896477251555\n",
      "244.205309454865\n",
      "294.705170255181\n",
      "355.64803062231283\n",
      "429.1934260128778\n",
      "517.9474679231213\n",
      "625.0551925273969\n",
      "754.3120063354615\n",
      "910.2981779915218\n",
      "1098.5411419875584\n",
      "1325.7113655901082\n",
      "1599.8587196060573\n",
      "1930.6977288832495\n",
      "2329.951810515372\n",
      "2811.768697974228\n",
      "3393.221771895326\n",
      "4094.9150623804235\n",
      "4941.713361323833\n",
      "5963.623316594642\n",
      "7196.856730011514\n",
      "8685.11373751352\n",
      "10481.131341546852\n",
      "12648.552168552958\n",
      "15264.179671752303\n",
      "18420.699693267165\n",
      "22229.96482526191\n",
      "26826.957952797275\n",
      "32374.5754281764\n",
      "39069.39937054613\n",
      "47148.663634573895\n",
      "56898.66029018293\n",
      "68664.88450042998\n",
      "82864.27728546843\n"
     ]
    }
   ],
   "source": [
    "e_min_max=get_bin_min_max(hist_p_info)\n",
    "for i in np.arange(len(e_min_max)):\n",
    "    emin=e_min_max[i,0]\n",
    "    emax=e_min_max[i,1]\n",
    "    print(emin)"
   ]
  },
  {
   "cell_type": "code",
   "execution_count": 80,
   "id": "cb5ee6b9-3cf8-406c-ae48-078eae0c7110",
   "metadata": {},
   "outputs": [
    {
     "data": {
      "text/plain": [
       "49"
      ]
     },
     "execution_count": 80,
     "metadata": {},
     "output_type": "execute_result"
    }
   ],
   "source": [
    "len(get_bin_min_max(hist_p_info)[:,1])"
   ]
  },
  {
   "cell_type": "code",
   "execution_count": 81,
   "id": "4cbf25ed-503f-49c8-821f-82c08ba557bb",
   "metadata": {},
   "outputs": [
    {
     "data": {
      "text/plain": [
       "array([0., 0., 0., 0., 0., 0., 0., 0., 0., 0., 0., 0., 0., 0., 0., 0., 0.,\n",
       "       0., 0., 0., 0., 0., 0., 0., 0., 0., 0., 0., 0., 0., 0., 0., 0., 0.,\n",
       "       0., 0., 0., 0., 0., 0., 0., 0., 0., 0., 0., 0., 0., 0., 0.])"
      ]
     },
     "execution_count": 81,
     "metadata": {},
     "output_type": "execute_result"
    }
   ],
   "source": [
    "np.zeros(len(get_bin_min_max(hist_p_info)[:,1]))"
   ]
  },
  {
   "cell_type": "code",
   "execution_count": 82,
   "id": "a6cccccd-5dc7-4812-9b6e-e906af372709",
   "metadata": {},
   "outputs": [
    {
     "data": {
      "text/plain": [
       "array([10., 10., 10., 10., 10., 10., 10., 10., 10., 10., 10., 10., 10.,\n",
       "       10., 10., 10., 10., 10., 10., 10., 10., 10., 10., 10., 10., 10.,\n",
       "       10., 10., 10., 10., 10., 10., 10., 10., 10., 10., 10., 10., 10.,\n",
       "       10., 10., 10., 10., 10., 10., 10., 10., 10., 10.])"
      ]
     },
     "execution_count": 82,
     "metadata": {},
     "output_type": "execute_result"
    }
   ],
   "source": [
    "np.ones(len(get_bin_min_max(hist_p_info)[:,1]))*10"
   ]
  },
  {
   "cell_type": "code",
   "execution_count": 83,
   "id": "2268266f-4fd3-4298-9f8c-44e8301adfcf",
   "metadata": {},
   "outputs": [],
   "source": [
    "n_points_cut = np.arange(15,200,1)"
   ]
  },
  {
   "cell_type": "code",
   "execution_count": 84,
   "id": "735def90-4288-4aec-a7f7-66cb4b6b3ab4",
   "metadata": {},
   "outputs": [],
   "source": [
    "hist_data_proton=[ax09.hist(df_p[df_p['n_points']>=i]['energy']*1000,bins=np.logspace(1, 5, num=50),color='r', alpha=0.5) for i in n_points_cut]"
   ]
  },
  {
   "cell_type": "code",
   "execution_count": 85,
   "id": "08c8a407-67ca-4314-8e1a-3571acaaa993",
   "metadata": {},
   "outputs": [
    {
     "data": {
      "text/plain": [
       "array([ 390.,  543.,  846., 1105., 1505., 1922., 2309., 2900., 3365.,\n",
       "       3948., 4561., 4943., 5429., 5672., 6152., 6060., 6393., 6353.,\n",
       "       6295., 6242., 6150., 6082., 5831., 5203., 5054., 4825., 4456.,\n",
       "       4180., 3862., 3542., 3070., 2818., 2466., 2164., 1869., 1691.,\n",
       "       1539., 1240., 1121.,  951.,  855.,  769.,  615.,  609.,  438.,\n",
       "        387.,  352.,  292.,  313.])"
      ]
     },
     "execution_count": 85,
     "metadata": {},
     "output_type": "execute_result"
    }
   ],
   "source": [
    "hist_data_proton[0][0]"
   ]
  },
  {
   "cell_type": "code",
   "execution_count": 86,
   "id": "145b3a3c-dd27-466c-aa2d-3a98ee1ecf11",
   "metadata": {},
   "outputs": [
    {
     "data": {
      "text/plain": [
       "array([ 15,  16,  17,  18,  19,  20,  21,  22,  23,  24,  25,  26,  27,\n",
       "        28,  29,  30,  31,  32,  33,  34,  35,  36,  37,  38,  39,  40,\n",
       "        41,  42,  43,  44,  45,  46,  47,  48,  49,  50,  51,  52,  53,\n",
       "        54,  55,  56,  57,  58,  59,  60,  61,  62,  63,  64,  65,  66,\n",
       "        67,  68,  69,  70,  71,  72,  73,  74,  75,  76,  77,  78,  79,\n",
       "        80,  81,  82,  83,  84,  85,  86,  87,  88,  89,  90,  91,  92,\n",
       "        93,  94,  95,  96,  97,  98,  99, 100, 101, 102, 103, 104, 105,\n",
       "       106, 107, 108, 109, 110, 111, 112, 113, 114, 115, 116, 117, 118,\n",
       "       119, 120, 121, 122, 123, 124, 125, 126, 127, 128, 129, 130, 131,\n",
       "       132, 133, 134, 135, 136, 137, 138, 139, 140, 141, 142, 143, 144,\n",
       "       145, 146, 147, 148, 149, 150, 151, 152, 153, 154, 155, 156, 157,\n",
       "       158, 159, 160, 161, 162, 163, 164, 165, 166, 167, 168, 169, 170,\n",
       "       171, 172, 173, 174, 175, 176, 177, 178, 179, 180, 181, 182, 183,\n",
       "       184, 185, 186, 187, 188, 189, 190, 191, 192, 193, 194, 195, 196,\n",
       "       197, 198, 199])"
      ]
     },
     "execution_count": 86,
     "metadata": {},
     "output_type": "execute_result"
    }
   ],
   "source": [
    "np.arange(15,200,1)"
   ]
  },
  {
   "cell_type": "code",
   "execution_count": 87,
   "id": "55e7510d-c7b9-4ab7-b4d9-8036afdccef0",
   "metadata": {},
   "outputs": [
    {
     "data": {
      "text/plain": [
       "array([  2.,   6.,   6.,  23.,  25.,  39.,  73.,  92., 120., 163., 222.,\n",
       "       268., 339., 368., 457., 462., 534., 525., 557., 579., 557., 584.,\n",
       "       512., 472., 444., 469., 411., 411., 388., 375., 319., 327., 272.,\n",
       "       238., 249., 259., 238., 200., 218., 183., 181., 188., 144., 136.,\n",
       "       140., 116., 105.,  92.,  98.])"
      ]
     },
     "execution_count": 87,
     "metadata": {},
     "output_type": "execute_result"
    }
   ],
   "source": [
    "hist_data_proton[150][0]"
   ]
  },
  {
   "cell_type": "code",
   "execution_count": 88,
   "id": "a42f6f1b-79d7-43fc-8acc-c9883a1439b0",
   "metadata": {},
   "outputs": [
    {
     "data": {
      "text/plain": [
       "2137.253097399157"
      ]
     },
     "execution_count": 88,
     "metadata": {},
     "output_type": "execute_result"
    }
   ],
   "source": [
    "np.sum(get_proton_flux_pers(get_bin_min_max(hist_p_info)[:,0], get_bin_min_max(hist_p_info)[:,1], \n",
    "                            np.zeros(len(get_bin_min_max(hist_p_info)[:,1])), np.ones(len(get_bin_min_max(hist_p_info)[:,1]))*10, \n",
    "                            np.ones(len(get_bin_min_max(hist_p_info)[:,1]))*1500)*hist_data_proton[150][0]/hist_p_all_info[0])"
   ]
  },
  {
   "cell_type": "code",
   "execution_count": 89,
   "id": "c12fe455-6396-4926-b927-b774d7a99c76",
   "metadata": {},
   "outputs": [],
   "source": [
    "datay=[np.sum(get_proton_flux_pers(get_bin_min_max(hist_p_info)[:,0], get_bin_min_max(hist_p_info)[:,1], \n",
    "                            np.zeros(len(get_bin_min_max(hist_p_info)[:,1])), np.ones(len(get_bin_min_max(hist_p_info)[:,1]))*10, \n",
    "                            np.ones(len(get_bin_min_max(hist_p_info)[:,1]))*1500)*hist_data_proton[i][0]/hist_p_all_info[0]) for i in np.arange(len(n_points_cut))]"
   ]
  },
  {
   "cell_type": "code",
   "execution_count": 93,
   "id": "a50b69ff-2509-4708-97fa-363ecd88a365",
   "metadata": {},
   "outputs": [
    {
     "data": {
      "text/plain": [
       "<matplotlib.collections.LineCollection at 0x79399495f380>"
      ]
     },
     "execution_count": 93,
     "metadata": {},
     "output_type": "execute_result"
    },
    {
     "data": {
      "image/png": "[encoded data removed]",
      "text/plain": [
       "<Figure size 700x700 with 1 Axes>"
      ]
     },
     "metadata": {},
     "output_type": "display_data"
    }
   ],
   "source": [
    "fig, ax12 = plt.subplots(figsize=(7,7))\n",
    "\n",
    "ax12.plot(n_points_cut,datay, 'o-', c='k', lw =2, mfc='red', mec='k')\n",
    "ax12.plot(rate_vs_th, 'o-', c='k', lw =2, mfc='red', mec='k')\n",
    "\n",
    "#\n",
    "ax12.yaxis.grid(True)\n",
    "ax12.xaxis.grid(True)\n",
    "ax12.set_yscale('log')\n",
    "ax12.set_xlim(10,70)\n",
    "\n",
    "#ax12.set_xscale('log')\n",
    "#\n",
    "#plt.hlines(30000.0,0,34, color='g', linestyle='-.', linewidth=2, label='30 kHz rate')\n",
    "plt.vlines(34,1,30000.0, color='g', linestyle='--', linewidth=2, label='threshold')\n",
    "plt.vlines(38,1,30000.0, color='g', linestyle='--', linewidth=2, label='threshold')\n",
    "#\n",
    "#plt.legend()\n",
    "#plt.title(\"sdsdsd: \"r'$\\mu$')\n",
    "#plt.title('NSB at 386 MHz')\n",
    "#\n",
    "#ax03.set(xlabel='Number of points in the DBSCAN cluster', ylabel='Rete, Hz')"
   ]
  },
  {
   "cell_type": "code",
   "execution_count": 82,
   "id": "a0adfbfe-e92c-458f-9e96-a2ece0df52fa",
   "metadata": {},
   "outputs": [],
   "source": [
    "#hist_g_all_info=ax09.hist(generate_random_1_over_x_squared(int(71*1e+5), 5, 50000),bins=np.logspace(0, 5, num=50),color='b', alpha=0.3)"
   ]
  },
  {
   "cell_type": "code",
   "execution_count": 83,
   "id": "5a126737-28bb-4fb1-b823-531ecf3e8606",
   "metadata": {},
   "outputs": [
    {
     "data": {
      "text/plain": [
       "[Text(0.5, 0, 'E, GeV'), Text(0, 0.5, '')]"
      ]
     },
     "execution_count": 83,
     "metadata": {},
     "output_type": "execute_result"
    },
    {
     "data": {
      "image/png": "[encoded data removed]",
      "text/plain": [
       "<Figure size 700x700 with 1 Axes>"
      ]
     },
     "metadata": {},
     "output_type": "display_data"
    }
   ],
   "source": [
    "fig, ax13 = plt.subplots(figsize=(7,7))\n",
    "#\n",
    "hist_g_info=ax13.hist(df_g[df_g['n_points']>30]['energy']*1000,bins=np.logspace(0, 5, num=50),color='r', alpha=0.3)\n",
    "hist_g_all_info=ax13.hist(generate_random_1_over_x_squared(int(71*1e+5), 5, 50000),bins=np.logspace(0, 5, num=50),color='b', alpha=0.3)\n",
    "#\n",
    "ax13.yaxis.grid(True)\n",
    "ax13.xaxis.grid(True)\n",
    "ax13.set_yscale('log')\n",
    "ax13.set_xscale('log')\n",
    "#\n",
    "ax13.set(xlabel='E, GeV', ylabel='')"
   ]
  },
  {
   "cell_type": "code",
   "execution_count": 84,
   "id": "a85abdb1-e819-44f8-917c-680cf1cd91f1",
   "metadata": {},
   "outputs": [
    {
     "name": "stderr",
     "output_type": "stream",
     "text": [
      "/tmp/ipykernel_4970/2593744265.py:3: RuntimeWarning: invalid value encountered in divide\n",
      "  ax14.plot(get_bin_centers(hist_p_info),hist_g_info[0]/hist_g_all_info[0], 'o-', c='k', lw =2, mfc='red', mec='k')\n"
     ]
    },
    {
     "data": {
      "image/png": "[encoded data removed]",
      "text/plain": [
       "<Figure size 700x700 with 1 Axes>"
      ]
     },
     "metadata": {},
     "output_type": "display_data"
    }
   ],
   "source": [
    "fig, ax14 = plt.subplots(figsize=(7,7))\n",
    "\n",
    "ax14.plot(get_bin_centers(hist_p_info),hist_g_info[0]/hist_g_all_info[0], 'o-', c='k', lw =2, mfc='red', mec='k')\n",
    "#ax14.plot(get_bin_centers(hist_p_info),hist_g_info[0]/hist_g_all_info[0])\n",
    "#\n",
    "ax14.yaxis.grid(True)\n",
    "ax14.xaxis.grid(True)\n",
    "ax14.set_yscale('log')\n",
    "ax14.set_xscale('log')\n",
    "#\n",
    "#plt.hlines(30000.0,0,34, color='g', linestyle='-.', linewidth=2, label='30 kHz rate')\n",
    "#plt.vlines(34,1,30000.0, color='g', linestyle='--', linewidth=2, label='threshold')\n",
    "#\n",
    "#plt.legend()\n",
    "#plt.title(\"sdsdsd: \"r'$\\mu$')\n",
    "#plt.title('NSB at 386 MHz')\n",
    "#\n",
    "#ax03.set(xlabel='Number of points in the DBSCAN cluster', ylabel='Rete, Hz')"
   ]
  },
  {
   "cell_type": "code",
   "execution_count": 85,
   "id": "62444880-bd49-49f9-b024-fcf1e3e796a4",
   "metadata": {},
   "outputs": [
    {
     "data": {
      "text/plain": [
       "array([0.000000e+00, 0.000000e+00, 0.000000e+00, 0.000000e+00,\n",
       "       0.000000e+00, 0.000000e+00, 2.461900e+05, 1.436013e+06,\n",
       "       1.134803e+06, 8.969930e+05, 7.085030e+05, 5.603500e+05,\n",
       "       4.438760e+05, 3.506020e+05, 2.767960e+05, 2.191400e+05,\n",
       "       1.729260e+05, 1.374540e+05, 1.083480e+05, 8.532100e+04,\n",
       "       6.778300e+04, 5.363000e+04, 4.248400e+04, 3.337600e+04,\n",
       "       2.651000e+04, 2.077300e+04, 1.649200e+04, 1.314100e+04,\n",
       "       1.014200e+04, 8.265000e+03, 6.576000e+03, 5.170000e+03,\n",
       "       4.062000e+03, 3.142000e+03, 2.430000e+03, 1.959000e+03,\n",
       "       1.543000e+03, 1.239000e+03, 9.710000e+02, 7.740000e+02,\n",
       "       6.060000e+02, 5.100000e+02, 3.710000e+02, 2.880000e+02,\n",
       "       2.380000e+02, 1.980000e+02, 1.200000e+01, 0.000000e+00,\n",
       "       0.000000e+00])"
      ]
     },
     "execution_count": 85,
     "metadata": {},
     "output_type": "execute_result"
    }
   ],
   "source": [
    "hist_g_all_info[0]"
   ]
  },
  {
   "cell_type": "code",
   "execution_count": null,
   "id": "f941c34f-7109-4fd7-b114-ccbbe63d7066",
   "metadata": {},
   "outputs": [],
   "source": []
  }
 ],
 "metadata": {
  "kernelspec": {
   "display_name": "Python 3 (ipykernel)",
   "language": "python",
   "name": "python3"
  },
  "language_info": {
   "codemirror_mode": {
    "name": "ipython",
    "version": 3
   },
   "file_extension": ".py",
   "mimetype": "text/x-python",
   "name": "python",
   "nbconvert_exporter": "python",
   "pygments_lexer": "ipython3",
   "version": "3.12.3"
  }
 },
 "nbformat": 4,
 "nbformat_minor": 5
}
